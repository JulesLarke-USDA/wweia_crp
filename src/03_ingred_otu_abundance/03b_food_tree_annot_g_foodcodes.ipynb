{
 "cells": [
  {
   "cell_type": "markdown",
   "id": "fd329607",
   "metadata": {},
   "source": [
    "### Title: 03_food_tree_annot_g_foodcodes\n",
    "### Purpose: Generate file to annotate food tree figure with grams of intake in graphlan\n",
    "### Date: April 5, 2024\n",
    "### Author: Jules Larke"
   ]
  },
  {
   "cell_type": "code",
   "execution_count": 1,
   "id": "b268c799",
   "metadata": {},
   "outputs": [],
   "source": [
    "import pandas as pd\n",
    "import numpy as np"
   ]
  },
  {
   "cell_type": "code",
   "execution_count": 2,
   "id": "53562a24",
   "metadata": {},
   "outputs": [],
   "source": [
    "# load data \n",
    "otu = pd.read_csv('../../data/03/foodcode/foodcode_otu_e_adjust_drywt_no_water.txt', sep='\\t')"
   ]
  },
  {
   "cell_type": "code",
   "execution_count": 4,
   "id": "fa10d0b2",
   "metadata": {},
   "outputs": [],
   "source": [
    "otu['ring_color'] = np.where(otu['clade_name'].str.contains('L1_Meat_Poultry_Fish_and_Mixtures'), '#D43F1F', 0)\n",
    "otu['ring_color'] = np.where(otu['clade_name'].str.contains('L1_Grain_Product'), '#FE9700', otu['ring_color'])\n",
    "otu['ring_color'] = np.where(otu['clade_name'].str.contains('L1_Vegetables'), '#5DD047', otu['ring_color'])\n",
    "otu['ring_color'] = np.where(otu['clade_name'].str.contains('L1_Milk_and_Milk_Products'), '#00A2F2', otu['ring_color'])\n",
    "otu['ring_color'] = np.where(otu['clade_name'].str.contains('L1_Sugars_Sweets_and_Beverages'), '#C91ACB', otu['ring_color'])\n",
    "otu['ring_color'] = np.where(otu['clade_name'].str.contains('L1_Fruits'), '#CBD12D', otu['ring_color'])\n",
    "otu['ring_color'] = np.where(otu['clade_name'].str.contains('L1_Beans_Peas_Other_Legumes_Nuts_and_Seeds'), '#662A00', otu['ring_color'])\n",
    "otu['ring_color'] = np.where(otu['clade_name'].str.contains('L1_Eggs'), '#A8863A', otu['ring_color'])\n",
    "otu['ring_color'] = np.where(otu['clade_name'].str.contains('L1_Fats_Oils_Salad_Dressings_Condiments_and_Sauces'), '#737373', otu['ring_color'])"
   ]
  },
  {
   "cell_type": "code",
   "execution_count": 5,
   "id": "e5d0bcd7",
   "metadata": {},
   "outputs": [],
   "source": [
    "otu['clade_name'] = otu['clade_name'].str.split('|', expand=True)[5] # get ingredient descriptions\n",
    "otu.drop(columns=['Main.food.description'], inplace=True)\n",
    "ring_color = otu[['clade_name', 'ring_color']]"
   ]
  },
  {
   "cell_type": "code",
   "execution_count": 6,
   "id": "c63a5474",
   "metadata": {},
   "outputs": [],
   "source": [
    "# convert to long format\n",
    "x = otu.transpose()\n",
    "new_header = x.iloc[0] #grab the first row for the header\n",
    "x = x[1:] #take the data less the header row\n",
    "x.columns = new_header #set the header row as the df header"
   ]
  },
  {
   "cell_type": "code",
   "execution_count": 29,
   "id": "c2277ed2",
   "metadata": {},
   "outputs": [],
   "source": [
    "means = x.iloc[0:-1,].mean().reset_index()\n",
    "\n",
    "mean_color = means.merge(ring_color, on='clade_name')\n",
    "mean_color['level'] = 1\n",
    "mean_color['ht'] = 'ring_height'\n",
    "mean_color['color'] = 'ring_color'\n",
    "y = mean_color[['clade_name', 'color', 'level', 'ring_color']]\n",
    "z = mean_color[['clade_name', 'ht', 'level', 0]]\n",
    "z.columns = y.columns"
   ]
  },
  {
   "cell_type": "code",
   "execution_count": 30,
   "id": "40a3f029",
   "metadata": {},
   "outputs": [
    {
     "data": {
      "text/html": [
       "<div>\n",
       "<style scoped>\n",
       "    .dataframe tbody tr th:only-of-type {\n",
       "        vertical-align: middle;\n",
       "    }\n",
       "\n",
       "    .dataframe tbody tr th {\n",
       "        vertical-align: top;\n",
       "    }\n",
       "\n",
       "    .dataframe thead th {\n",
       "        text-align: right;\n",
       "    }\n",
       "</style>\n",
       "<table border=\"1\" class=\"dataframe\">\n",
       "  <thead>\n",
       "    <tr style=\"text-align: right;\">\n",
       "      <th></th>\n",
       "      <th>clade_name</th>\n",
       "      <th>color</th>\n",
       "      <th>level</th>\n",
       "      <th>ring_color</th>\n",
       "    </tr>\n",
       "  </thead>\n",
       "  <tbody>\n",
       "    <tr>\n",
       "      <th>6195</th>\n",
       "      <td>soft_drink_colatype</td>\n",
       "      <td>ring_height</td>\n",
       "      <td>1</td>\n",
       "      <td>5.600614</td>\n",
       "    </tr>\n",
       "    <tr>\n",
       "      <th>5</th>\n",
       "      <td>milk_cows_fluid_2_fat</td>\n",
       "      <td>ring_height</td>\n",
       "      <td>1</td>\n",
       "      <td>2.642818</td>\n",
       "    </tr>\n",
       "    <tr>\n",
       "      <th>4284</th>\n",
       "      <td>banana_raw</td>\n",
       "      <td>ring_height</td>\n",
       "      <td>1</td>\n",
       "      <td>2.605619</td>\n",
       "    </tr>\n",
       "    <tr>\n",
       "      <th>6273</th>\n",
       "      <td>beer_include_ale</td>\n",
       "      <td>ring_height</td>\n",
       "      <td>1</td>\n",
       "      <td>2.427140</td>\n",
       "    </tr>\n",
       "    <tr>\n",
       "      <th>2474</th>\n",
       "      <td>bread_white</td>\n",
       "      <td>ring_height</td>\n",
       "      <td>1</td>\n",
       "      <td>2.359507</td>\n",
       "    </tr>\n",
       "    <tr>\n",
       "      <th>2680</th>\n",
       "      <td>tortilla_corn</td>\n",
       "      <td>ring_height</td>\n",
       "      <td>1</td>\n",
       "      <td>2.296752</td>\n",
       "    </tr>\n",
       "    <tr>\n",
       "      <th>6206</th>\n",
       "      <td>soft_drink_fruitflavored_caffeine_free</td>\n",
       "      <td>ring_height</td>\n",
       "      <td>1</td>\n",
       "      <td>2.268125</td>\n",
       "    </tr>\n",
       "    <tr>\n",
       "      <th>1</th>\n",
       "      <td>milk_cows_fluid_whole</td>\n",
       "      <td>ring_height</td>\n",
       "      <td>1</td>\n",
       "      <td>1.964636</td>\n",
       "    </tr>\n",
       "    <tr>\n",
       "      <th>2522</th>\n",
       "      <td>roll_white_soft</td>\n",
       "      <td>ring_height</td>\n",
       "      <td>1</td>\n",
       "      <td>1.923224</td>\n",
       "    </tr>\n",
       "    <tr>\n",
       "      <th>4531</th>\n",
       "      <td>white_potato_french_fries_from_frozen_deepfried</td>\n",
       "      <td>ring_height</td>\n",
       "      <td>1</td>\n",
       "      <td>1.897954</td>\n",
       "    </tr>\n",
       "  </tbody>\n",
       "</table>\n",
       "</div>"
      ],
      "text/plain": [
       "                                           clade_name        color  level  \\\n",
       "6195                              soft_drink_colatype  ring_height      1   \n",
       "5                               milk_cows_fluid_2_fat  ring_height      1   \n",
       "4284                                       banana_raw  ring_height      1   \n",
       "6273                                 beer_include_ale  ring_height      1   \n",
       "2474                                      bread_white  ring_height      1   \n",
       "2680                                    tortilla_corn  ring_height      1   \n",
       "6206           soft_drink_fruitflavored_caffeine_free  ring_height      1   \n",
       "1                               milk_cows_fluid_whole  ring_height      1   \n",
       "2522                                  roll_white_soft  ring_height      1   \n",
       "4531  white_potato_french_fries_from_frozen_deepfried  ring_height      1   \n",
       "\n",
       "      ring_color  \n",
       "6195    5.600614  \n",
       "5       2.642818  \n",
       "4284    2.605619  \n",
       "6273    2.427140  \n",
       "2474    2.359507  \n",
       "2680    2.296752  \n",
       "6206    2.268125  \n",
       "1       1.964636  \n",
       "2522    1.923224  \n",
       "4531    1.897954  "
      ]
     },
     "execution_count": 30,
     "metadata": {},
     "output_type": "execute_result"
    }
   ],
   "source": [
    "z.sort_values('ring_color', ascending=False).head(10)"
   ]
  },
  {
   "cell_type": "code",
   "execution_count": 32,
   "id": "c60510b7",
   "metadata": {},
   "outputs": [],
   "source": [
    "pd.concat([z,y]).to_csv('../../data/03/foodcode_g_annot.txt', sep='\\t', index=None, header=None)"
   ]
  }
 ],
 "metadata": {
  "kernelspec": {
   "display_name": "Python 3 (ipykernel)",
   "language": "python",
   "name": "python3"
  },
  "language_info": {
   "codemirror_mode": {
    "name": "ipython",
    "version": 3
   },
   "file_extension": ".py",
   "mimetype": "text/x-python",
   "name": "python",
   "nbconvert_exporter": "python",
   "pygments_lexer": "ipython3",
   "version": "3.8.8"
  }
 },
 "nbformat": 4,
 "nbformat_minor": 5
}
