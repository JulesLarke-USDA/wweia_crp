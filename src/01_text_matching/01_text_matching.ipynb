{
 "cells": [
  {
   "cell_type": "markdown",
   "id": "ab289f19",
   "metadata": {},
   "source": [
    "### Title: 01_text_matching\n",
    "### Purpose: Match FNDDS ingredient descriptions to Food Tree taxa\n",
    "### Date: March 14, 2024\n",
    "### Author: Jules Larke"
   ]
  },
  {
   "cell_type": "code",
   "execution_count": 2,
   "id": "91fac645",
   "metadata": {},
   "outputs": [],
   "source": [
    "import pandas as pd\n",
    "import string\n",
    "import re\n",
    "import nltk\n",
    "nltk.data.path.append('/Users/jules.larke/opt/anaconda3/nltk_data')\n",
    "wn = nltk.WordNetLemmatizer()"
   ]
  },
  {
   "cell_type": "code",
   "execution_count": 3,
   "id": "8e1d1be6",
   "metadata": {},
   "outputs": [],
   "source": [
    "from polyfuzz.models import TFIDF\n",
    "from polyfuzz import PolyFuzz"
   ]
  },
  {
   "cell_type": "code",
   "execution_count": 4,
   "id": "638ebf92",
   "metadata": {
    "scrolled": true
   },
   "outputs": [],
   "source": [
    "taxon = pd.read_csv('../../data/01/NodeLabelsMCT_edit.txt', sep='\\t')"
   ]
  },
  {
   "cell_type": "code",
   "execution_count": 5,
   "id": "f265bff0",
   "metadata": {},
   "outputs": [],
   "source": [
    "taxon['Main.food.description'] = taxon['Main.food.description'].str.replace('_', ' ')"
   ]
  },
  {
   "cell_type": "code",
   "execution_count": 6,
   "id": "211b719c",
   "metadata": {},
   "outputs": [],
   "source": [
    "ingredients = pd.read_csv('../../data/01/fndds_all_ingredient_nutrient_values.csv', usecols=['Ingredient code', 'Ingredient description'])"
   ]
  },
  {
   "cell_type": "code",
   "execution_count": 7,
   "id": "8d2ac184",
   "metadata": {
    "scrolled": false
   },
   "outputs": [],
   "source": [
    "punct = string.punctuation[0:11] + string.punctuation[13:] # remove '-' from the list of punctuation.\n",
    "stopwords = ['','and', 'to', 'not', 'no', 'in', 'with', 'or', 'only', 'cooking', 'as', 'food', 'distribution', 'form', 'a', 'd', 'ns', 'nfs']\n",
    "\n",
    "def clean_text(text):\n",
    "    text = \"\".join([word for word in text if word not in punct])\n",
    "    tokens = re.split('[-\\W+]', text)\n",
    "    text = [word for word in tokens if word not in stopwords]\n",
    "    text = [wn.lemmatize(word) for word in tokens if word not in stopwords]\n",
    "    return \"default\" if text is [] else ' '.join(set(text))\n",
    "\n",
    "taxon['taxon_clean'] = taxon['Main.food.description'].apply(lambda x: clean_text(x.lower()))\n",
    "ingredients['ingredient_clean'] = ingredients['Ingredient description'].apply(lambda x: clean_text(x.lower()))"
   ]
  },
  {
   "cell_type": "code",
   "execution_count": 8,
   "id": "cc627966",
   "metadata": {},
   "outputs": [],
   "source": [
    "taxon_tokens = taxon['taxon_clean'].to_list()\n",
    "ingredient_tokens = ingredients['ingredient_clean'].to_list()"
   ]
  },
  {
   "cell_type": "code",
   "execution_count": 9,
   "id": "b3910b7f",
   "metadata": {},
   "outputs": [],
   "source": [
    "tfidf = TFIDF(n_gram_range=(1, 3))\n",
    "model = PolyFuzz(tfidf).match(ingredient_tokens, taxon_tokens)"
   ]
  },
  {
   "cell_type": "code",
   "execution_count": 10,
   "id": "ed192f58",
   "metadata": {},
   "outputs": [],
   "source": [
    "match = model.get_matches()\n",
    "match.rename(columns={'From':'ingredient_clean', 'To':'taxon_clean'},inplace=True)"
   ]
  },
  {
   "cell_type": "code",
   "execution_count": 11,
   "id": "d61b78ea",
   "metadata": {
    "scrolled": true
   },
   "outputs": [
    {
     "data": {
      "text/html": [
       "<div>\n",
       "<style scoped>\n",
       "    .dataframe tbody tr th:only-of-type {\n",
       "        vertical-align: middle;\n",
       "    }\n",
       "\n",
       "    .dataframe tbody tr th {\n",
       "        vertical-align: top;\n",
       "    }\n",
       "\n",
       "    .dataframe thead th {\n",
       "        text-align: right;\n",
       "    }\n",
       "</style>\n",
       "<table border=\"1\" class=\"dataframe\">\n",
       "  <thead>\n",
       "    <tr style=\"text-align: right;\">\n",
       "      <th></th>\n",
       "      <th>ingredient_clean</th>\n",
       "      <th>taxon_clean</th>\n",
       "      <th>Similarity</th>\n",
       "      <th>Level.code</th>\n",
       "      <th>Main.food.description</th>\n",
       "    </tr>\n",
       "  </thead>\n",
       "  <tbody>\n",
       "    <tr>\n",
       "      <th>0</th>\n",
       "      <td>butter salted</td>\n",
       "      <td>butter</td>\n",
       "      <td>0.755</td>\n",
       "      <td>81101</td>\n",
       "      <td>Butter</td>\n",
       "    </tr>\n",
       "    <tr>\n",
       "      <th>1</th>\n",
       "      <td>butter whipped salt</td>\n",
       "      <td>butter whipped</td>\n",
       "      <td>0.931</td>\n",
       "      <td>81107</td>\n",
       "      <td>Butter whipped</td>\n",
       "    </tr>\n",
       "    <tr>\n",
       "      <th>2</th>\n",
       "      <td>butter oil anhydrous</td>\n",
       "      <td>butter</td>\n",
       "      <td>0.472</td>\n",
       "      <td>81101</td>\n",
       "      <td>Butter</td>\n",
       "    </tr>\n",
       "    <tr>\n",
       "      <th>3</th>\n",
       "      <td>cheese blue</td>\n",
       "      <td>cheese</td>\n",
       "      <td>0.694</td>\n",
       "      <td>14</td>\n",
       "      <td>Cheeses</td>\n",
       "    </tr>\n",
       "    <tr>\n",
       "      <th>4</th>\n",
       "      <td>cheese brick</td>\n",
       "      <td>brick</td>\n",
       "      <td>0.731</td>\n",
       "      <td>14102</td>\n",
       "      <td>Brick</td>\n",
       "    </tr>\n",
       "    <tr>\n",
       "      <th>...</th>\n",
       "      <td>...</td>\n",
       "      <td>...</td>\n",
       "      <td>...</td>\n",
       "      <td>...</td>\n",
       "      <td>...</td>\n",
       "    </tr>\n",
       "    <tr>\n",
       "      <th>3220</th>\n",
       "      <td>pie apple canned filling</td>\n",
       "      <td>pie apple</td>\n",
       "      <td>0.651</td>\n",
       "      <td>53301</td>\n",
       "      <td>Pie apple</td>\n",
       "    </tr>\n",
       "    <tr>\n",
       "      <th>3221</th>\n",
       "      <td>lunch whole chicken breaded school patty grain</td>\n",
       "      <td>stick whole bread wheat</td>\n",
       "      <td>0.446</td>\n",
       "      <td>51306</td>\n",
       "      <td>Bread stick whole wheat</td>\n",
       "    </tr>\n",
       "    <tr>\n",
       "      <th>3222</th>\n",
       "      <td>lean separable beef all cooked fat grade stew ...</td>\n",
       "      <td>cereal cooked grain</td>\n",
       "      <td>0.417</td>\n",
       "      <td>576</td>\n",
       "      <td>Cereal grains not cooked</td>\n",
       "    </tr>\n",
       "    <tr>\n",
       "      <th>3223</th>\n",
       "      <td>added salt bean baked canned</td>\n",
       "      <td>bean baked</td>\n",
       "      <td>0.678</td>\n",
       "      <td>41201</td>\n",
       "      <td>Baked beans</td>\n",
       "    </tr>\n",
       "    <tr>\n",
       "      <th>3224</th>\n",
       "      <td>chorizo pork pan cooked fried link sausage ground</td>\n",
       "      <td>sausage</td>\n",
       "      <td>0.442</td>\n",
       "      <td>2522</td>\n",
       "      <td>Sausages</td>\n",
       "    </tr>\n",
       "  </tbody>\n",
       "</table>\n",
       "<p>3225 rows × 5 columns</p>\n",
       "</div>"
      ],
      "text/plain": [
       "                                       ingredient_clean  \\\n",
       "0                                         butter salted   \n",
       "1                                   butter whipped salt   \n",
       "2                                  butter oil anhydrous   \n",
       "3                                           cheese blue   \n",
       "4                                          cheese brick   \n",
       "...                                                 ...   \n",
       "3220                           pie apple canned filling   \n",
       "3221     lunch whole chicken breaded school patty grain   \n",
       "3222  lean separable beef all cooked fat grade stew ...   \n",
       "3223                       added salt bean baked canned   \n",
       "3224  chorizo pork pan cooked fried link sausage ground   \n",
       "\n",
       "                  taxon_clean  Similarity  Level.code  \\\n",
       "0                      butter       0.755       81101   \n",
       "1              butter whipped       0.931       81107   \n",
       "2                      butter       0.472       81101   \n",
       "3                      cheese       0.694          14   \n",
       "4                       brick       0.731       14102   \n",
       "...                       ...         ...         ...   \n",
       "3220                pie apple       0.651       53301   \n",
       "3221  stick whole bread wheat       0.446       51306   \n",
       "3222      cereal cooked grain       0.417         576   \n",
       "3223               bean baked       0.678       41201   \n",
       "3224                  sausage       0.442        2522   \n",
       "\n",
       "         Main.food.description  \n",
       "0                       Butter  \n",
       "1               Butter whipped  \n",
       "2                       Butter  \n",
       "3                      Cheeses  \n",
       "4                        Brick  \n",
       "...                        ...  \n",
       "3220                 Pie apple  \n",
       "3221   Bread stick whole wheat  \n",
       "3222  Cereal grains not cooked  \n",
       "3223               Baked beans  \n",
       "3224                  Sausages  \n",
       "\n",
       "[3225 rows x 5 columns]"
      ]
     },
     "execution_count": 11,
     "metadata": {},
     "output_type": "execute_result"
    }
   ],
   "source": [
    "matched_1 = match.merge(taxon, on='taxon_clean', how='left')\n",
    "matched_1.drop_duplicates(subset='ingredient_clean')\n",
    "matched_1"
   ]
  },
  {
   "cell_type": "code",
   "execution_count": 12,
   "id": "f88315cf",
   "metadata": {},
   "outputs": [],
   "source": [
    "matched_2 = ingredients.merge(matched_1, on='ingredient_clean', how='left').drop_duplicates(subset='Ingredient description')"
   ]
  },
  {
   "cell_type": "code",
   "execution_count": 13,
   "id": "3af488a6",
   "metadata": {},
   "outputs": [],
   "source": [
    "matched_2.rename(columns={'Main.food.description':'taxon.food.description'},inplace=True)"
   ]
  },
  {
   "cell_type": "code",
   "execution_count": 14,
   "id": "91e500bf",
   "metadata": {},
   "outputs": [],
   "source": [
    "matched_2.to_csv('../../data/01/text_matching_052223.csv', index=None)"
   ]
  },
  {
   "attachments": {},
   "cell_type": "markdown",
   "id": "0cbb7537",
   "metadata": {},
   "source": [
    "## text_matching_052223.csv will undergo manual curation to determine appropriateness of matches and edits for non-appropriate matches \n",
    "## Output file following manual matching: updated_taxonomy_080323.csv"
   ]
  }
 ],
 "metadata": {
  "kernelspec": {
   "display_name": "Python 3 (ipykernel)",
   "language": "python",
   "name": "python3"
  },
  "language_info": {
   "codemirror_mode": {
    "name": "ipython",
    "version": 3
   },
   "file_extension": ".py",
   "mimetype": "text/x-python",
   "name": "python",
   "nbconvert_exporter": "python",
   "pygments_lexer": "ipython3",
   "version": "3.8.8"
  }
 },
 "nbformat": 4,
 "nbformat_minor": 5
}
