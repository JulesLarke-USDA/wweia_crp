{
 "cells": [
  {
   "cell_type": "code",
   "execution_count": 1,
   "id": "dbd650f1-391d-449e-a44e-f657458e4baa",
   "metadata": {},
   "outputs": [
    {
     "name": "stderr",
     "output_type": "stream",
     "text": [
      "2024-05-16 15:32:54.402359: I tensorflow/core/platform/cpu_feature_guard.cc:182] This TensorFlow binary is optimized to use available CPU instructions in performance-critical operations.\n",
      "To enable the following instructions: AVX2 AVX512F AVX512_VNNI FMA, in other operations, rebuild TensorFlow with the appropriate compiler flags.\n"
     ]
    }
   ],
   "source": [
    "import tensorflow as tf\n",
    "from tensorflow import keras\n",
    "import keras_tuner as kt\n",
    "import pandas as pd\n",
    "import numpy as np"
   ]
  },
  {
   "cell_type": "code",
   "execution_count": 3,
   "id": "1a4100d8-439e-4b7e-89db-df7e769637b8",
   "metadata": {},
   "outputs": [],
   "source": [
    "## load data\n",
    "x_train = pd.read_csv(\"../../../data/04/processed_for_ml/binary_class/x_train_taxahfe_no_sf.csv\", index_col=0, header=0)\n",
    "y_train = pd.read_csv(\"../../../data/04/processed_for_ml/binary_class/y_train_class.csv\", index_col = 0, header = 0 )\n",
    "sw_train = pd.read_csv(\"../../../data/04/processed_for_ml/binary_class/sw_train_taxahfe.csv\", index_col = 0, header = 0 )\n",
    "x_test = pd.read_csv(\"../../../data/04/processed_for_ml/binary_class/x_test_no_sf.csv\", index_col=0, header=0)\n",
    "y_test = pd.read_csv(\"../../../data/04/processed_for_ml/binary_class/y_test_class.csv\", index_col = 0, header = 0 )\n",
    "x_test = x_test[x_train.columns] # reordered columns to match (column ordered changed during taxahfe)\n",
    "\n",
    "x_train = x_train.sort_index(axis = 0)\n",
    "y_train = y_train.sort_index(axis = 0)\n",
    "sw_train = sw_train.sort_index(axis = 0)\n",
    "x_test = x_test.sort_index(axis = 0)\n",
    "y_test = y_test.sort_index(axis = 0)\n",
    "\n",
    "x_train = x_train.reset_index()\n",
    "y_train = y_train.reset_index()\n",
    "sw_train = sw_train.reset_index()\n",
    "x_test = x_test.reset_index()\n",
    "y_test = y_test.reset_index()\n",
    "\n",
    "x_train = x_train.drop(columns='SEQN')\n",
    "y_train = y_train.drop(columns='SEQN')\n",
    "sw_train = sw_train.drop(columns='SEQN')\n",
    "x_test = x_test.drop(columns='SEQN')\n",
    "y_test = y_test.drop(columns='SEQN')\n",
    "\n",
    "x_train = np.array(x_train)\n",
    "y_train = np.array(y_train)\n",
    "sample_weights = np.array(sw_train)\n",
    "x_test = np.array(x_test)\n",
    "y_test = np.array(y_test)"
   ]
  },
  {
   "cell_type": "code",
   "execution_count": 4,
   "id": "282546cc-c9e0-440e-a9d5-cad991f39079",
   "metadata": {},
   "outputs": [],
   "source": [
    "keras.utils.set_random_seed(0)"
   ]
  },
  {
   "cell_type": "code",
   "execution_count": 5,
   "id": "412eaefd-8dc2-451a-abaa-75978868d405",
   "metadata": {},
   "outputs": [],
   "source": [
    "acc = keras.metrics.Accuracy()"
   ]
  },
  {
   "cell_type": "code",
   "execution_count": 6,
   "id": "d9da4935-3f86-4425-a236-ebba519e0e92",
   "metadata": {},
   "outputs": [],
   "source": [
    "# baseline model\n",
    "def model_builder(hp):\n",
    "\t# create model\n",
    "    model = keras.Sequential()\n",
    "    model.add(keras.layers.BatchNormalization(input_shape=(37,)))\n",
    "\n",
    "\t# Tune the number of units in the first Dense layer\n",
    "    hp_units_1 = hp.Int('units_1', min_value=32, max_value=256, step=16)\n",
    "    model.add(keras.layers.Dense(units=hp_units_1, activation='relu'))\n",
    "    model.add(keras.layers.BatchNormalization())\n",
    "    model.add(keras.layers.Dense(1, activation='sigmoid'))\n",
    "\n",
    "    \n",
    "    # Tune the learning rate for the optimizer\n",
    "    # Choose an optimal value from 0.01, 0.001, or 0.0001\n",
    "    hp_learning_rate = hp.Choice('learning_rate', values=[1e-2, 1e-3, 1e-4])\n",
    "\n",
    "\t# Compile model\n",
    "    model.compile(loss='binary_crossentropy', optimizer=keras.optimizers.Adam(learning_rate=hp_learning_rate), sample_weight_mode=sample_weights, metrics=['accuracy'])\n",
    "    return model"
   ]
  },
  {
   "cell_type": "code",
   "execution_count": 7,
   "id": "d08505c4-ce6c-4277-ad2f-77449146f3ee",
   "metadata": {},
   "outputs": [],
   "source": [
    "tuner = kt.Hyperband(model_builder,\n",
    "                     objective=kt.Objective(\"val_accuracy\", direction=\"max\"),\n",
    "                     max_epochs=20,\n",
    "                     factor=3,\n",
    "                     directory='tune',\n",
    "                     project_name='binary_class')"
   ]
  },
  {
   "cell_type": "code",
   "execution_count": 8,
   "id": "f3c6cf1e-b11c-4552-adcc-938370472299",
   "metadata": {},
   "outputs": [],
   "source": [
    "stop_early = tf.keras.callbacks.EarlyStopping(monitor='val_accuracy', patience=5)\n",
    "lr_curve = tf.keras.callbacks.ReduceLROnPlateau(\n",
    "    monitor='val_accuracy',\n",
    "    factor=0.1,\n",
    "    patience=5)"
   ]
  },
  {
   "cell_type": "code",
   "execution_count": 9,
   "id": "09be1855-e4f9-42bc-9668-7c03c86e2d3c",
   "metadata": {},
   "outputs": [
    {
     "name": "stdout",
     "output_type": "stream",
     "text": [
      "Trial 30 Complete [00h 00m 08s]\n",
      "val_accuracy: 0.7545982599258423\n",
      "\n",
      "Best val_accuracy So Far: 0.7676669955253601\n",
      "Total elapsed time: 00h 01m 57s\n",
      "\n",
      "The hyperparameter search is complete. The optimal number of units in the first densely-connected\n",
      "layer is 128 and the optimal learning rate for the optimizer\n",
      "is 0.01.\n",
      "\n"
     ]
    }
   ],
   "source": [
    "tuner.search(x_train, y_train, epochs=50, validation_split=0.2, callbacks=[stop_early, lr_curve])\n",
    "\n",
    "# Get the optimal hyperparameters\n",
    "best_hps=tuner.get_best_hyperparameters(num_trials=1)[0]\n",
    "\n",
    "print(f\"\"\"\n",
    "The hyperparameter search is complete. The optimal number of units in the first densely-connected\n",
    "layer is {best_hps.get('units_1')} and the optimal learning rate for the optimizer\n",
    "is {best_hps.get('learning_rate')}.\n",
    "\"\"\")"
   ]
  },
  {
   "cell_type": "code",
   "execution_count": 10,
   "id": "1c78c22c-0053-42ff-b4f8-84ab80620c72",
   "metadata": {
    "scrolled": true
   },
   "outputs": [
    {
     "name": "stdout",
     "output_type": "stream",
     "text": [
      "Epoch 1/50\n",
      "259/259 [==============================] - 1s 2ms/step - loss: 0.5614 - accuracy: 0.7184 - val_loss: 0.5317 - val_accuracy: 0.7435\n",
      "Epoch 2/50\n",
      "259/259 [==============================] - 0s 2ms/step - loss: 0.5299 - accuracy: 0.7337 - val_loss: 0.5044 - val_accuracy: 0.7551\n",
      "Epoch 3/50\n",
      "259/259 [==============================] - 1s 2ms/step - loss: 0.5247 - accuracy: 0.7367 - val_loss: 0.5017 - val_accuracy: 0.7507\n",
      "Epoch 4/50\n",
      "259/259 [==============================] - 1s 2ms/step - loss: 0.5215 - accuracy: 0.7435 - val_loss: 0.4814 - val_accuracy: 0.7667\n",
      "Epoch 5/50\n",
      "259/259 [==============================] - 1s 2ms/step - loss: 0.5154 - accuracy: 0.7463 - val_loss: 0.4854 - val_accuracy: 0.7652\n",
      "Epoch 6/50\n",
      "259/259 [==============================] - 1s 2ms/step - loss: 0.5166 - accuracy: 0.7408 - val_loss: 0.4836 - val_accuracy: 0.7585\n",
      "Epoch 7/50\n",
      "259/259 [==============================] - 1s 2ms/step - loss: 0.5132 - accuracy: 0.7511 - val_loss: 0.4868 - val_accuracy: 0.7594\n",
      "Epoch 8/50\n",
      "259/259 [==============================] - 0s 2ms/step - loss: 0.5124 - accuracy: 0.7487 - val_loss: 0.5004 - val_accuracy: 0.7522\n",
      "Epoch 9/50\n",
      "259/259 [==============================] - 1s 2ms/step - loss: 0.5093 - accuracy: 0.7520 - val_loss: 0.4983 - val_accuracy: 0.7590\n",
      "Epoch 10/50\n",
      "259/259 [==============================] - 1s 2ms/step - loss: 0.5112 - accuracy: 0.7468 - val_loss: 0.4955 - val_accuracy: 0.7604\n",
      "Epoch 11/50\n",
      "259/259 [==============================] - 1s 2ms/step - loss: 0.5116 - accuracy: 0.7523 - val_loss: 0.4842 - val_accuracy: 0.7599\n",
      "Epoch 12/50\n",
      "259/259 [==============================] - 1s 3ms/step - loss: 0.5090 - accuracy: 0.7512 - val_loss: 0.5052 - val_accuracy: 0.7546\n",
      "Epoch 13/50\n",
      "259/259 [==============================] - 1s 3ms/step - loss: 0.5096 - accuracy: 0.7462 - val_loss: 0.4980 - val_accuracy: 0.7536\n",
      "Epoch 14/50\n",
      "259/259 [==============================] - 1s 3ms/step - loss: 0.5058 - accuracy: 0.7535 - val_loss: 0.4917 - val_accuracy: 0.7556\n",
      "Epoch 15/50\n",
      "259/259 [==============================] - 1s 3ms/step - loss: 0.5065 - accuracy: 0.7540 - val_loss: 0.5112 - val_accuracy: 0.7488\n",
      "Epoch 16/50\n",
      "259/259 [==============================] - 1s 3ms/step - loss: 0.5069 - accuracy: 0.7544 - val_loss: 0.5207 - val_accuracy: 0.7604\n",
      "Epoch 17/50\n",
      "259/259 [==============================] - 1s 2ms/step - loss: 0.5010 - accuracy: 0.7518 - val_loss: 0.5140 - val_accuracy: 0.7488\n",
      "Epoch 18/50\n",
      "259/259 [==============================] - 1s 2ms/step - loss: 0.5010 - accuracy: 0.7514 - val_loss: 0.5297 - val_accuracy: 0.7357\n",
      "Epoch 19/50\n",
      "259/259 [==============================] - 0s 2ms/step - loss: 0.5017 - accuracy: 0.7543 - val_loss: 0.5149 - val_accuracy: 0.7483\n",
      "Epoch 20/50\n",
      "259/259 [==============================] - 0s 2ms/step - loss: 0.5002 - accuracy: 0.7534 - val_loss: 0.5159 - val_accuracy: 0.7425\n",
      "Epoch 21/50\n",
      "259/259 [==============================] - 0s 1ms/step - loss: 0.4995 - accuracy: 0.7601 - val_loss: 0.5148 - val_accuracy: 0.7473\n",
      "Epoch 22/50\n",
      "259/259 [==============================] - 0s 2ms/step - loss: 0.4972 - accuracy: 0.7546 - val_loss: 0.5140 - val_accuracy: 0.7459\n",
      "Epoch 23/50\n",
      "259/259 [==============================] - 0s 2ms/step - loss: 0.4992 - accuracy: 0.7592 - val_loss: 0.5177 - val_accuracy: 0.7459\n",
      "Epoch 24/50\n",
      "259/259 [==============================] - 0s 1ms/step - loss: 0.4948 - accuracy: 0.7568 - val_loss: 0.5124 - val_accuracy: 0.7556\n",
      "Epoch 25/50\n",
      "259/259 [==============================] - 0s 2ms/step - loss: 0.4936 - accuracy: 0.7556 - val_loss: 0.5181 - val_accuracy: 0.7425\n",
      "Epoch 26/50\n",
      "259/259 [==============================] - 0s 2ms/step - loss: 0.4948 - accuracy: 0.7601 - val_loss: 0.5003 - val_accuracy: 0.7575\n",
      "Epoch 27/50\n",
      "259/259 [==============================] - 0s 1ms/step - loss: 0.5002 - accuracy: 0.7543 - val_loss: 0.5208 - val_accuracy: 0.7372\n",
      "Epoch 28/50\n",
      "259/259 [==============================] - 0s 2ms/step - loss: 0.4954 - accuracy: 0.7584 - val_loss: 0.5193 - val_accuracy: 0.7377\n",
      "Epoch 29/50\n",
      "259/259 [==============================] - 1s 3ms/step - loss: 0.4909 - accuracy: 0.7561 - val_loss: 0.5274 - val_accuracy: 0.7430\n",
      "Epoch 30/50\n",
      "259/259 [==============================] - 1s 2ms/step - loss: 0.4931 - accuracy: 0.7539 - val_loss: 0.5228 - val_accuracy: 0.7420\n",
      "Epoch 31/50\n",
      "259/259 [==============================] - 0s 2ms/step - loss: 0.4907 - accuracy: 0.7629 - val_loss: 0.5126 - val_accuracy: 0.7502\n",
      "Epoch 32/50\n",
      "259/259 [==============================] - 0s 2ms/step - loss: 0.4915 - accuracy: 0.7623 - val_loss: 0.5219 - val_accuracy: 0.7420\n",
      "Epoch 33/50\n",
      "259/259 [==============================] - 0s 2ms/step - loss: 0.4894 - accuracy: 0.7663 - val_loss: 0.5064 - val_accuracy: 0.7561\n",
      "Epoch 34/50\n",
      "259/259 [==============================] - 0s 2ms/step - loss: 0.4950 - accuracy: 0.7567 - val_loss: 0.5200 - val_accuracy: 0.7575\n",
      "Epoch 35/50\n",
      "259/259 [==============================] - 0s 2ms/step - loss: 0.4941 - accuracy: 0.7580 - val_loss: 0.5397 - val_accuracy: 0.7410\n",
      "Epoch 36/50\n",
      "259/259 [==============================] - 0s 2ms/step - loss: 0.4881 - accuracy: 0.7641 - val_loss: 0.5324 - val_accuracy: 0.7406\n",
      "Epoch 37/50\n",
      "259/259 [==============================] - 0s 2ms/step - loss: 0.4905 - accuracy: 0.7597 - val_loss: 0.5152 - val_accuracy: 0.7469\n",
      "Epoch 38/50\n",
      "259/259 [==============================] - 1s 2ms/step - loss: 0.4904 - accuracy: 0.7615 - val_loss: 0.5135 - val_accuracy: 0.7541\n",
      "Epoch 39/50\n",
      "259/259 [==============================] - 0s 2ms/step - loss: 0.4862 - accuracy: 0.7598 - val_loss: 0.5177 - val_accuracy: 0.7541\n",
      "Epoch 40/50\n",
      "259/259 [==============================] - 0s 2ms/step - loss: 0.4872 - accuracy: 0.7617 - val_loss: 0.5263 - val_accuracy: 0.7502\n",
      "Epoch 41/50\n",
      "259/259 [==============================] - 1s 2ms/step - loss: 0.4835 - accuracy: 0.7654 - val_loss: 0.5346 - val_accuracy: 0.7498\n",
      "Epoch 42/50\n",
      "259/259 [==============================] - 1s 2ms/step - loss: 0.4876 - accuracy: 0.7617 - val_loss: 0.5316 - val_accuracy: 0.7406\n",
      "Epoch 43/50\n",
      "259/259 [==============================] - 0s 2ms/step - loss: 0.4879 - accuracy: 0.7602 - val_loss: 0.5116 - val_accuracy: 0.7502\n",
      "Epoch 44/50\n",
      "259/259 [==============================] - 0s 2ms/step - loss: 0.4803 - accuracy: 0.7687 - val_loss: 0.5309 - val_accuracy: 0.7454\n",
      "Epoch 45/50\n",
      "259/259 [==============================] - 0s 2ms/step - loss: 0.4799 - accuracy: 0.7637 - val_loss: 0.5223 - val_accuracy: 0.7469\n",
      "Epoch 46/50\n",
      "259/259 [==============================] - 0s 2ms/step - loss: 0.4812 - accuracy: 0.7707 - val_loss: 0.5416 - val_accuracy: 0.7381\n",
      "Epoch 47/50\n",
      "259/259 [==============================] - 0s 2ms/step - loss: 0.4860 - accuracy: 0.7652 - val_loss: 0.5420 - val_accuracy: 0.7377\n",
      "Epoch 48/50\n",
      "259/259 [==============================] - 0s 1ms/step - loss: 0.4849 - accuracy: 0.7666 - val_loss: 0.5288 - val_accuracy: 0.7425\n",
      "Epoch 49/50\n",
      "259/259 [==============================] - 0s 2ms/step - loss: 0.4843 - accuracy: 0.7686 - val_loss: 0.5284 - val_accuracy: 0.7401\n",
      "Epoch 50/50\n",
      "259/259 [==============================] - 0s 2ms/step - loss: 0.4857 - accuracy: 0.7630 - val_loss: 0.5284 - val_accuracy: 0.7473\n",
      "Best epoch: 4\n"
     ]
    }
   ],
   "source": [
    "# Build the model with the optimal hyperparameters and train it on the data for 50 epochs\n",
    "model = tuner.hypermodel.build(best_hps)\n",
    "history = model.fit(x_train, y_train, epochs=50, validation_split=0.2)\n",
    "\n",
    "acc_per_epoch = history.history['val_accuracy']\n",
    "best_epoch = acc_per_epoch.index(max(acc_per_epoch)) + 1\n",
    "print('Best epoch: %d' % (best_epoch,))"
   ]
  },
  {
   "cell_type": "code",
   "execution_count": 11,
   "id": "3d64223e-989c-4a06-93ce-730da72a574c",
   "metadata": {
    "scrolled": true
   },
   "outputs": [
    {
     "name": "stdout",
     "output_type": "stream",
     "text": [
      "Epoch 1/4\n",
      "259/259 [==============================] - 1s 2ms/step - loss: 0.5649 - accuracy: 0.7189 - val_loss: 0.5324 - val_accuracy: 0.7454\n",
      "Epoch 2/4\n",
      "259/259 [==============================] - 0s 1ms/step - loss: 0.5304 - accuracy: 0.7332 - val_loss: 0.5018 - val_accuracy: 0.7546\n",
      "Epoch 3/4\n",
      "259/259 [==============================] - 0s 2ms/step - loss: 0.5252 - accuracy: 0.7373 - val_loss: 0.4997 - val_accuracy: 0.7531\n",
      "Epoch 4/4\n",
      "259/259 [==============================] - 0s 2ms/step - loss: 0.5227 - accuracy: 0.7416 - val_loss: 0.4821 - val_accuracy: 0.7652\n"
     ]
    },
    {
     "data": {
      "text/plain": [
       "<keras.src.callbacks.History at 0x140344790>"
      ]
     },
     "execution_count": 11,
     "metadata": {},
     "output_type": "execute_result"
    }
   ],
   "source": [
    "hypermodel = tuner.hypermodel.build(best_hps)\n",
    "\n",
    "# Retrain the model\n",
    "hypermodel.fit(x_train, y_train, epochs=best_epoch, validation_split=0.2)"
   ]
  },
  {
   "cell_type": "code",
   "execution_count": 12,
   "id": "f20311ec-e533-4608-9d4d-69e16e9916a5",
   "metadata": {},
   "outputs": [],
   "source": [
    "b_acc = keras.metrics.BinaryAccuracy(name=\"binary_accuracy\", dtype=None, threshold=0.5)"
   ]
  },
  {
   "cell_type": "code",
   "execution_count": 13,
   "id": "ab9a75f7-9c97-41e5-91da-30a661915d52",
   "metadata": {
    "scrolled": true
   },
   "outputs": [
    {
     "data": {
      "text/plain": [
       "0.7401239"
      ]
     },
     "execution_count": 13,
     "metadata": {},
     "output_type": "execute_result"
    }
   ],
   "source": [
    "pred = hypermodel(x_test)\n",
    "b_acc.update_state(y_test, pred)\n",
    "result = b_acc.result()\n",
    "result.numpy()"
   ]
  },
  {
   "cell_type": "code",
   "execution_count": 14,
   "id": "5b43d030-1ca1-439c-9502-c724be779989",
   "metadata": {},
   "outputs": [],
   "source": [
    "# save model\n",
    "hypermodel.save('model/binary_class.keras')"
   ]
  }
 ],
 "metadata": {
  "kernelspec": {
   "display_name": "Python 3 (ipykernel)",
   "language": "python",
   "name": "python3"
  },
  "language_info": {
   "codemirror_mode": {
    "name": "ipython",
    "version": 3
   },
   "file_extension": ".py",
   "mimetype": "text/x-python",
   "name": "python",
   "nbconvert_exporter": "python",
   "pygments_lexer": "ipython3",
   "version": "3.11.5"
  }
 },
 "nbformat": 4,
 "nbformat_minor": 5
}
