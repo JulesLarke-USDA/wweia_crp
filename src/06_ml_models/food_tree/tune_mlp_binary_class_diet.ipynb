{
 "cells": [
  {
   "cell_type": "code",
   "execution_count": 1,
   "id": "dbd650f1-391d-449e-a44e-f657458e4baa",
   "metadata": {},
   "outputs": [
    {
     "name": "stderr",
     "output_type": "stream",
     "text": [
      "2024-05-16 15:56:14.669415: I tensorflow/core/platform/cpu_feature_guard.cc:182] This TensorFlow binary is optimized to use available CPU instructions in performance-critical operations.\n",
      "To enable the following instructions: AVX2 AVX512F AVX512_VNNI FMA, in other operations, rebuild TensorFlow with the appropriate compiler flags.\n"
     ]
    }
   ],
   "source": [
    "import tensorflow as tf\n",
    "from tensorflow import keras\n",
    "import keras_tuner as kt\n",
    "import pandas as pd\n",
    "import numpy as np"
   ]
  },
  {
   "cell_type": "code",
   "execution_count": 2,
   "id": "1a4100d8-439e-4b7e-89db-df7e769637b8",
   "metadata": {},
   "outputs": [],
   "source": [
    "## load data\n",
    "x_train = pd.read_csv(\"../../../data/04/processed_for_ml/binary_class/x_train_taxahfe_no_sf_diet.csv\", index_col=0, header=0)\n",
    "y_train = pd.read_csv(\"../../../data/04/processed_for_ml/binary_class/y_train_class.csv\", index_col = 0, header = 0 )\n",
    "sw_train = pd.read_csv(\"../../../data/04/processed_for_ml/binary_class/sw_train_taxahfe.csv\", index_col = 0, header = 0 )\n",
    "x_test = pd.read_csv(\"../../../data/04/processed_for_ml/binary_class/x_test_no_sf_diet.csv\", index_col=0, header=0)\n",
    "y_test = pd.read_csv(\"../../../data/04/processed_for_ml/binary_class/y_test_class.csv\", index_col = 0, header = 0 )\n",
    "x_test = x_test[x_train.columns] # reordered columns to match (column ordered changed during taxahfe)\n",
    "\n",
    "x_train = x_train.sort_index(axis = 0)\n",
    "y_train = y_train.sort_index(axis = 0)\n",
    "sw_train = sw_train.sort_index(axis = 0)\n",
    "x_test = x_test.sort_index(axis = 0)\n",
    "y_test = y_test.sort_index(axis = 0)\n",
    "\n",
    "x_train = x_train.reset_index()\n",
    "y_train = y_train.reset_index()\n",
    "sw_train = sw_train.reset_index()\n",
    "x_test = x_test.reset_index()\n",
    "y_test = y_test.reset_index()\n",
    "\n",
    "x_train = x_train.drop(columns='SEQN')\n",
    "y_train = y_train.drop(columns='SEQN')\n",
    "sw_train = sw_train.drop(columns='SEQN')\n",
    "x_test = x_test.drop(columns='SEQN')\n",
    "y_test = y_test.drop(columns='SEQN')\n",
    "\n",
    "x_train = np.array(x_train)\n",
    "y_train = np.array(y_train)\n",
    "sample_weights = np.array(sw_train)\n",
    "x_test = np.array(x_test)\n",
    "y_test = np.array(y_test)"
   ]
  },
  {
   "cell_type": "code",
   "execution_count": 3,
   "id": "282546cc-c9e0-440e-a9d5-cad991f39079",
   "metadata": {},
   "outputs": [],
   "source": [
    "keras.utils.set_random_seed(0)"
   ]
  },
  {
   "cell_type": "code",
   "execution_count": 4,
   "id": "412eaefd-8dc2-451a-abaa-75978868d405",
   "metadata": {},
   "outputs": [],
   "source": [
    "acc = keras.metrics.Accuracy()"
   ]
  },
  {
   "cell_type": "code",
   "execution_count": 5,
   "id": "d9da4935-3f86-4425-a236-ebba519e0e92",
   "metadata": {},
   "outputs": [],
   "source": [
    "# baseline model\n",
    "def model_builder(hp):\n",
    "\t# create model\n",
    "    model = keras.Sequential()\n",
    "    model.add(keras.layers.BatchNormalization(input_shape=(17,)))\n",
    "\n",
    "\t# Tune the number of units in the first Dense layer\n",
    "    hp_units_1 = hp.Int('units_1', min_value=32, max_value=256, step=16)\n",
    "    model.add(keras.layers.Dense(units=hp_units_1, activation='relu'))\n",
    "    model.add(keras.layers.BatchNormalization())\n",
    "    model.add(keras.layers.Dense(1, activation='sigmoid'))\n",
    "\n",
    "    \n",
    "    # Tune the learning rate for the optimizer\n",
    "    # Choose an optimal value from 0.01, 0.001, or 0.0001\n",
    "    hp_learning_rate = hp.Choice('learning_rate', values=[1e-2, 1e-3, 1e-4])\n",
    "\n",
    "\t# Compile model\n",
    "    model.compile(loss='binary_crossentropy', optimizer=keras.optimizers.Adam(learning_rate=hp_learning_rate), sample_weight_mode=sample_weights, metrics=['accuracy'])\n",
    "    return model"
   ]
  },
  {
   "cell_type": "code",
   "execution_count": 6,
   "id": "d08505c4-ce6c-4277-ad2f-77449146f3ee",
   "metadata": {},
   "outputs": [],
   "source": [
    "tuner = kt.Hyperband(model_builder,\n",
    "                     objective=kt.Objective(\"val_accuracy\", direction=\"max\"),\n",
    "                     max_epochs=20,\n",
    "                     factor=3,\n",
    "                     directory='tune',\n",
    "                     project_name='binary_class_diet')"
   ]
  },
  {
   "cell_type": "code",
   "execution_count": 7,
   "id": "f3c6cf1e-b11c-4552-adcc-938370472299",
   "metadata": {},
   "outputs": [],
   "source": [
    "stop_early = tf.keras.callbacks.EarlyStopping(monitor='val_accuracy', patience=5)\n",
    "lr_curve = tf.keras.callbacks.ReduceLROnPlateau(\n",
    "    monitor='val_accuracy',\n",
    "    factor=0.1,\n",
    "    patience=5)"
   ]
  },
  {
   "cell_type": "code",
   "execution_count": 8,
   "id": "09be1855-e4f9-42bc-9668-7c03c86e2d3c",
   "metadata": {},
   "outputs": [
    {
     "name": "stdout",
     "output_type": "stream",
     "text": [
      "Trial 30 Complete [00h 00m 09s]\n",
      "val_accuracy: 0.5551791191101074\n",
      "\n",
      "Best val_accuracy So Far: 0.5706679821014404\n",
      "Total elapsed time: 00h 01m 59s\n",
      "\n",
      "The hyperparameter search is complete. The optimal number of units in the first densely-connected\n",
      "layer is 144 and the optimal learning rate for the optimizer\n",
      "is 0.001.\n",
      "\n"
     ]
    }
   ],
   "source": [
    "tuner.search(x_train, y_train, epochs=50, validation_split=0.2, callbacks=[stop_early, lr_curve])\n",
    "\n",
    "# Get the optimal hyperparameters\n",
    "best_hps=tuner.get_best_hyperparameters(num_trials=1)[0]\n",
    "\n",
    "print(f\"\"\"\n",
    "The hyperparameter search is complete. The optimal number of units in the first densely-connected\n",
    "layer is {best_hps.get('units_1')} and the optimal learning rate for the optimizer\n",
    "is {best_hps.get('learning_rate')}.\n",
    "\"\"\")"
   ]
  },
  {
   "cell_type": "code",
   "execution_count": 9,
   "id": "1c78c22c-0053-42ff-b4f8-84ab80620c72",
   "metadata": {
    "scrolled": true
   },
   "outputs": [
    {
     "name": "stdout",
     "output_type": "stream",
     "text": [
      "Epoch 1/50\n",
      "259/259 [==============================] - 1s 2ms/step - loss: 0.7132 - accuracy: 0.5450 - val_loss: 0.6925 - val_accuracy: 0.5445\n",
      "Epoch 2/50\n",
      "259/259 [==============================] - 0s 1ms/step - loss: 0.6853 - accuracy: 0.5648 - val_loss: 0.6973 - val_accuracy: 0.5440\n",
      "Epoch 3/50\n",
      "259/259 [==============================] - 0s 1ms/step - loss: 0.6775 - accuracy: 0.5807 - val_loss: 0.6991 - val_accuracy: 0.5726\n",
      "Epoch 4/50\n",
      "259/259 [==============================] - 0s 1ms/step - loss: 0.6744 - accuracy: 0.5792 - val_loss: 0.6913 - val_accuracy: 0.5716\n",
      "Epoch 5/50\n",
      "259/259 [==============================] - 0s 2ms/step - loss: 0.6716 - accuracy: 0.5859 - val_loss: 0.7004 - val_accuracy: 0.5499\n",
      "Epoch 6/50\n",
      "259/259 [==============================] - 0s 2ms/step - loss: 0.6709 - accuracy: 0.5921 - val_loss: 0.6951 - val_accuracy: 0.5644\n",
      "Epoch 7/50\n",
      "259/259 [==============================] - 0s 2ms/step - loss: 0.6705 - accuracy: 0.5856 - val_loss: 0.7051 - val_accuracy: 0.5324\n",
      "Epoch 8/50\n",
      "259/259 [==============================] - 0s 2ms/step - loss: 0.6675 - accuracy: 0.5911 - val_loss: 0.6953 - val_accuracy: 0.5600\n",
      "Epoch 9/50\n",
      "259/259 [==============================] - 0s 2ms/step - loss: 0.6651 - accuracy: 0.5942 - val_loss: 0.6981 - val_accuracy: 0.5557\n",
      "Epoch 10/50\n",
      "259/259 [==============================] - 0s 1ms/step - loss: 0.6623 - accuracy: 0.6010 - val_loss: 0.6918 - val_accuracy: 0.5561\n",
      "Epoch 11/50\n",
      "259/259 [==============================] - 0s 1ms/step - loss: 0.6626 - accuracy: 0.5952 - val_loss: 0.6977 - val_accuracy: 0.5610\n",
      "Epoch 12/50\n",
      "259/259 [==============================] - 0s 1ms/step - loss: 0.6605 - accuracy: 0.5973 - val_loss: 0.7012 - val_accuracy: 0.5348\n",
      "Epoch 13/50\n",
      "259/259 [==============================] - 0s 1ms/step - loss: 0.6599 - accuracy: 0.6046 - val_loss: 0.6976 - val_accuracy: 0.5557\n",
      "Epoch 14/50\n",
      "259/259 [==============================] - 0s 2ms/step - loss: 0.6578 - accuracy: 0.6085 - val_loss: 0.6890 - val_accuracy: 0.5716\n",
      "Epoch 15/50\n",
      "259/259 [==============================] - 0s 2ms/step - loss: 0.6580 - accuracy: 0.6060 - val_loss: 0.6992 - val_accuracy: 0.5450\n",
      "Epoch 16/50\n",
      "259/259 [==============================] - 0s 1ms/step - loss: 0.6576 - accuracy: 0.6073 - val_loss: 0.7106 - val_accuracy: 0.5358\n",
      "Epoch 17/50\n",
      "259/259 [==============================] - 0s 1ms/step - loss: 0.6587 - accuracy: 0.6028 - val_loss: 0.7007 - val_accuracy: 0.5557\n",
      "Epoch 18/50\n",
      "259/259 [==============================] - 0s 2ms/step - loss: 0.6560 - accuracy: 0.6057 - val_loss: 0.6933 - val_accuracy: 0.5484\n",
      "Epoch 19/50\n",
      "259/259 [==============================] - 0s 2ms/step - loss: 0.6574 - accuracy: 0.6053 - val_loss: 0.6960 - val_accuracy: 0.5445\n",
      "Epoch 20/50\n",
      "259/259 [==============================] - 0s 2ms/step - loss: 0.6562 - accuracy: 0.6117 - val_loss: 0.6953 - val_accuracy: 0.5436\n",
      "Epoch 21/50\n",
      "259/259 [==============================] - 0s 2ms/step - loss: 0.6577 - accuracy: 0.6050 - val_loss: 0.6921 - val_accuracy: 0.5518\n",
      "Epoch 22/50\n",
      "259/259 [==============================] - 0s 1ms/step - loss: 0.6576 - accuracy: 0.6007 - val_loss: 0.6999 - val_accuracy: 0.5760\n",
      "Epoch 23/50\n",
      "259/259 [==============================] - 0s 1ms/step - loss: 0.6540 - accuracy: 0.6059 - val_loss: 0.6995 - val_accuracy: 0.5658\n",
      "Epoch 24/50\n",
      "259/259 [==============================] - 0s 1ms/step - loss: 0.6532 - accuracy: 0.6138 - val_loss: 0.6995 - val_accuracy: 0.5571\n",
      "Epoch 25/50\n",
      "259/259 [==============================] - 0s 1ms/step - loss: 0.6555 - accuracy: 0.6085 - val_loss: 0.7014 - val_accuracy: 0.5445\n",
      "Epoch 26/50\n",
      "259/259 [==============================] - 0s 1ms/step - loss: 0.6501 - accuracy: 0.6130 - val_loss: 0.6960 - val_accuracy: 0.5450\n",
      "Epoch 27/50\n",
      "259/259 [==============================] - 0s 2ms/step - loss: 0.6534 - accuracy: 0.6147 - val_loss: 0.7000 - val_accuracy: 0.5591\n",
      "Epoch 28/50\n",
      "259/259 [==============================] - 0s 2ms/step - loss: 0.6549 - accuracy: 0.6101 - val_loss: 0.6995 - val_accuracy: 0.5561\n",
      "Epoch 29/50\n",
      "259/259 [==============================] - 0s 2ms/step - loss: 0.6521 - accuracy: 0.6109 - val_loss: 0.7009 - val_accuracy: 0.5436\n",
      "Epoch 30/50\n",
      "259/259 [==============================] - 0s 2ms/step - loss: 0.6517 - accuracy: 0.6128 - val_loss: 0.7037 - val_accuracy: 0.5329\n",
      "Epoch 31/50\n",
      "259/259 [==============================] - 0s 1ms/step - loss: 0.6479 - accuracy: 0.6207 - val_loss: 0.7046 - val_accuracy: 0.5484\n",
      "Epoch 32/50\n",
      "259/259 [==============================] - 0s 1ms/step - loss: 0.6493 - accuracy: 0.6140 - val_loss: 0.6974 - val_accuracy: 0.5557\n",
      "Epoch 33/50\n",
      "259/259 [==============================] - 0s 1ms/step - loss: 0.6474 - accuracy: 0.6172 - val_loss: 0.7048 - val_accuracy: 0.5421\n",
      "Epoch 34/50\n",
      "259/259 [==============================] - 0s 2ms/step - loss: 0.6501 - accuracy: 0.6195 - val_loss: 0.7011 - val_accuracy: 0.5605\n",
      "Epoch 35/50\n",
      "259/259 [==============================] - 1s 2ms/step - loss: 0.6506 - accuracy: 0.6204 - val_loss: 0.7013 - val_accuracy: 0.5571\n",
      "Epoch 36/50\n",
      "259/259 [==============================] - 0s 2ms/step - loss: 0.6459 - accuracy: 0.6222 - val_loss: 0.7137 - val_accuracy: 0.5470\n",
      "Epoch 37/50\n",
      "259/259 [==============================] - 0s 2ms/step - loss: 0.6504 - accuracy: 0.6157 - val_loss: 0.7099 - val_accuracy: 0.5378\n",
      "Epoch 38/50\n",
      "259/259 [==============================] - 0s 2ms/step - loss: 0.6489 - accuracy: 0.6182 - val_loss: 0.7107 - val_accuracy: 0.5407\n",
      "Epoch 39/50\n",
      "259/259 [==============================] - 0s 1ms/step - loss: 0.6486 - accuracy: 0.6146 - val_loss: 0.7024 - val_accuracy: 0.5436\n",
      "Epoch 40/50\n",
      "259/259 [==============================] - 0s 1ms/step - loss: 0.6467 - accuracy: 0.6195 - val_loss: 0.7116 - val_accuracy: 0.5426\n",
      "Epoch 41/50\n",
      "259/259 [==============================] - 0s 2ms/step - loss: 0.6434 - accuracy: 0.6203 - val_loss: 0.7208 - val_accuracy: 0.5445\n",
      "Epoch 42/50\n",
      "259/259 [==============================] - 0s 2ms/step - loss: 0.6456 - accuracy: 0.6169 - val_loss: 0.7074 - val_accuracy: 0.5479\n",
      "Epoch 43/50\n",
      "259/259 [==============================] - 0s 1ms/step - loss: 0.6457 - accuracy: 0.6263 - val_loss: 0.7081 - val_accuracy: 0.5494\n",
      "Epoch 44/50\n",
      "259/259 [==============================] - 0s 1ms/step - loss: 0.6461 - accuracy: 0.6205 - val_loss: 0.7106 - val_accuracy: 0.5494\n",
      "Epoch 45/50\n",
      "259/259 [==============================] - 0s 2ms/step - loss: 0.6432 - accuracy: 0.6253 - val_loss: 0.7085 - val_accuracy: 0.5421\n",
      "Epoch 46/50\n",
      "259/259 [==============================] - 0s 2ms/step - loss: 0.6477 - accuracy: 0.6111 - val_loss: 0.7108 - val_accuracy: 0.5213\n",
      "Epoch 47/50\n",
      "259/259 [==============================] - 0s 2ms/step - loss: 0.6457 - accuracy: 0.6203 - val_loss: 0.6971 - val_accuracy: 0.5494\n",
      "Epoch 48/50\n",
      "259/259 [==============================] - 0s 1ms/step - loss: 0.6449 - accuracy: 0.6206 - val_loss: 0.6975 - val_accuracy: 0.5513\n",
      "Epoch 49/50\n",
      "259/259 [==============================] - 0s 2ms/step - loss: 0.6438 - accuracy: 0.6249 - val_loss: 0.7171 - val_accuracy: 0.5382\n",
      "Epoch 50/50\n",
      "259/259 [==============================] - 0s 2ms/step - loss: 0.6443 - accuracy: 0.6228 - val_loss: 0.7065 - val_accuracy: 0.5465\n",
      "Best epoch: 22\n"
     ]
    }
   ],
   "source": [
    "# Build the model with the optimal hyperparameters and train it on the data for 50 epochs\n",
    "model = tuner.hypermodel.build(best_hps)\n",
    "history = model.fit(x_train, y_train, epochs=50, validation_split=0.2)\n",
    "\n",
    "acc_per_epoch = history.history['val_accuracy']\n",
    "best_epoch = acc_per_epoch.index(max(acc_per_epoch)) + 1\n",
    "print('Best epoch: %d' % (best_epoch,))"
   ]
  },
  {
   "cell_type": "code",
   "execution_count": 10,
   "id": "3d64223e-989c-4a06-93ce-730da72a574c",
   "metadata": {
    "scrolled": true
   },
   "outputs": [
    {
     "name": "stdout",
     "output_type": "stream",
     "text": [
      "Epoch 1/22\n",
      "259/259 [==============================] - 1s 2ms/step - loss: 0.7169 - accuracy: 0.5510 - val_loss: 0.7004 - val_accuracy: 0.5416\n",
      "Epoch 2/22\n",
      "259/259 [==============================] - 0s 2ms/step - loss: 0.6840 - accuracy: 0.5710 - val_loss: 0.6986 - val_accuracy: 0.5407\n",
      "Epoch 3/22\n",
      "259/259 [==============================] - 0s 1ms/step - loss: 0.6782 - accuracy: 0.5823 - val_loss: 0.7058 - val_accuracy: 0.5537\n",
      "Epoch 4/22\n",
      "259/259 [==============================] - 0s 1ms/step - loss: 0.6761 - accuracy: 0.5761 - val_loss: 0.6896 - val_accuracy: 0.5508\n",
      "Epoch 5/22\n",
      "259/259 [==============================] - 0s 1ms/step - loss: 0.6714 - accuracy: 0.5890 - val_loss: 0.7007 - val_accuracy: 0.5523\n",
      "Epoch 6/22\n",
      "259/259 [==============================] - 0s 1ms/step - loss: 0.6721 - accuracy: 0.5824 - val_loss: 0.6919 - val_accuracy: 0.5557\n",
      "Epoch 7/22\n",
      "259/259 [==============================] - 0s 2ms/step - loss: 0.6688 - accuracy: 0.5869 - val_loss: 0.7055 - val_accuracy: 0.5450\n",
      "Epoch 8/22\n",
      "259/259 [==============================] - 0s 1ms/step - loss: 0.6668 - accuracy: 0.5928 - val_loss: 0.6976 - val_accuracy: 0.5561\n",
      "Epoch 9/22\n",
      "259/259 [==============================] - 0s 1ms/step - loss: 0.6636 - accuracy: 0.5977 - val_loss: 0.6985 - val_accuracy: 0.5600\n",
      "Epoch 10/22\n",
      "259/259 [==============================] - 0s 1ms/step - loss: 0.6634 - accuracy: 0.5910 - val_loss: 0.6902 - val_accuracy: 0.5557\n",
      "Epoch 11/22\n",
      "259/259 [==============================] - 0s 1ms/step - loss: 0.6641 - accuracy: 0.5918 - val_loss: 0.6975 - val_accuracy: 0.5605\n",
      "Epoch 12/22\n",
      "259/259 [==============================] - 0s 2ms/step - loss: 0.6605 - accuracy: 0.5958 - val_loss: 0.7036 - val_accuracy: 0.5358\n",
      "Epoch 13/22\n",
      "259/259 [==============================] - 0s 2ms/step - loss: 0.6594 - accuracy: 0.6076 - val_loss: 0.7022 - val_accuracy: 0.5600\n",
      "Epoch 14/22\n",
      "259/259 [==============================] - 0s 1ms/step - loss: 0.6563 - accuracy: 0.6099 - val_loss: 0.6898 - val_accuracy: 0.5678\n",
      "Epoch 15/22\n",
      "259/259 [==============================] - 0s 1ms/step - loss: 0.6575 - accuracy: 0.6063 - val_loss: 0.7003 - val_accuracy: 0.5508\n",
      "Epoch 16/22\n",
      "259/259 [==============================] - 0s 1ms/step - loss: 0.6581 - accuracy: 0.6082 - val_loss: 0.7085 - val_accuracy: 0.5474\n",
      "Epoch 17/22\n",
      "259/259 [==============================] - 0s 1ms/step - loss: 0.6587 - accuracy: 0.6065 - val_loss: 0.7040 - val_accuracy: 0.5566\n",
      "Epoch 18/22\n",
      "259/259 [==============================] - 0s 2ms/step - loss: 0.6574 - accuracy: 0.6061 - val_loss: 0.6949 - val_accuracy: 0.5518\n",
      "Epoch 19/22\n",
      "259/259 [==============================] - 0s 1ms/step - loss: 0.6576 - accuracy: 0.6030 - val_loss: 0.6973 - val_accuracy: 0.5571\n",
      "Epoch 20/22\n",
      "259/259 [==============================] - 0s 1ms/step - loss: 0.6554 - accuracy: 0.6071 - val_loss: 0.6958 - val_accuracy: 0.5494\n",
      "Epoch 21/22\n",
      "259/259 [==============================] - 0s 1ms/step - loss: 0.6580 - accuracy: 0.6034 - val_loss: 0.6940 - val_accuracy: 0.5668\n",
      "Epoch 22/22\n",
      "259/259 [==============================] - 0s 1ms/step - loss: 0.6547 - accuracy: 0.6056 - val_loss: 0.7056 - val_accuracy: 0.5615\n"
     ]
    },
    {
     "data": {
      "text/plain": [
       "<keras.src.callbacks.History at 0x138874450>"
      ]
     },
     "execution_count": 10,
     "metadata": {},
     "output_type": "execute_result"
    }
   ],
   "source": [
    "hypermodel = tuner.hypermodel.build(best_hps)\n",
    "\n",
    "# Retrain the model\n",
    "hypermodel.fit(x_train, y_train, epochs=best_epoch, validation_split=0.2)"
   ]
  },
  {
   "cell_type": "code",
   "execution_count": 11,
   "id": "f20311ec-e533-4608-9d4d-69e16e9916a5",
   "metadata": {},
   "outputs": [],
   "source": [
    "b_acc = keras.metrics.BinaryAccuracy(name=\"binary_accuracy\", dtype=None, threshold=0.5)"
   ]
  },
  {
   "cell_type": "code",
   "execution_count": 12,
   "id": "ab9a75f7-9c97-41e5-91da-30a661915d52",
   "metadata": {
    "scrolled": true
   },
   "outputs": [
    {
     "data": {
      "text/plain": [
       "0.57397366"
      ]
     },
     "execution_count": 12,
     "metadata": {},
     "output_type": "execute_result"
    }
   ],
   "source": [
    "pred = hypermodel(x_test)\n",
    "b_acc.update_state(y_test, pred)\n",
    "result = b_acc.result()\n",
    "result.numpy()"
   ]
  },
  {
   "cell_type": "code",
   "execution_count": 13,
   "id": "5b43d030-1ca1-439c-9502-c724be779989",
   "metadata": {},
   "outputs": [],
   "source": [
    "# save model\n",
    "hypermodel.save('model/binary_class_diet.keras')"
   ]
  }
 ],
 "metadata": {
  "kernelspec": {
   "display_name": "Python 3 (ipykernel)",
   "language": "python",
   "name": "python3"
  },
  "language_info": {
   "codemirror_mode": {
    "name": "ipython",
    "version": 3
   },
   "file_extension": ".py",
   "mimetype": "text/x-python",
   "name": "python",
   "nbconvert_exporter": "python",
   "pygments_lexer": "ipython3",
   "version": "3.11.5"
  }
 },
 "nbformat": 4,
 "nbformat_minor": 5
}
