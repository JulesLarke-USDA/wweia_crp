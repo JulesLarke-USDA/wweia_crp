{
 "cells": [
  {
   "cell_type": "code",
   "execution_count": 1,
   "id": "dbd650f1-391d-449e-a44e-f657458e4baa",
   "metadata": {},
   "outputs": [
    {
     "name": "stderr",
     "output_type": "stream",
     "text": [
      "2024-07-05 15:34:12.774198: I tensorflow/core/platform/cpu_feature_guard.cc:182] This TensorFlow binary is optimized to use available CPU instructions in performance-critical operations.\n",
      "To enable the following instructions: AVX2 AVX512F AVX512_VNNI FMA, in other operations, rebuild TensorFlow with the appropriate compiler flags.\n"
     ]
    }
   ],
   "source": [
    "import tensorflow as tf\n",
    "from tensorflow import keras\n",
    "import keras_tuner as kt\n",
    "import pandas as pd\n",
    "import numpy as np"
   ]
  },
  {
   "cell_type": "code",
   "execution_count": 2,
   "id": "1a4100d8-439e-4b7e-89db-df7e769637b8",
   "metadata": {},
   "outputs": [],
   "source": [
    "## load data\n",
    "x_train = pd.read_csv(\"../../../data/05/dii/x_train.csv\", index_col=0, header=0)\n",
    "y_train = pd.read_csv(\"../../../data/05/dii/y_train.csv\", index_col = 0, header = 0 )\n",
    "sw_train = pd.read_csv(\"../../../data/05/dii/sw_train.csv\", index_col = 0, header = 0 )\n",
    "x_test = pd.read_csv(\"../../../data/05/dii/x_test.csv\", index_col=0, header=0)\n",
    "y_test = pd.read_csv(\"../../../data/05/dii/y_test.csv\", index_col = 0, header = 0 )\n",
    "x_test = x_test[x_train.columns] # reordered columns to match (column ordered changed during taxahfe)\n",
    "\n",
    "x_train = x_train.sort_index(axis = 0)\n",
    "y_train = y_train.sort_index(axis = 0)\n",
    "sw_train = sw_train.sort_index(axis = 0)\n",
    "x_test = x_test.sort_index(axis = 0)\n",
    "y_test = y_test.sort_index(axis = 0)\n",
    "\n",
    "x_train = x_train.reset_index()\n",
    "y_train = y_train.reset_index()\n",
    "sw_train = sw_train.reset_index()\n",
    "x_test = x_test.reset_index()\n",
    "y_test = y_test.reset_index()\n",
    "\n",
    "x_train = x_train.drop(columns='SEQN')\n",
    "y_train = y_train.drop(columns='SEQN')\n",
    "sw_train = sw_train.drop(columns='SEQN')\n",
    "x_test = x_test.drop(columns='SEQN')\n",
    "y_test = y_test.drop(columns='SEQN')\n",
    "\n",
    "x_train = np.array(x_train)\n",
    "y_train = np.array(y_train)\n",
    "sample_weights = np.array(sw_train)\n",
    "x_test = np.array(x_test)\n",
    "y_test = np.array(y_test)"
   ]
  },
  {
   "cell_type": "code",
   "execution_count": 3,
   "id": "282546cc-c9e0-440e-a9d5-cad991f39079",
   "metadata": {},
   "outputs": [],
   "source": [
    "keras.utils.set_random_seed(0)"
   ]
  },
  {
   "cell_type": "code",
   "execution_count": 4,
   "id": "412eaefd-8dc2-451a-abaa-75978868d405",
   "metadata": {},
   "outputs": [],
   "source": [
    "acc = keras.metrics.Accuracy()"
   ]
  },
  {
   "cell_type": "code",
   "execution_count": 5,
   "id": "d9da4935-3f86-4425-a236-ebba519e0e92",
   "metadata": {},
   "outputs": [],
   "source": [
    "# baseline model\n",
    "def model_builder(hp):\n",
    "\t# create model\n",
    "    model = keras.Sequential()\n",
    "    model.add(keras.layers.BatchNormalization(input_shape=(21,)))\n",
    "\n",
    "\t# Tune the number of units in the first Dense layer\n",
    "    hp_units_1 = hp.Int('units_1', min_value=32, max_value=256, step=16)\n",
    "    model.add(keras.layers.Dense(units=hp_units_1, activation='relu'))\n",
    "    model.add(keras.layers.BatchNormalization())\n",
    "    model.add(keras.layers.Dense(1, activation='sigmoid'))\n",
    "\n",
    "    \n",
    "    # Tune the learning rate for the optimizer\n",
    "    # Choose an optimal value from 0.01, 0.001, or 0.0001\n",
    "    hp_learning_rate = hp.Choice('learning_rate', values=[1e-2, 1e-3, 1e-4])\n",
    "\n",
    "\t# Compile model\n",
    "    model.compile(loss='binary_crossentropy', optimizer=keras.optimizers.Adam(learning_rate=hp_learning_rate), sample_weight_mode=sample_weights, metrics=['accuracy'])\n",
    "    return model"
   ]
  },
  {
   "cell_type": "code",
   "execution_count": 6,
   "id": "d08505c4-ce6c-4277-ad2f-77449146f3ee",
   "metadata": {},
   "outputs": [
    {
     "name": "stdout",
     "output_type": "stream",
     "text": [
      "Reloading Tuner from tune/binary_class_dii/tuner0.json\n"
     ]
    }
   ],
   "source": [
    "tuner = kt.Hyperband(model_builder,\n",
    "                     objective=kt.Objective(\"val_accuracy\", direction=\"max\"),\n",
    "                     max_epochs=20,\n",
    "                     factor=3,\n",
    "                     directory='tune',\n",
    "                     project_name='binary_class_dii')"
   ]
  },
  {
   "cell_type": "code",
   "execution_count": 7,
   "id": "f3c6cf1e-b11c-4552-adcc-938370472299",
   "metadata": {},
   "outputs": [],
   "source": [
    "stop_early = tf.keras.callbacks.EarlyStopping(monitor='val_accuracy', patience=5)\n",
    "lr_curve = tf.keras.callbacks.ReduceLROnPlateau(\n",
    "    monitor='val_accuracy',\n",
    "    factor=0.1,\n",
    "    patience=5)"
   ]
  },
  {
   "cell_type": "code",
   "execution_count": 8,
   "id": "09be1855-e4f9-42bc-9668-7c03c86e2d3c",
   "metadata": {},
   "outputs": [
    {
     "name": "stdout",
     "output_type": "stream",
     "text": [
      "\n",
      "The hyperparameter search is complete. The optimal number of units in the first densely-connected\n",
      "layer is 160 and the optimal learning rate for the optimizer\n",
      "is 0.01.\n",
      "\n"
     ]
    }
   ],
   "source": [
    "tuner.search(x_train, y_train, epochs=50, validation_split=0.2, callbacks=[stop_early, lr_curve])\n",
    "\n",
    "# Get the optimal hyperparameters\n",
    "best_hps=tuner.get_best_hyperparameters(num_trials=1)[0]\n",
    "\n",
    "print(f\"\"\"\n",
    "The hyperparameter search is complete. The optimal number of units in the first densely-connected\n",
    "layer is {best_hps.get('units_1')} and the optimal learning rate for the optimizer\n",
    "is {best_hps.get('learning_rate')}.\n",
    "\"\"\")"
   ]
  },
  {
   "cell_type": "code",
   "execution_count": 9,
   "id": "1c78c22c-0053-42ff-b4f8-84ab80620c72",
   "metadata": {
    "scrolled": true
   },
   "outputs": [
    {
     "name": "stdout",
     "output_type": "stream",
     "text": [
      "Epoch 1/50\n",
      "259/259 [==============================] - 1s 3ms/step - loss: 0.5703 - accuracy: 0.7117 - val_loss: 0.5270 - val_accuracy: 0.7323\n",
      "Epoch 2/50\n",
      "259/259 [==============================] - 1s 2ms/step - loss: 0.5402 - accuracy: 0.7276 - val_loss: 0.5021 - val_accuracy: 0.7502\n",
      "Epoch 3/50\n",
      "259/259 [==============================] - 0s 2ms/step - loss: 0.5318 - accuracy: 0.7326 - val_loss: 0.5026 - val_accuracy: 0.7498\n",
      "Epoch 4/50\n",
      "259/259 [==============================] - 1s 2ms/step - loss: 0.5298 - accuracy: 0.7349 - val_loss: 0.4855 - val_accuracy: 0.7565\n",
      "Epoch 5/50\n",
      "259/259 [==============================] - 1s 2ms/step - loss: 0.5236 - accuracy: 0.7410 - val_loss: 0.4892 - val_accuracy: 0.7609\n",
      "Epoch 6/50\n",
      "259/259 [==============================] - 1s 2ms/step - loss: 0.5253 - accuracy: 0.7429 - val_loss: 0.4795 - val_accuracy: 0.7633\n",
      "Epoch 7/50\n",
      "259/259 [==============================] - 1s 2ms/step - loss: 0.5223 - accuracy: 0.7387 - val_loss: 0.4848 - val_accuracy: 0.7541\n",
      "Epoch 8/50\n",
      "259/259 [==============================] - 1s 2ms/step - loss: 0.5214 - accuracy: 0.7414 - val_loss: 0.4936 - val_accuracy: 0.7551\n",
      "Epoch 9/50\n",
      "259/259 [==============================] - 1s 2ms/step - loss: 0.5195 - accuracy: 0.7430 - val_loss: 0.4920 - val_accuracy: 0.7459\n",
      "Epoch 10/50\n",
      "259/259 [==============================] - 1s 2ms/step - loss: 0.5222 - accuracy: 0.7387 - val_loss: 0.4823 - val_accuracy: 0.7609\n",
      "Epoch 11/50\n",
      "259/259 [==============================] - 1s 2ms/step - loss: 0.5217 - accuracy: 0.7412 - val_loss: 0.4796 - val_accuracy: 0.7628\n",
      "Epoch 12/50\n",
      "259/259 [==============================] - 1s 2ms/step - loss: 0.5215 - accuracy: 0.7443 - val_loss: 0.4903 - val_accuracy: 0.7517\n",
      "Epoch 13/50\n",
      "259/259 [==============================] - 1s 2ms/step - loss: 0.5244 - accuracy: 0.7349 - val_loss: 0.4830 - val_accuracy: 0.7604\n",
      "Epoch 14/50\n",
      "259/259 [==============================] - 1s 2ms/step - loss: 0.5203 - accuracy: 0.7374 - val_loss: 0.4915 - val_accuracy: 0.7512\n",
      "Epoch 15/50\n",
      "259/259 [==============================] - 1s 2ms/step - loss: 0.5206 - accuracy: 0.7403 - val_loss: 0.4922 - val_accuracy: 0.7594\n",
      "Epoch 16/50\n",
      "259/259 [==============================] - 1s 2ms/step - loss: 0.5221 - accuracy: 0.7417 - val_loss: 0.4898 - val_accuracy: 0.7604\n",
      "Epoch 17/50\n",
      "259/259 [==============================] - 0s 2ms/step - loss: 0.5186 - accuracy: 0.7401 - val_loss: 0.4922 - val_accuracy: 0.7541\n",
      "Epoch 18/50\n",
      "259/259 [==============================] - 0s 2ms/step - loss: 0.5197 - accuracy: 0.7403 - val_loss: 0.4907 - val_accuracy: 0.7580\n",
      "Epoch 19/50\n",
      "259/259 [==============================] - 0s 2ms/step - loss: 0.5200 - accuracy: 0.7411 - val_loss: 0.4910 - val_accuracy: 0.7599\n",
      "Epoch 20/50\n",
      "259/259 [==============================] - 0s 2ms/step - loss: 0.5198 - accuracy: 0.7405 - val_loss: 0.5015 - val_accuracy: 0.7478\n",
      "Epoch 21/50\n",
      "259/259 [==============================] - 0s 2ms/step - loss: 0.5185 - accuracy: 0.7435 - val_loss: 0.5084 - val_accuracy: 0.7430\n",
      "Epoch 22/50\n",
      "259/259 [==============================] - 1s 2ms/step - loss: 0.5167 - accuracy: 0.7399 - val_loss: 0.4861 - val_accuracy: 0.7585\n",
      "Epoch 23/50\n",
      "259/259 [==============================] - 0s 2ms/step - loss: 0.5218 - accuracy: 0.7419 - val_loss: 0.4850 - val_accuracy: 0.7599\n",
      "Epoch 24/50\n",
      "259/259 [==============================] - 0s 2ms/step - loss: 0.5162 - accuracy: 0.7442 - val_loss: 0.4851 - val_accuracy: 0.7565\n",
      "Epoch 25/50\n",
      "259/259 [==============================] - 0s 1ms/step - loss: 0.5165 - accuracy: 0.7449 - val_loss: 0.4927 - val_accuracy: 0.7498\n",
      "Epoch 26/50\n",
      "259/259 [==============================] - 0s 2ms/step - loss: 0.5149 - accuracy: 0.7462 - val_loss: 0.4894 - val_accuracy: 0.7580\n",
      "Epoch 27/50\n",
      "259/259 [==============================] - 1s 2ms/step - loss: 0.5208 - accuracy: 0.7410 - val_loss: 0.5030 - val_accuracy: 0.7469\n",
      "Epoch 28/50\n",
      "259/259 [==============================] - 1s 2ms/step - loss: 0.5204 - accuracy: 0.7396 - val_loss: 0.4961 - val_accuracy: 0.7517\n",
      "Epoch 29/50\n",
      "259/259 [==============================] - 0s 2ms/step - loss: 0.5174 - accuracy: 0.7439 - val_loss: 0.5053 - val_accuracy: 0.7454\n",
      "Epoch 30/50\n",
      "259/259 [==============================] - 1s 2ms/step - loss: 0.5158 - accuracy: 0.7400 - val_loss: 0.4941 - val_accuracy: 0.7488\n",
      "Epoch 31/50\n",
      "259/259 [==============================] - 0s 2ms/step - loss: 0.5172 - accuracy: 0.7418 - val_loss: 0.4875 - val_accuracy: 0.7585\n",
      "Epoch 32/50\n",
      "259/259 [==============================] - 0s 1ms/step - loss: 0.5170 - accuracy: 0.7454 - val_loss: 0.4981 - val_accuracy: 0.7590\n",
      "Epoch 33/50\n",
      "259/259 [==============================] - 0s 2ms/step - loss: 0.5147 - accuracy: 0.7485 - val_loss: 0.4885 - val_accuracy: 0.7565\n",
      "Epoch 34/50\n",
      "259/259 [==============================] - 0s 1ms/step - loss: 0.5177 - accuracy: 0.7426 - val_loss: 0.4861 - val_accuracy: 0.7546\n",
      "Epoch 35/50\n",
      "259/259 [==============================] - 0s 1ms/step - loss: 0.5173 - accuracy: 0.7399 - val_loss: 0.5022 - val_accuracy: 0.7512\n",
      "Epoch 36/50\n",
      "259/259 [==============================] - 0s 2ms/step - loss: 0.5146 - accuracy: 0.7452 - val_loss: 0.4948 - val_accuracy: 0.7527\n",
      "Epoch 37/50\n",
      "259/259 [==============================] - 0s 1ms/step - loss: 0.5167 - accuracy: 0.7430 - val_loss: 0.4825 - val_accuracy: 0.7667\n",
      "Epoch 38/50\n",
      "259/259 [==============================] - 0s 1ms/step - loss: 0.5170 - accuracy: 0.7400 - val_loss: 0.4845 - val_accuracy: 0.7609\n",
      "Epoch 39/50\n",
      "259/259 [==============================] - 1s 2ms/step - loss: 0.5146 - accuracy: 0.7406 - val_loss: 0.4774 - val_accuracy: 0.7580\n",
      "Epoch 40/50\n",
      "259/259 [==============================] - 0s 2ms/step - loss: 0.5152 - accuracy: 0.7412 - val_loss: 0.4910 - val_accuracy: 0.7590\n",
      "Epoch 41/50\n",
      "259/259 [==============================] - 0s 2ms/step - loss: 0.5109 - accuracy: 0.7491 - val_loss: 0.4793 - val_accuracy: 0.7594\n",
      "Epoch 42/50\n",
      "259/259 [==============================] - 0s 2ms/step - loss: 0.5150 - accuracy: 0.7434 - val_loss: 0.4965 - val_accuracy: 0.7522\n",
      "Epoch 43/50\n",
      "259/259 [==============================] - 1s 2ms/step - loss: 0.5145 - accuracy: 0.7465 - val_loss: 0.4896 - val_accuracy: 0.7614\n",
      "Epoch 44/50\n",
      "259/259 [==============================] - 0s 2ms/step - loss: 0.5119 - accuracy: 0.7441 - val_loss: 0.4833 - val_accuracy: 0.7614\n",
      "Epoch 45/50\n",
      "259/259 [==============================] - 0s 2ms/step - loss: 0.5126 - accuracy: 0.7454 - val_loss: 0.4887 - val_accuracy: 0.7493\n",
      "Epoch 46/50\n",
      "259/259 [==============================] - 0s 1ms/step - loss: 0.5126 - accuracy: 0.7468 - val_loss: 0.4915 - val_accuracy: 0.7614\n",
      "Epoch 47/50\n",
      "259/259 [==============================] - 0s 2ms/step - loss: 0.5158 - accuracy: 0.7439 - val_loss: 0.5041 - val_accuracy: 0.7473\n",
      "Epoch 48/50\n",
      "259/259 [==============================] - 0s 1ms/step - loss: 0.5186 - accuracy: 0.7410 - val_loss: 0.4990 - val_accuracy: 0.7478\n",
      "Epoch 49/50\n",
      "259/259 [==============================] - 0s 2ms/step - loss: 0.5149 - accuracy: 0.7420 - val_loss: 0.4873 - val_accuracy: 0.7599\n",
      "Epoch 50/50\n",
      "259/259 [==============================] - 0s 2ms/step - loss: 0.5191 - accuracy: 0.7412 - val_loss: 0.4913 - val_accuracy: 0.7580\n",
      "Best epoch: 37\n"
     ]
    }
   ],
   "source": [
    "# Build the model with the optimal hyperparameters and train it on the data for 50 epochs\n",
    "model = tuner.hypermodel.build(best_hps)\n",
    "history = model.fit(x_train, y_train, epochs=50, validation_split=0.2)\n",
    "\n",
    "acc_per_epoch = history.history['val_accuracy']\n",
    "best_epoch = acc_per_epoch.index(max(acc_per_epoch)) + 1\n",
    "print('Best epoch: %d' % (best_epoch,))"
   ]
  },
  {
   "cell_type": "code",
   "execution_count": 10,
   "id": "3d64223e-989c-4a06-93ce-730da72a574c",
   "metadata": {
    "scrolled": true
   },
   "outputs": [
    {
     "name": "stdout",
     "output_type": "stream",
     "text": [
      "Epoch 1/37\n",
      "259/259 [==============================] - 1s 2ms/step - loss: 0.5692 - accuracy: 0.7138 - val_loss: 0.5224 - val_accuracy: 0.7285\n",
      "Epoch 2/37\n",
      "259/259 [==============================] - 0s 1ms/step - loss: 0.5392 - accuracy: 0.7267 - val_loss: 0.5053 - val_accuracy: 0.7478\n",
      "Epoch 3/37\n",
      "259/259 [==============================] - 0s 2ms/step - loss: 0.5317 - accuracy: 0.7320 - val_loss: 0.5030 - val_accuracy: 0.7493\n",
      "Epoch 4/37\n",
      "259/259 [==============================] - 0s 1ms/step - loss: 0.5303 - accuracy: 0.7361 - val_loss: 0.4889 - val_accuracy: 0.7614\n",
      "Epoch 5/37\n",
      "259/259 [==============================] - 0s 2ms/step - loss: 0.5235 - accuracy: 0.7412 - val_loss: 0.4863 - val_accuracy: 0.7546\n",
      "Epoch 6/37\n",
      "259/259 [==============================] - 0s 2ms/step - loss: 0.5253 - accuracy: 0.7437 - val_loss: 0.4808 - val_accuracy: 0.7609\n",
      "Epoch 7/37\n",
      "259/259 [==============================] - 0s 2ms/step - loss: 0.5220 - accuracy: 0.7414 - val_loss: 0.4847 - val_accuracy: 0.7536\n",
      "Epoch 8/37\n",
      "259/259 [==============================] - 0s 2ms/step - loss: 0.5215 - accuracy: 0.7430 - val_loss: 0.4949 - val_accuracy: 0.7585\n",
      "Epoch 9/37\n",
      "259/259 [==============================] - 0s 2ms/step - loss: 0.5198 - accuracy: 0.7414 - val_loss: 0.4867 - val_accuracy: 0.7493\n",
      "Epoch 10/37\n",
      "259/259 [==============================] - 1s 2ms/step - loss: 0.5218 - accuracy: 0.7399 - val_loss: 0.4860 - val_accuracy: 0.7590\n",
      "Epoch 11/37\n",
      "259/259 [==============================] - 1s 2ms/step - loss: 0.5223 - accuracy: 0.7389 - val_loss: 0.4839 - val_accuracy: 0.7614\n",
      "Epoch 12/37\n",
      "259/259 [==============================] - 0s 2ms/step - loss: 0.5211 - accuracy: 0.7464 - val_loss: 0.4873 - val_accuracy: 0.7614\n",
      "Epoch 13/37\n",
      "259/259 [==============================] - 0s 2ms/step - loss: 0.5243 - accuracy: 0.7368 - val_loss: 0.4858 - val_accuracy: 0.7580\n",
      "Epoch 14/37\n",
      "259/259 [==============================] - 0s 2ms/step - loss: 0.5203 - accuracy: 0.7339 - val_loss: 0.4870 - val_accuracy: 0.7536\n",
      "Epoch 15/37\n",
      "259/259 [==============================] - 1s 2ms/step - loss: 0.5220 - accuracy: 0.7403 - val_loss: 0.4926 - val_accuracy: 0.7585\n",
      "Epoch 16/37\n",
      "259/259 [==============================] - 0s 2ms/step - loss: 0.5217 - accuracy: 0.7439 - val_loss: 0.4908 - val_accuracy: 0.7623\n",
      "Epoch 17/37\n",
      "259/259 [==============================] - 0s 2ms/step - loss: 0.5191 - accuracy: 0.7401 - val_loss: 0.4957 - val_accuracy: 0.7493\n",
      "Epoch 18/37\n",
      "259/259 [==============================] - 0s 2ms/step - loss: 0.5195 - accuracy: 0.7376 - val_loss: 0.4936 - val_accuracy: 0.7580\n",
      "Epoch 19/37\n",
      "259/259 [==============================] - 0s 2ms/step - loss: 0.5210 - accuracy: 0.7423 - val_loss: 0.4913 - val_accuracy: 0.7604\n",
      "Epoch 20/37\n",
      "259/259 [==============================] - 1s 2ms/step - loss: 0.5195 - accuracy: 0.7414 - val_loss: 0.5086 - val_accuracy: 0.7483\n",
      "Epoch 21/37\n",
      "259/259 [==============================] - 0s 2ms/step - loss: 0.5173 - accuracy: 0.7492 - val_loss: 0.5012 - val_accuracy: 0.7551\n",
      "Epoch 22/37\n",
      "259/259 [==============================] - 0s 2ms/step - loss: 0.5176 - accuracy: 0.7413 - val_loss: 0.4839 - val_accuracy: 0.7599\n",
      "Epoch 23/37\n",
      "259/259 [==============================] - 0s 1ms/step - loss: 0.5217 - accuracy: 0.7431 - val_loss: 0.4911 - val_accuracy: 0.7580\n",
      "Epoch 24/37\n",
      "259/259 [==============================] - 0s 1ms/step - loss: 0.5159 - accuracy: 0.7431 - val_loss: 0.4769 - val_accuracy: 0.7701\n",
      "Epoch 25/37\n",
      "259/259 [==============================] - 0s 1ms/step - loss: 0.5170 - accuracy: 0.7447 - val_loss: 0.4878 - val_accuracy: 0.7556\n",
      "Epoch 26/37\n",
      "259/259 [==============================] - 0s 2ms/step - loss: 0.5163 - accuracy: 0.7449 - val_loss: 0.4824 - val_accuracy: 0.7623\n",
      "Epoch 27/37\n",
      "259/259 [==============================] - 0s 1ms/step - loss: 0.5198 - accuracy: 0.7429 - val_loss: 0.5012 - val_accuracy: 0.7531\n",
      "Epoch 28/37\n",
      "259/259 [==============================] - 0s 1ms/step - loss: 0.5186 - accuracy: 0.7428 - val_loss: 0.4880 - val_accuracy: 0.7580\n",
      "Epoch 29/37\n",
      "259/259 [==============================] - 0s 1ms/step - loss: 0.5165 - accuracy: 0.7433 - val_loss: 0.5115 - val_accuracy: 0.7406\n",
      "Epoch 30/37\n",
      "259/259 [==============================] - 0s 1ms/step - loss: 0.5149 - accuracy: 0.7435 - val_loss: 0.4939 - val_accuracy: 0.7498\n",
      "Epoch 31/37\n",
      "259/259 [==============================] - 0s 2ms/step - loss: 0.5166 - accuracy: 0.7439 - val_loss: 0.4862 - val_accuracy: 0.7575\n",
      "Epoch 32/37\n",
      "259/259 [==============================] - 0s 1ms/step - loss: 0.5169 - accuracy: 0.7441 - val_loss: 0.4969 - val_accuracy: 0.7575\n",
      "Epoch 33/37\n",
      "259/259 [==============================] - 0s 1ms/step - loss: 0.5147 - accuracy: 0.7453 - val_loss: 0.4808 - val_accuracy: 0.7590\n",
      "Epoch 34/37\n",
      "259/259 [==============================] - 0s 2ms/step - loss: 0.5188 - accuracy: 0.7412 - val_loss: 0.4875 - val_accuracy: 0.7623\n",
      "Epoch 35/37\n",
      "259/259 [==============================] - 0s 1ms/step - loss: 0.5198 - accuracy: 0.7388 - val_loss: 0.5103 - val_accuracy: 0.7439\n",
      "Epoch 36/37\n",
      "259/259 [==============================] - 0s 2ms/step - loss: 0.5147 - accuracy: 0.7474 - val_loss: 0.4942 - val_accuracy: 0.7580\n",
      "Epoch 37/37\n",
      "259/259 [==============================] - 0s 2ms/step - loss: 0.5158 - accuracy: 0.7399 - val_loss: 0.4834 - val_accuracy: 0.7643\n"
     ]
    },
    {
     "data": {
      "text/plain": [
       "<keras.src.callbacks.History at 0x179256710>"
      ]
     },
     "execution_count": 10,
     "metadata": {},
     "output_type": "execute_result"
    }
   ],
   "source": [
    "hypermodel = tuner.hypermodel.build(best_hps)\n",
    "\n",
    "# Retrain the model\n",
    "hypermodel.fit(x_train, y_train, epochs=best_epoch, validation_split=0.2)"
   ]
  },
  {
   "cell_type": "code",
   "execution_count": 11,
   "id": "f20311ec-e533-4608-9d4d-69e16e9916a5",
   "metadata": {},
   "outputs": [],
   "source": [
    "b_acc = keras.metrics.BinaryAccuracy(name=\"binary_accuracy\", dtype=None, threshold=0.5)"
   ]
  },
  {
   "cell_type": "code",
   "execution_count": 12,
   "id": "ab9a75f7-9c97-41e5-91da-30a661915d52",
   "metadata": {
    "scrolled": true
   },
   "outputs": [
    {
     "data": {
      "text/plain": [
       "0.7525174"
      ]
     },
     "execution_count": 12,
     "metadata": {},
     "output_type": "execute_result"
    }
   ],
   "source": [
    "pred = hypermodel(x_test)\n",
    "b_acc.update_state(y_test, pred)\n",
    "result = b_acc.result()\n",
    "result.numpy()"
   ]
  },
  {
   "cell_type": "code",
   "execution_count": 13,
   "id": "5b43d030-1ca1-439c-9502-c724be779989",
   "metadata": {},
   "outputs": [],
   "source": [
    "# save model\n",
    "hypermodel.save('model/binary_class_dii.keras')"
   ]
  }
 ],
 "metadata": {
  "kernelspec": {
   "display_name": "Python 3 (ipykernel)",
   "language": "python",
   "name": "python3"
  },
  "language_info": {
   "codemirror_mode": {
    "name": "ipython",
    "version": 3
   },
   "file_extension": ".py",
   "mimetype": "text/x-python",
   "name": "python",
   "nbconvert_exporter": "python",
   "pygments_lexer": "ipython3",
   "version": "3.11.5"
  }
 },
 "nbformat": 4,
 "nbformat_minor": 5
}
