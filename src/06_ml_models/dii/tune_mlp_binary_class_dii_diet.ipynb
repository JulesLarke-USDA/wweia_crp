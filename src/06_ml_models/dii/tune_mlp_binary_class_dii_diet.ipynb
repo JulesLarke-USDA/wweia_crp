{
 "cells": [
  {
   "cell_type": "code",
   "execution_count": 1,
   "id": "dbd650f1-391d-449e-a44e-f657458e4baa",
   "metadata": {},
   "outputs": [
    {
     "name": "stderr",
     "output_type": "stream",
     "text": [
      "2024-07-08 15:38:30.141763: I tensorflow/core/platform/cpu_feature_guard.cc:182] This TensorFlow binary is optimized to use available CPU instructions in performance-critical operations.\n",
      "To enable the following instructions: AVX2 AVX512F AVX512_VNNI FMA, in other operations, rebuild TensorFlow with the appropriate compiler flags.\n"
     ]
    }
   ],
   "source": [
    "import tensorflow as tf\n",
    "from tensorflow import keras\n",
    "import keras_tuner as kt\n",
    "import pandas as pd\n",
    "import numpy as np"
   ]
  },
  {
   "cell_type": "code",
   "execution_count": 2,
   "id": "1a4100d8-439e-4b7e-89db-df7e769637b8",
   "metadata": {},
   "outputs": [],
   "source": [
    "## load data\n",
    "x_train = pd.read_csv(\"../../../data/05/dii/x_train_diet.csv\", index_col=0, header=0)\n",
    "y_train = pd.read_csv(\"../../../data/05/dii/y_train.csv\", index_col = 0, header = 0 )\n",
    "sw_train = pd.read_csv(\"../../../data/05/dii/sw_train.csv\", index_col = 0, header = 0 )\n",
    "x_test = pd.read_csv(\"../../../data/05/dii/x_test_diet.csv\", index_col=0, header=0)\n",
    "y_test = pd.read_csv(\"../../../data/05/dii/y_test.csv\", index_col = 0, header = 0 )\n",
    "x_test = x_test[x_train.columns] # reordered columns to match (column ordered changed during taxahfe)\n",
    "\n",
    "x_train = x_train.sort_index(axis = 0)\n",
    "y_train = y_train.sort_index(axis = 0)\n",
    "sw_train = sw_train.sort_index(axis = 0)\n",
    "x_test = x_test.sort_index(axis = 0)\n",
    "y_test = y_test.sort_index(axis = 0)\n",
    "\n",
    "x_train = x_train.reset_index()\n",
    "y_train = y_train.reset_index()\n",
    "sw_train = sw_train.reset_index()\n",
    "x_test = x_test.reset_index()\n",
    "y_test = y_test.reset_index()\n",
    "\n",
    "x_train = x_train.drop(columns='SEQN')\n",
    "y_train = y_train.drop(columns='SEQN')\n",
    "sw_train = sw_train.drop(columns='SEQN')\n",
    "x_test = x_test.drop(columns='SEQN')\n",
    "y_test = y_test.drop(columns='SEQN')\n",
    "\n",
    "x_train = np.array(x_train)\n",
    "y_train = np.array(y_train)\n",
    "sample_weights = np.array(sw_train)\n",
    "x_test = np.array(x_test)\n",
    "y_test = np.array(y_test)"
   ]
  },
  {
   "cell_type": "code",
   "execution_count": 3,
   "id": "282546cc-c9e0-440e-a9d5-cad991f39079",
   "metadata": {},
   "outputs": [],
   "source": [
    "keras.utils.set_random_seed(0)"
   ]
  },
  {
   "cell_type": "code",
   "execution_count": 4,
   "id": "412eaefd-8dc2-451a-abaa-75978868d405",
   "metadata": {},
   "outputs": [],
   "source": [
    "acc = keras.metrics.Accuracy()"
   ]
  },
  {
   "cell_type": "code",
   "execution_count": 5,
   "id": "d9da4935-3f86-4425-a236-ebba519e0e92",
   "metadata": {},
   "outputs": [],
   "source": [
    "# baseline model\n",
    "def model_builder(hp):\n",
    "\t# create model\n",
    "    model = keras.Sequential()\n",
    "    model.add(keras.layers.BatchNormalization(input_shape=(1,)))\n",
    "\n",
    "\t# Tune the number of units in the first Dense layer\n",
    "    hp_units_1 = hp.Int('units_1', min_value=32, max_value=256, step=16)\n",
    "    model.add(keras.layers.Dense(units=hp_units_1, activation='relu'))\n",
    "    model.add(keras.layers.BatchNormalization())\n",
    "    model.add(keras.layers.Dense(1, activation='sigmoid'))\n",
    "\n",
    "    \n",
    "    # Tune the learning rate for the optimizer\n",
    "    # Choose an optimal value from 0.01, 0.001, or 0.0001\n",
    "    hp_learning_rate = hp.Choice('learning_rate', values=[1e-2, 1e-3, 1e-4])\n",
    "\n",
    "\t# Compile model\n",
    "    model.compile(loss='binary_crossentropy', optimizer=keras.optimizers.Adam(learning_rate=hp_learning_rate), sample_weight_mode=sample_weights, metrics=['accuracy'])\n",
    "    return model"
   ]
  },
  {
   "cell_type": "code",
   "execution_count": 6,
   "id": "d08505c4-ce6c-4277-ad2f-77449146f3ee",
   "metadata": {},
   "outputs": [
    {
     "name": "stdout",
     "output_type": "stream",
     "text": [
      "Reloading Tuner from tune/binary_class_dii_diet/tuner0.json\n"
     ]
    }
   ],
   "source": [
    "tuner = kt.Hyperband(model_builder,\n",
    "                     objective=kt.Objective(\"val_accuracy\", direction=\"max\"),\n",
    "                     max_epochs=20,\n",
    "                     factor=3,\n",
    "                     directory='tune',\n",
    "                     project_name='binary_class_dii_diet')"
   ]
  },
  {
   "cell_type": "code",
   "execution_count": 7,
   "id": "f3c6cf1e-b11c-4552-adcc-938370472299",
   "metadata": {},
   "outputs": [],
   "source": [
    "stop_early = tf.keras.callbacks.EarlyStopping(monitor='val_accuracy', patience=5)\n",
    "lr_curve = tf.keras.callbacks.ReduceLROnPlateau(\n",
    "    monitor='val_accuracy',\n",
    "    factor=0.1,\n",
    "    patience=5)"
   ]
  },
  {
   "cell_type": "code",
   "execution_count": 8,
   "id": "09be1855-e4f9-42bc-9668-7c03c86e2d3c",
   "metadata": {},
   "outputs": [
    {
     "name": "stdout",
     "output_type": "stream",
     "text": [
      "\n",
      "The hyperparameter search is complete. The optimal number of units in the first densely-connected\n",
      "layer is 128 and the optimal learning rate for the optimizer\n",
      "is 0.01.\n",
      "\n"
     ]
    }
   ],
   "source": [
    "tuner.search(x_train, y_train, epochs=50, validation_split=0.2, callbacks=[stop_early, lr_curve])\n",
    "\n",
    "# Get the optimal hyperparameters\n",
    "best_hps=tuner.get_best_hyperparameters(num_trials=1)[0]\n",
    "\n",
    "print(f\"\"\"\n",
    "The hyperparameter search is complete. The optimal number of units in the first densely-connected\n",
    "layer is {best_hps.get('units_1')} and the optimal learning rate for the optimizer\n",
    "is {best_hps.get('learning_rate')}.\n",
    "\"\"\")"
   ]
  },
  {
   "cell_type": "code",
   "execution_count": 9,
   "id": "1c78c22c-0053-42ff-b4f8-84ab80620c72",
   "metadata": {
    "scrolled": true
   },
   "outputs": [
    {
     "name": "stdout",
     "output_type": "stream",
     "text": [
      "Epoch 1/50\n",
      "259/259 [==============================] - 1s 2ms/step - loss: 0.7209 - accuracy: 0.5033 - val_loss: 0.6993 - val_accuracy: 0.4860\n",
      "Epoch 2/50\n",
      "259/259 [==============================] - 0s 2ms/step - loss: 0.7047 - accuracy: 0.4980 - val_loss: 0.7141 - val_accuracy: 0.5097\n",
      "Epoch 3/50\n",
      "259/259 [==============================] - 0s 2ms/step - loss: 0.7031 - accuracy: 0.4964 - val_loss: 0.6962 - val_accuracy: 0.5087\n",
      "Epoch 4/50\n",
      "259/259 [==============================] - 0s 1ms/step - loss: 0.6990 - accuracy: 0.5065 - val_loss: 0.7061 - val_accuracy: 0.4956\n",
      "Epoch 5/50\n",
      "259/259 [==============================] - 0s 1ms/step - loss: 0.6992 - accuracy: 0.5033 - val_loss: 0.6939 - val_accuracy: 0.4981\n",
      "Epoch 6/50\n",
      "259/259 [==============================] - 0s 1ms/step - loss: 0.6953 - accuracy: 0.4975 - val_loss: 0.6912 - val_accuracy: 0.5397\n",
      "Epoch 7/50\n",
      "259/259 [==============================] - 0s 1ms/step - loss: 0.6946 - accuracy: 0.5062 - val_loss: 0.6953 - val_accuracy: 0.4777\n",
      "Epoch 8/50\n",
      "259/259 [==============================] - 0s 1ms/step - loss: 0.6936 - accuracy: 0.5068 - val_loss: 0.6934 - val_accuracy: 0.5058\n",
      "Epoch 9/50\n",
      "259/259 [==============================] - 0s 2ms/step - loss: 0.6927 - accuracy: 0.5124 - val_loss: 0.6926 - val_accuracy: 0.5082\n",
      "Epoch 10/50\n",
      "259/259 [==============================] - 0s 2ms/step - loss: 0.6925 - accuracy: 0.5175 - val_loss: 0.6902 - val_accuracy: 0.5392\n",
      "Epoch 11/50\n",
      "259/259 [==============================] - 0s 1ms/step - loss: 0.6929 - accuracy: 0.5120 - val_loss: 0.6904 - val_accuracy: 0.5310\n",
      "Epoch 12/50\n",
      "259/259 [==============================] - 0s 2ms/step - loss: 0.6930 - accuracy: 0.5148 - val_loss: 0.6923 - val_accuracy: 0.5131\n",
      "Epoch 13/50\n",
      "259/259 [==============================] - 0s 1ms/step - loss: 0.6927 - accuracy: 0.5049 - val_loss: 0.6916 - val_accuracy: 0.5165\n",
      "Epoch 14/50\n",
      "259/259 [==============================] - 1s 2ms/step - loss: 0.6930 - accuracy: 0.5094 - val_loss: 0.6928 - val_accuracy: 0.5077\n",
      "Epoch 15/50\n",
      "259/259 [==============================] - 0s 2ms/step - loss: 0.6927 - accuracy: 0.5166 - val_loss: 0.6919 - val_accuracy: 0.5179\n",
      "Epoch 16/50\n",
      "259/259 [==============================] - 0s 2ms/step - loss: 0.6932 - accuracy: 0.5151 - val_loss: 0.6901 - val_accuracy: 0.5223\n",
      "Epoch 17/50\n",
      "259/259 [==============================] - 1s 2ms/step - loss: 0.6932 - accuracy: 0.5151 - val_loss: 0.6978 - val_accuracy: 0.4627\n",
      "Epoch 18/50\n",
      "259/259 [==============================] - 0s 2ms/step - loss: 0.6927 - accuracy: 0.5134 - val_loss: 0.6911 - val_accuracy: 0.5150\n",
      "Epoch 19/50\n",
      "259/259 [==============================] - 0s 2ms/step - loss: 0.6929 - accuracy: 0.5126 - val_loss: 0.6917 - val_accuracy: 0.5174\n",
      "Epoch 20/50\n",
      "259/259 [==============================] - 0s 2ms/step - loss: 0.6931 - accuracy: 0.5094 - val_loss: 0.6937 - val_accuracy: 0.4869\n",
      "Epoch 21/50\n",
      "259/259 [==============================] - 0s 2ms/step - loss: 0.6929 - accuracy: 0.5022 - val_loss: 0.6910 - val_accuracy: 0.5179\n",
      "Epoch 22/50\n",
      "259/259 [==============================] - 0s 1ms/step - loss: 0.6935 - accuracy: 0.5119 - val_loss: 0.6914 - val_accuracy: 0.5189\n",
      "Epoch 23/50\n",
      "259/259 [==============================] - 0s 2ms/step - loss: 0.6931 - accuracy: 0.4998 - val_loss: 0.6915 - val_accuracy: 0.5136\n",
      "Epoch 24/50\n",
      "259/259 [==============================] - 0s 2ms/step - loss: 0.6931 - accuracy: 0.5108 - val_loss: 0.6938 - val_accuracy: 0.4913\n",
      "Epoch 25/50\n",
      "259/259 [==============================] - 0s 2ms/step - loss: 0.6931 - accuracy: 0.5170 - val_loss: 0.6913 - val_accuracy: 0.5208\n",
      "Epoch 26/50\n",
      "259/259 [==============================] - 0s 2ms/step - loss: 0.6929 - accuracy: 0.5126 - val_loss: 0.6899 - val_accuracy: 0.5286\n",
      "Epoch 27/50\n",
      "259/259 [==============================] - 0s 2ms/step - loss: 0.6933 - accuracy: 0.5163 - val_loss: 0.6967 - val_accuracy: 0.4923\n",
      "Epoch 28/50\n",
      "259/259 [==============================] - 1s 2ms/step - loss: 0.6939 - accuracy: 0.5049 - val_loss: 0.6903 - val_accuracy: 0.5266\n",
      "Epoch 29/50\n",
      "259/259 [==============================] - 0s 2ms/step - loss: 0.6933 - accuracy: 0.5090 - val_loss: 0.6947 - val_accuracy: 0.4879\n",
      "Epoch 30/50\n",
      "259/259 [==============================] - 0s 2ms/step - loss: 0.6928 - accuracy: 0.5100 - val_loss: 0.6945 - val_accuracy: 0.4913\n",
      "Epoch 31/50\n",
      "259/259 [==============================] - 0s 2ms/step - loss: 0.6931 - accuracy: 0.5091 - val_loss: 0.6899 - val_accuracy: 0.5261\n",
      "Epoch 32/50\n",
      "259/259 [==============================] - 1s 2ms/step - loss: 0.6932 - accuracy: 0.5084 - val_loss: 0.6927 - val_accuracy: 0.5160\n",
      "Epoch 33/50\n",
      "259/259 [==============================] - 0s 2ms/step - loss: 0.6932 - accuracy: 0.5151 - val_loss: 0.6921 - val_accuracy: 0.5150\n",
      "Epoch 34/50\n",
      "259/259 [==============================] - 0s 1ms/step - loss: 0.6941 - accuracy: 0.5053 - val_loss: 0.6947 - val_accuracy: 0.4758\n",
      "Epoch 35/50\n",
      "259/259 [==============================] - 0s 1ms/step - loss: 0.6929 - accuracy: 0.5093 - val_loss: 0.6917 - val_accuracy: 0.5160\n",
      "Epoch 36/50\n",
      "259/259 [==============================] - 0s 1ms/step - loss: 0.6929 - accuracy: 0.5066 - val_loss: 0.6912 - val_accuracy: 0.5155\n",
      "Epoch 37/50\n",
      "259/259 [==============================] - 0s 1ms/step - loss: 0.6932 - accuracy: 0.5117 - val_loss: 0.6894 - val_accuracy: 0.5363\n",
      "Epoch 38/50\n",
      "259/259 [==============================] - 0s 2ms/step - loss: 0.6927 - accuracy: 0.5112 - val_loss: 0.6893 - val_accuracy: 0.5261\n",
      "Epoch 39/50\n",
      "259/259 [==============================] - 0s 2ms/step - loss: 0.6932 - accuracy: 0.5094 - val_loss: 0.6892 - val_accuracy: 0.5319\n",
      "Epoch 40/50\n",
      "259/259 [==============================] - 0s 1ms/step - loss: 0.6932 - accuracy: 0.5036 - val_loss: 0.6897 - val_accuracy: 0.5421\n",
      "Epoch 41/50\n",
      "259/259 [==============================] - 0s 1ms/step - loss: 0.6925 - accuracy: 0.5198 - val_loss: 0.6889 - val_accuracy: 0.5286\n",
      "Epoch 42/50\n",
      "259/259 [==============================] - 0s 1ms/step - loss: 0.6930 - accuracy: 0.5093 - val_loss: 0.6959 - val_accuracy: 0.4666\n",
      "Epoch 43/50\n",
      "259/259 [==============================] - 0s 1ms/step - loss: 0.6937 - accuracy: 0.5129 - val_loss: 0.6903 - val_accuracy: 0.5184\n",
      "Epoch 44/50\n",
      "259/259 [==============================] - 0s 1ms/step - loss: 0.6927 - accuracy: 0.5095 - val_loss: 0.6903 - val_accuracy: 0.5208\n",
      "Epoch 45/50\n",
      "259/259 [==============================] - 0s 2ms/step - loss: 0.6928 - accuracy: 0.5149 - val_loss: 0.6897 - val_accuracy: 0.5324\n",
      "Epoch 46/50\n",
      "259/259 [==============================] - 0s 1ms/step - loss: 0.6933 - accuracy: 0.5158 - val_loss: 0.6915 - val_accuracy: 0.5169\n",
      "Epoch 47/50\n",
      "259/259 [==============================] - 0s 1ms/step - loss: 0.6941 - accuracy: 0.5094 - val_loss: 0.6956 - val_accuracy: 0.4932\n",
      "Epoch 48/50\n",
      "259/259 [==============================] - 0s 1ms/step - loss: 0.6938 - accuracy: 0.5088 - val_loss: 0.6915 - val_accuracy: 0.5213\n",
      "Epoch 49/50\n",
      "259/259 [==============================] - 0s 1ms/step - loss: 0.6928 - accuracy: 0.5114 - val_loss: 0.6935 - val_accuracy: 0.5034\n",
      "Epoch 50/50\n",
      "259/259 [==============================] - 0s 2ms/step - loss: 0.6930 - accuracy: 0.5024 - val_loss: 0.6911 - val_accuracy: 0.5189\n",
      "Best epoch: 40\n"
     ]
    }
   ],
   "source": [
    "# Build the model with the optimal hyperparameters and train it on the data for 50 epochs\n",
    "model = tuner.hypermodel.build(best_hps)\n",
    "history = model.fit(x_train, y_train, epochs=50, validation_split=0.2)\n",
    "\n",
    "acc_per_epoch = history.history['val_accuracy']\n",
    "best_epoch = acc_per_epoch.index(max(acc_per_epoch)) + 1\n",
    "print('Best epoch: %d' % (best_epoch,))"
   ]
  },
  {
   "cell_type": "code",
   "execution_count": 10,
   "id": "3d64223e-989c-4a06-93ce-730da72a574c",
   "metadata": {
    "scrolled": true
   },
   "outputs": [
    {
     "name": "stdout",
     "output_type": "stream",
     "text": [
      "Epoch 1/40\n",
      "259/259 [==============================] - 1s 2ms/step - loss: 0.7276 - accuracy: 0.5015 - val_loss: 0.7044 - val_accuracy: 0.4647\n",
      "Epoch 2/40\n",
      "259/259 [==============================] - 0s 2ms/step - loss: 0.7028 - accuracy: 0.4993 - val_loss: 0.7047 - val_accuracy: 0.5169\n",
      "Epoch 3/40\n",
      "259/259 [==============================] - 0s 1ms/step - loss: 0.7010 - accuracy: 0.4972 - val_loss: 0.6935 - val_accuracy: 0.4889\n",
      "Epoch 4/40\n",
      "259/259 [==============================] - 0s 2ms/step - loss: 0.6981 - accuracy: 0.5037 - val_loss: 0.7022 - val_accuracy: 0.4777\n",
      "Epoch 5/40\n",
      "259/259 [==============================] - 0s 2ms/step - loss: 0.6971 - accuracy: 0.5045 - val_loss: 0.7023 - val_accuracy: 0.4724\n",
      "Epoch 6/40\n",
      "259/259 [==============================] - 0s 2ms/step - loss: 0.6947 - accuracy: 0.5005 - val_loss: 0.6889 - val_accuracy: 0.5198\n",
      "Epoch 7/40\n",
      "259/259 [==============================] - 0s 2ms/step - loss: 0.6939 - accuracy: 0.5034 - val_loss: 0.6948 - val_accuracy: 0.4811\n",
      "Epoch 8/40\n",
      "259/259 [==============================] - 0s 2ms/step - loss: 0.6935 - accuracy: 0.5045 - val_loss: 0.6940 - val_accuracy: 0.5029\n",
      "Epoch 9/40\n",
      "259/259 [==============================] - 0s 2ms/step - loss: 0.6926 - accuracy: 0.5100 - val_loss: 0.6923 - val_accuracy: 0.5111\n",
      "Epoch 10/40\n",
      "259/259 [==============================] - 0s 2ms/step - loss: 0.6924 - accuracy: 0.5188 - val_loss: 0.6882 - val_accuracy: 0.5421\n",
      "Epoch 11/40\n",
      "259/259 [==============================] - 0s 2ms/step - loss: 0.6930 - accuracy: 0.5126 - val_loss: 0.6906 - val_accuracy: 0.5237\n",
      "Epoch 12/40\n",
      "259/259 [==============================] - 0s 2ms/step - loss: 0.6932 - accuracy: 0.5133 - val_loss: 0.6921 - val_accuracy: 0.5169\n",
      "Epoch 13/40\n",
      "259/259 [==============================] - 0s 2ms/step - loss: 0.6931 - accuracy: 0.5089 - val_loss: 0.6905 - val_accuracy: 0.5165\n",
      "Epoch 14/40\n",
      "259/259 [==============================] - 0s 2ms/step - loss: 0.6931 - accuracy: 0.5083 - val_loss: 0.6934 - val_accuracy: 0.5053\n",
      "Epoch 15/40\n",
      "259/259 [==============================] - 0s 2ms/step - loss: 0.6928 - accuracy: 0.5158 - val_loss: 0.6928 - val_accuracy: 0.5039\n",
      "Epoch 16/40\n",
      "259/259 [==============================] - 0s 2ms/step - loss: 0.6930 - accuracy: 0.5187 - val_loss: 0.6905 - val_accuracy: 0.5179\n",
      "Epoch 17/40\n",
      "259/259 [==============================] - 0s 2ms/step - loss: 0.6932 - accuracy: 0.5130 - val_loss: 0.6957 - val_accuracy: 0.4787\n",
      "Epoch 18/40\n",
      "259/259 [==============================] - 0s 2ms/step - loss: 0.6926 - accuracy: 0.5146 - val_loss: 0.6916 - val_accuracy: 0.5165\n",
      "Epoch 19/40\n",
      "259/259 [==============================] - 0s 2ms/step - loss: 0.6930 - accuracy: 0.5139 - val_loss: 0.6932 - val_accuracy: 0.5073\n",
      "Epoch 20/40\n",
      "259/259 [==============================] - 0s 2ms/step - loss: 0.6930 - accuracy: 0.5129 - val_loss: 0.6934 - val_accuracy: 0.4927\n",
      "Epoch 21/40\n",
      "259/259 [==============================] - 0s 2ms/step - loss: 0.6927 - accuracy: 0.5084 - val_loss: 0.6911 - val_accuracy: 0.5165\n",
      "Epoch 22/40\n",
      "259/259 [==============================] - 0s 2ms/step - loss: 0.6932 - accuracy: 0.5111 - val_loss: 0.6909 - val_accuracy: 0.5189\n",
      "Epoch 23/40\n",
      "259/259 [==============================] - 0s 2ms/step - loss: 0.6935 - accuracy: 0.5021 - val_loss: 0.6914 - val_accuracy: 0.5140\n",
      "Epoch 24/40\n",
      "259/259 [==============================] - 0s 2ms/step - loss: 0.6931 - accuracy: 0.5103 - val_loss: 0.6950 - val_accuracy: 0.4879\n",
      "Epoch 25/40\n",
      "259/259 [==============================] - 0s 2ms/step - loss: 0.6933 - accuracy: 0.5174 - val_loss: 0.6909 - val_accuracy: 0.5286\n",
      "Epoch 26/40\n",
      "259/259 [==============================] - 0s 1ms/step - loss: 0.6930 - accuracy: 0.5146 - val_loss: 0.6906 - val_accuracy: 0.5223\n",
      "Epoch 27/40\n",
      "259/259 [==============================] - 0s 2ms/step - loss: 0.6931 - accuracy: 0.5117 - val_loss: 0.6936 - val_accuracy: 0.5034\n",
      "Epoch 28/40\n",
      "259/259 [==============================] - 0s 2ms/step - loss: 0.6937 - accuracy: 0.5062 - val_loss: 0.6906 - val_accuracy: 0.5218\n",
      "Epoch 29/40\n",
      "259/259 [==============================] - 0s 1ms/step - loss: 0.6932 - accuracy: 0.5082 - val_loss: 0.6955 - val_accuracy: 0.4913\n",
      "Epoch 30/40\n",
      "259/259 [==============================] - 0s 1ms/step - loss: 0.6931 - accuracy: 0.5108 - val_loss: 0.6941 - val_accuracy: 0.4995\n",
      "Epoch 31/40\n",
      "259/259 [==============================] - 0s 1ms/step - loss: 0.6932 - accuracy: 0.5110 - val_loss: 0.6910 - val_accuracy: 0.5184\n",
      "Epoch 32/40\n",
      "259/259 [==============================] - 0s 1ms/step - loss: 0.6933 - accuracy: 0.5097 - val_loss: 0.6921 - val_accuracy: 0.5174\n",
      "Epoch 33/40\n",
      "259/259 [==============================] - 0s 1ms/step - loss: 0.6932 - accuracy: 0.5128 - val_loss: 0.6908 - val_accuracy: 0.5295\n",
      "Epoch 34/40\n",
      "259/259 [==============================] - 0s 1ms/step - loss: 0.6939 - accuracy: 0.5016 - val_loss: 0.6896 - val_accuracy: 0.5257\n",
      "Epoch 35/40\n",
      "259/259 [==============================] - 0s 1ms/step - loss: 0.6930 - accuracy: 0.5096 - val_loss: 0.6940 - val_accuracy: 0.5082\n",
      "Epoch 36/40\n",
      "259/259 [==============================] - 0s 1ms/step - loss: 0.6930 - accuracy: 0.5057 - val_loss: 0.6921 - val_accuracy: 0.5184\n",
      "Epoch 37/40\n",
      "259/259 [==============================] - 0s 1ms/step - loss: 0.6932 - accuracy: 0.5118 - val_loss: 0.6903 - val_accuracy: 0.5208\n",
      "Epoch 38/40\n",
      "259/259 [==============================] - 0s 1ms/step - loss: 0.6929 - accuracy: 0.5050 - val_loss: 0.6905 - val_accuracy: 0.5203\n",
      "Epoch 39/40\n",
      "259/259 [==============================] - 0s 1ms/step - loss: 0.6931 - accuracy: 0.5103 - val_loss: 0.6892 - val_accuracy: 0.5300\n",
      "Epoch 40/40\n",
      "259/259 [==============================] - 0s 1ms/step - loss: 0.6935 - accuracy: 0.5083 - val_loss: 0.6896 - val_accuracy: 0.5286\n"
     ]
    },
    {
     "data": {
      "text/plain": [
       "<keras.src.callbacks.History at 0x179fbf250>"
      ]
     },
     "execution_count": 10,
     "metadata": {},
     "output_type": "execute_result"
    }
   ],
   "source": [
    "hypermodel = tuner.hypermodel.build(best_hps)\n",
    "\n",
    "# Retrain the model\n",
    "hypermodel.fit(x_train, y_train, epochs=best_epoch, validation_split=0.2)"
   ]
  },
  {
   "cell_type": "code",
   "execution_count": 11,
   "id": "f20311ec-e533-4608-9d4d-69e16e9916a5",
   "metadata": {},
   "outputs": [],
   "source": [
    "b_acc = keras.metrics.BinaryAccuracy(name=\"binary_accuracy\", dtype=None, threshold=0.5)"
   ]
  },
  {
   "cell_type": "code",
   "execution_count": 12,
   "id": "ab9a75f7-9c97-41e5-91da-30a661915d52",
   "metadata": {
    "scrolled": true
   },
   "outputs": [
    {
     "data": {
      "text/plain": [
       "0.50658405"
      ]
     },
     "execution_count": 12,
     "metadata": {},
     "output_type": "execute_result"
    }
   ],
   "source": [
    "pred = hypermodel(x_test)\n",
    "b_acc.update_state(y_test, pred)\n",
    "result = b_acc.result()\n",
    "result.numpy()"
   ]
  },
  {
   "cell_type": "code",
   "execution_count": 13,
   "id": "5b43d030-1ca1-439c-9502-c724be779989",
   "metadata": {},
   "outputs": [],
   "source": [
    "# save model\n",
    "hypermodel.save('model/binary_class_dii_diet.keras')"
   ]
  }
 ],
 "metadata": {
  "kernelspec": {
   "display_name": "Python 3 (ipykernel)",
   "language": "python",
   "name": "python3"
  },
  "language_info": {
   "codemirror_mode": {
    "name": "ipython",
    "version": 3
   },
   "file_extension": ".py",
   "mimetype": "text/x-python",
   "name": "python",
   "nbconvert_exporter": "python",
   "pygments_lexer": "ipython3",
   "version": "3.11.5"
  }
 },
 "nbformat": 4,
 "nbformat_minor": 5
}
