{
 "cells": [
  {
   "cell_type": "markdown",
   "id": "6531584f",
   "metadata": {},
   "source": [
    "### Title: 00_build_wweia_foodcode_dataset\n",
    "### Purpose: Build out the WWEIA FoodCode dataset by intergrating the covariates / inclusion criteria / CRP data\n",
    "### Date: March 14, 2024\n",
    "### Author: Jules Larke"
   ]
  },
  {
   "cell_type": "code",
   "execution_count": 1,
   "id": "7535c8ff",
   "metadata": {},
   "outputs": [],
   "source": [
    "# Education, Age, and Sex are already in wweia_ingredients"
   ]
  },
  {
   "cell_type": "code",
   "execution_count": 2,
   "id": "1dbf2498",
   "metadata": {},
   "outputs": [],
   "source": [
    "# Import packages\n",
    "import pandas as pd\n",
    "import numpy as np\n",
    "from sklearn.linear_model import LinearRegression"
   ]
  },
  {
   "cell_type": "code",
   "execution_count": 4,
   "id": "53290d93",
   "metadata": {},
   "outputs": [],
   "source": [
    "# Load data for WWEIA foodcodes\n",
    "# Dataset (wweia_all_recalls.txt) can be generated from https://github.com/JulesLarke-USDA/wweia_ingredients\n",
    "# and placed in the proper directory for loading\n",
    "\n",
    "wweia = pd.read_csv('/Users/jules.larke/work/github/wweia_ingredients/data/04/wweia_foodcodes.txt', sep='\\t')"
   ]
  },
  {
   "cell_type": "code",
   "execution_count": 5,
   "id": "e0f9791f",
   "metadata": {},
   "outputs": [],
   "source": [
    "# subset to include 18+ y/o\n",
    "adults = wweia[wweia['RIDAGEYR'] > 17]"
   ]
  },
  {
   "cell_type": "code",
   "execution_count": 6,
   "id": "339d0e8f",
   "metadata": {},
   "outputs": [
    {
     "name": "stderr",
     "output_type": "stream",
     "text": [
      "/var/folders/28/kcjp2s310sx44jpn8yqs8y9c929k6r/T/ipykernel_44510/611329907.py:1: SettingWithCopyWarning: \n",
      "A value is trying to be set on a copy of a slice from a DataFrame\n",
      "\n",
      "See the caveats in the documentation: https://pandas.pydata.org/pandas-docs/stable/user_guide/indexing.html#returning-a-view-versus-a-copy\n",
      "  adults.rename(columns={'RIDAGEYR': 'Age'},inplace=True)\n",
      "/var/folders/28/kcjp2s310sx44jpn8yqs8y9c929k6r/T/ipykernel_44510/611329907.py:2: SettingWithCopyWarning: \n",
      "A value is trying to be set on a copy of a slice from a DataFrame\n",
      "\n",
      "See the caveats in the documentation: https://pandas.pydata.org/pandas-docs/stable/user_guide/indexing.html#returning-a-view-versus-a-copy\n",
      "  adults.rename(columns={'RIAGENDR': 'Sex'},inplace=True)\n"
     ]
    }
   ],
   "source": [
    "adults.rename(columns={'RIDAGEYR': 'Age'},inplace=True)\n",
    "adults.rename(columns={'RIAGENDR': 'Sex'},inplace=True)"
   ]
  },
  {
   "cell_type": "markdown",
   "id": "ca2eb75a",
   "metadata": {},
   "source": [
    "### Education"
   ]
  },
  {
   "cell_type": "code",
   "execution_count": 7,
   "id": "07019e50",
   "metadata": {},
   "outputs": [],
   "source": [
    "adults.loc[adults.SEQN==16247, 'DMDEDUC2'] = 9"
   ]
  },
  {
   "cell_type": "code",
   "execution_count": 8,
   "id": "adf36ec1",
   "metadata": {
    "scrolled": true
   },
   "outputs": [
    {
     "name": "stderr",
     "output_type": "stream",
     "text": [
      "/var/folders/28/kcjp2s310sx44jpn8yqs8y9c929k6r/T/ipykernel_44510/2139188517.py:2: SettingWithCopyWarning: \n",
      "A value is trying to be set on a copy of a slice from a DataFrame.\n",
      "Try using .loc[row_indexer,col_indexer] = value instead\n",
      "\n",
      "See the caveats in the documentation: https://pandas.pydata.org/pandas-docs/stable/user_guide/indexing.html#returning-a-view-versus-a-copy\n",
      "  adults['DMDEDUC3'] = adults['DMDEDUC3'].replace([13, 14, 15], 'high school graduate or equivalent')\n",
      "/var/folders/28/kcjp2s310sx44jpn8yqs8y9c929k6r/T/ipykernel_44510/2139188517.py:3: SettingWithCopyWarning: \n",
      "A value is trying to be set on a copy of a slice from a DataFrame.\n",
      "Try using .loc[row_indexer,col_indexer] = value instead\n",
      "\n",
      "See the caveats in the documentation: https://pandas.pydata.org/pandas-docs/stable/user_guide/indexing.html#returning-a-view-versus-a-copy\n",
      "  adults['DMDEDUC3'] = adults['DMDEDUC3'].replace([9, 10, 11, 12, 66, 99], 'less than high school graduate')\n"
     ]
    }
   ],
   "source": [
    "# recode edu levels for age 19 and under\n",
    "adults['DMDEDUC3'] = adults['DMDEDUC3'].replace([13, 14, 15], 'high school graduate or equivalent')\n",
    "adults['DMDEDUC3'] = adults['DMDEDUC3'].replace([9, 10, 11, 12, 66, 99], 'less than high school graduate')"
   ]
  },
  {
   "cell_type": "code",
   "execution_count": 9,
   "id": "9f75f232",
   "metadata": {},
   "outputs": [
    {
     "name": "stderr",
     "output_type": "stream",
     "text": [
      "/var/folders/28/kcjp2s310sx44jpn8yqs8y9c929k6r/T/ipykernel_44510/1115660030.py:2: SettingWithCopyWarning: \n",
      "A value is trying to be set on a copy of a slice from a DataFrame.\n",
      "Try using .loc[row_indexer,col_indexer] = value instead\n",
      "\n",
      "See the caveats in the documentation: https://pandas.pydata.org/pandas-docs/stable/user_guide/indexing.html#returning-a-view-versus-a-copy\n",
      "  adults['DMDEDUC2'] = adults['DMDEDUC2'].replace([1, 2], 'less than high school graduate')\n",
      "/var/folders/28/kcjp2s310sx44jpn8yqs8y9c929k6r/T/ipykernel_44510/1115660030.py:3: SettingWithCopyWarning: \n",
      "A value is trying to be set on a copy of a slice from a DataFrame.\n",
      "Try using .loc[row_indexer,col_indexer] = value instead\n",
      "\n",
      "See the caveats in the documentation: https://pandas.pydata.org/pandas-docs/stable/user_guide/indexing.html#returning-a-view-versus-a-copy\n",
      "  adults['DMDEDUC2'] = adults['DMDEDUC2'].replace(3, 'high school graduate or equivalent')\n",
      "/var/folders/28/kcjp2s310sx44jpn8yqs8y9c929k6r/T/ipykernel_44510/1115660030.py:4: SettingWithCopyWarning: \n",
      "A value is trying to be set on a copy of a slice from a DataFrame.\n",
      "Try using .loc[row_indexer,col_indexer] = value instead\n",
      "\n",
      "See the caveats in the documentation: https://pandas.pydata.org/pandas-docs/stable/user_guide/indexing.html#returning-a-view-versus-a-copy\n",
      "  adults['DMDEDUC2'] = adults['DMDEDUC2'].replace(4, 'some college')\n",
      "/var/folders/28/kcjp2s310sx44jpn8yqs8y9c929k6r/T/ipykernel_44510/1115660030.py:5: SettingWithCopyWarning: \n",
      "A value is trying to be set on a copy of a slice from a DataFrame.\n",
      "Try using .loc[row_indexer,col_indexer] = value instead\n",
      "\n",
      "See the caveats in the documentation: https://pandas.pydata.org/pandas-docs/stable/user_guide/indexing.html#returning-a-view-versus-a-copy\n",
      "  adults['DMDEDUC2'] = adults['DMDEDUC2'].replace(5, 'college graduate')\n",
      "/var/folders/28/kcjp2s310sx44jpn8yqs8y9c929k6r/T/ipykernel_44510/1115660030.py:6: SettingWithCopyWarning: \n",
      "A value is trying to be set on a copy of a slice from a DataFrame.\n",
      "Try using .loc[row_indexer,col_indexer] = value instead\n",
      "\n",
      "See the caveats in the documentation: https://pandas.pydata.org/pandas-docs/stable/user_guide/indexing.html#returning-a-view-versus-a-copy\n",
      "  adults['DMDEDUC2'] = adults['DMDEDUC2'].replace([7, 9], 'unknown')\n"
     ]
    }
   ],
   "source": [
    "# recode edu levels for age 20 and older\n",
    "adults['DMDEDUC2'] = adults['DMDEDUC2'].replace([1, 2], 'less than high school graduate')\n",
    "adults['DMDEDUC2'] = adults['DMDEDUC2'].replace(3, 'high school graduate or equivalent')\n",
    "adults['DMDEDUC2'] = adults['DMDEDUC2'].replace(4, 'some college')\n",
    "adults['DMDEDUC2'] = adults['DMDEDUC2'].replace(5, 'college graduate')\n",
    "adults['DMDEDUC2'] = adults['DMDEDUC2'].replace([7, 9], 'unknown')"
   ]
  },
  {
   "cell_type": "code",
   "execution_count": 10,
   "id": "5971d827",
   "metadata": {
    "scrolled": false
   },
   "outputs": [
    {
     "name": "stderr",
     "output_type": "stream",
     "text": [
      "/var/folders/28/kcjp2s310sx44jpn8yqs8y9c929k6r/T/ipykernel_44510/2443542517.py:2: SettingWithCopyWarning: \n",
      "A value is trying to be set on a copy of a slice from a DataFrame.\n",
      "Try using .loc[row_indexer,col_indexer] = value instead\n",
      "\n",
      "See the caveats in the documentation: https://pandas.pydata.org/pandas-docs/stable/user_guide/indexing.html#returning-a-view-versus-a-copy\n",
      "  adults['education'] = adults.filter(like='DMDEDUC').ffill(axis=1).iloc[:,-1].copy()\n"
     ]
    }
   ],
   "source": [
    "# create single feature for education including all participants\n",
    "adults['education'] = adults.filter(like='DMDEDUC').ffill(axis=1).iloc[:,-1].copy()"
   ]
  },
  {
   "cell_type": "code",
   "execution_count": 11,
   "id": "a7cda563",
   "metadata": {},
   "outputs": [
    {
     "data": {
      "text/plain": [
       "array(['some college', 'less than high school graduate',\n",
       "       'college graduate', 'high school graduate or equivalent',\n",
       "       'unknown'], dtype=object)"
      ]
     },
     "execution_count": 11,
     "metadata": {},
     "output_type": "execute_result"
    }
   ],
   "source": [
    "adults['education'].unique()"
   ]
  },
  {
   "cell_type": "code",
   "execution_count": 12,
   "id": "c699a06e",
   "metadata": {},
   "outputs": [],
   "source": [
    "adults = adults.drop(columns=['DMDEDUC2', 'DMDEDUC3'])"
   ]
  },
  {
   "cell_type": "markdown",
   "id": "14427e8a",
   "metadata": {},
   "source": [
    "### BMI"
   ]
  },
  {
   "cell_type": "code",
   "execution_count": 13,
   "id": "42e03d3d",
   "metadata": {},
   "outputs": [],
   "source": [
    "# Exam data - Body Measures (BMI: BMXBMI)\n",
    "bmx_B = pd.read_sas('https://wwwn.cdc.gov/Nchs/Nhanes/2001-2002/BMX_B.XPT', format='xport', encoding='utf-8')\n",
    "bmx_C = pd.read_sas('https://wwwn.cdc.gov/Nchs/Nhanes/2003-2004/BMX_C.XPT', format='xport', encoding='utf-8')\n",
    "bmx_D = pd.read_sas('https://wwwn.cdc.gov/Nchs/Nhanes/2005-2006/BMX_D.XPT', format='xport', encoding='utf-8')\n",
    "bmx_E = pd.read_sas('https://wwwn.cdc.gov/Nchs/Nhanes/2007-2008/BMX_E.XPT', format='xport', encoding='utf-8')\n",
    "bmx_F = pd.read_sas('https://wwwn.cdc.gov/Nchs/Nhanes/2009-2010/BMX_F.XPT', format='xport', encoding='utf-8')\n",
    "bmx_G = pd.read_sas('https://wwwn.cdc.gov/Nchs/Nhanes/2011-2012/BMX_G.XPT', format='xport', encoding='utf-8')\n",
    "bmx_H = pd.read_sas('https://wwwn.cdc.gov/Nchs/Nhanes/2013-2014/BMX_H.XPT', format='xport', encoding='utf-8')\n",
    "bmx_I = pd.read_sas('https://wwwn.cdc.gov/Nchs/Nhanes/2015-2016/BMX_I.XPT', format='xport', encoding='utf-8')\n",
    "bmx_J = pd.read_sas('https://wwwn.cdc.gov/Nchs/Nhanes/2017-2018/BMX_J.XPT', format='xport', encoding='utf-8')"
   ]
  },
  {
   "cell_type": "code",
   "execution_count": 14,
   "id": "a4e8e485",
   "metadata": {},
   "outputs": [],
   "source": [
    "bmx_B = bmx_B[['SEQN', 'BMXBMI', 'BMXWT', 'BMXWAIST']]\n",
    "bmx_C = bmx_C[['SEQN', 'BMXBMI', 'BMXWT', 'BMXWAIST']]\n",
    "bmx_D = bmx_D[['SEQN', 'BMXBMI', 'BMXWT', 'BMXWAIST']]\n",
    "bmx_E = bmx_E[['SEQN', 'BMXBMI', 'BMXWT', 'BMXWAIST']]\n",
    "bmx_F = bmx_F[['SEQN', 'BMXBMI', 'BMXWT', 'BMXWAIST']]\n",
    "bmx_G = bmx_G[['SEQN', 'BMXBMI', 'BMXWT', 'BMXWAIST']]\n",
    "bmx_H = bmx_H[['SEQN', 'BMXBMI', 'BMXWT', 'BMXWAIST']]\n",
    "bmx_I = bmx_I[['SEQN', 'BMXBMI', 'BMXWT', 'BMXWAIST']]\n",
    "bmx_J = bmx_J[['SEQN', 'BMXBMI', 'BMXWT', 'BMXWAIST']]\n",
    "\n",
    "bmi = pd.concat([bmx_B, bmx_C, bmx_D, bmx_E, bmx_F, bmx_G, bmx_H, bmx_I, bmx_J])\n",
    "bmi.rename(columns={'BMXBMI': 'BMI', 'BMXWT': 'body_wt', 'BMXWAIST': 'WC'}, inplace=True)"
   ]
  },
  {
   "cell_type": "code",
   "execution_count": 15,
   "id": "f8254b86",
   "metadata": {},
   "outputs": [],
   "source": [
    "adults = adults.merge(bmi, on='SEQN', how='left')"
   ]
  },
  {
   "cell_type": "markdown",
   "id": "705ad649",
   "metadata": {},
   "source": [
    "### Impute BMI from WC for those who have WC measured (197)"
   ]
  },
  {
   "cell_type": "code",
   "execution_count": 16,
   "id": "5e28c080",
   "metadata": {},
   "outputs": [],
   "source": [
    "no_bmi = adults[adults['BMI'].isnull()]"
   ]
  },
  {
   "cell_type": "code",
   "execution_count": 17,
   "id": "037bf4e1",
   "metadata": {},
   "outputs": [],
   "source": [
    "no_bmi = no_bmi[['SEQN', 'Sex', 'BMI', 'WC']]"
   ]
  },
  {
   "cell_type": "code",
   "execution_count": 18,
   "id": "7e156961",
   "metadata": {},
   "outputs": [],
   "source": [
    "no_bmi = no_bmi.drop_duplicates(subset=['SEQN'])"
   ]
  },
  {
   "cell_type": "code",
   "execution_count": 19,
   "id": "6f3ccb06",
   "metadata": {},
   "outputs": [],
   "source": [
    "no_bmi = no_bmi[~no_bmi['WC'].isnull()]"
   ]
  },
  {
   "cell_type": "code",
   "execution_count": 20,
   "id": "cdcf1954",
   "metadata": {},
   "outputs": [],
   "source": [
    "no_bmi_m = no_bmi[no_bmi['Sex']=='Male']\n",
    "no_bmi_f = no_bmi[no_bmi['Sex']=='Female']"
   ]
  },
  {
   "cell_type": "code",
   "execution_count": 21,
   "id": "4725c8c3",
   "metadata": {},
   "outputs": [],
   "source": [
    "bmi_wc = adults[['SEQN', 'Sex', 'BMI', 'WC']]"
   ]
  },
  {
   "cell_type": "code",
   "execution_count": 22,
   "id": "b070cf01",
   "metadata": {},
   "outputs": [],
   "source": [
    "bmi_wc = bmi_wc.drop_duplicates(subset=['SEQN'])"
   ]
  },
  {
   "cell_type": "code",
   "execution_count": 23,
   "id": "5344d14a",
   "metadata": {},
   "outputs": [],
   "source": [
    "bmi_wc = bmi_wc.dropna(subset=['BMI', 'WC'])"
   ]
  },
  {
   "cell_type": "code",
   "execution_count": 24,
   "id": "6dbae17c",
   "metadata": {},
   "outputs": [],
   "source": [
    "bmi_wc_m = bmi_wc[bmi_wc['Sex']=='Male']"
   ]
  },
  {
   "cell_type": "code",
   "execution_count": 25,
   "id": "6b6a68a8",
   "metadata": {},
   "outputs": [],
   "source": [
    "bmi_wc_f = bmi_wc[bmi_wc['Sex']=='Female']"
   ]
  },
  {
   "cell_type": "code",
   "execution_count": 26,
   "id": "013a70ee",
   "metadata": {},
   "outputs": [],
   "source": [
    "x_m = np.array(bmi_wc_m['WC']).reshape((-1, 1))\n",
    "y_m = np.array(bmi_wc_m['BMI']).reshape((-1, 1))\n",
    "z_m = np.array(no_bmi_m['WC']).reshape((-1, 1))\n",
    "\n",
    "x_f = np.array(bmi_wc_f['WC']).reshape((-1, 1))\n",
    "y_f = np.array(bmi_wc_f['BMI']).reshape((-1, 1))\n",
    "z_f = np.array(no_bmi_f['WC']).reshape((-1, 1))"
   ]
  },
  {
   "cell_type": "code",
   "execution_count": 27,
   "id": "ee0d4e09",
   "metadata": {},
   "outputs": [],
   "source": [
    "model_m = LinearRegression().fit(x_m, y_m)"
   ]
  },
  {
   "cell_type": "code",
   "execution_count": 28,
   "id": "c270106e",
   "metadata": {},
   "outputs": [
    {
     "name": "stdout",
     "output_type": "stream",
     "text": [
      "coefficient of determination: 0.8461023921101636\n",
      "intercept: [-5.87308117]\n",
      "slope: [[0.34191912]]\n"
     ]
    }
   ],
   "source": [
    "r_sq = model_m.score(x_m, y_m)\n",
    "print(f\"coefficient of determination: {r_sq}\")\n",
    "print(f\"intercept: {model_m.intercept_}\")\n",
    "print(f\"slope: {model_m.coef_}\")"
   ]
  },
  {
   "cell_type": "code",
   "execution_count": 29,
   "id": "98aa85d2",
   "metadata": {},
   "outputs": [
    {
     "name": "stdout",
     "output_type": "stream",
     "text": [
      "predicted response:\n",
      "[[28.01110387]\n",
      " [26.81438694]\n",
      " [27.15630606]\n",
      " [24.11322587]\n",
      " [29.82327521]\n",
      " [35.6359003 ]\n",
      " [25.61767001]\n",
      " [27.73756857]\n",
      " [30.47292155]\n",
      " [31.80640612]\n",
      " [28.01110387]\n",
      " [29.54973992]\n",
      " [26.09635678]\n",
      " [18.09544931]\n",
      " [30.47292155]\n",
      " [24.04484205]\n",
      " [29.58393183]\n",
      " [22.19847878]\n",
      " [22.91650894]\n",
      " [24.7628722 ]\n",
      " [27.01953841]\n",
      " [24.86544794]\n",
      " [27.73756857]\n",
      " [21.00176186]\n",
      " [38.7131724 ]\n",
      " [32.72958775]\n",
      " [38.09771798]\n",
      " [25.92539722]\n",
      " [31.12256788]\n",
      " [21.00176186]\n",
      " [22.67716556]\n",
      " [36.93519296]\n",
      " [33.55019365]\n",
      " [30.71226493]\n",
      " [28.25044725]\n",
      " [26.60923546]\n",
      " [34.50756719]\n",
      " [26.81438694]\n",
      " [25.51509427]\n",
      " [24.4893369 ]\n",
      " [26.57504355]\n",
      " [32.69539584]\n",
      " [28.45559872]\n",
      " [31.66963848]\n",
      " [30.40453772]\n",
      " [22.67716556]\n",
      " [33.78953703]\n",
      " [28.59236637]\n",
      " [25.5834781 ]\n",
      " [32.0115576 ]\n",
      " [21.1385295 ]\n",
      " [30.3361539 ]\n",
      " [31.53287083]\n",
      " [28.69494211]\n",
      " [26.60923546]\n",
      " [31.7380223 ]\n",
      " [34.98625396]\n",
      " [30.81484067]\n",
      " [29.17362888]\n",
      " [33.61857747]\n",
      " [29.61812374]\n",
      " [23.6345391 ]\n",
      " [48.04756444]\n",
      " [27.36145753]\n",
      " [28.07948769]\n",
      " [32.31928481]\n",
      " [29.00266932]\n",
      " [28.83170976]\n",
      " [24.21580161]\n",
      " [21.61721628]\n",
      " [33.44761791]\n",
      " [36.38812236]\n",
      " [30.54130537]\n",
      " [30.19938625]\n",
      " [32.38766863]\n",
      " [26.95115459]\n",
      " [36.31973854]\n",
      " [38.84994005]\n",
      " [25.17317515]\n",
      " [41.14079817]\n",
      " [33.34504218]\n",
      " [24.4893369 ]\n",
      " [26.74600311]\n",
      " [33.85792086]\n",
      " [30.3361539 ]\n",
      " [35.32817309]\n",
      " [50.167463  ]\n",
      " [26.09635678]\n",
      " [21.92494349]\n",
      " [29.03686123]\n",
      " [33.31085026]\n",
      " [27.15630606]\n",
      " [27.56660901]\n",
      " [31.01999214]\n",
      " [27.80595239]\n",
      " [20.83080229]\n",
      " [43.77357541]\n",
      " [33.31085026]\n",
      " [36.01201133]\n",
      " [35.49913265]\n",
      " [30.6096892 ]\n",
      " [27.46403327]\n",
      " [33.10569879]\n",
      " [34.95206205]\n",
      " [21.9591354 ]\n",
      " [24.11322587]\n",
      " [26.60923546]\n",
      " [31.1909517 ]\n",
      " [27.29307371]\n",
      " [25.00221559]\n",
      " [41.61948494]\n",
      " [21.82236775]\n",
      " [31.66963848]\n",
      " [18.23221696]]\n"
     ]
    }
   ],
   "source": [
    "y_pred_m = model_m.predict(z_m)\n",
    "print(f\"predicted response:\\n{y_pred_m}\")"
   ]
  },
  {
   "cell_type": "code",
   "execution_count": 30,
   "id": "bdff173c",
   "metadata": {},
   "outputs": [],
   "source": [
    "model_f = LinearRegression().fit(x_f, y_f)"
   ]
  },
  {
   "cell_type": "code",
   "execution_count": 31,
   "id": "dd5b0bcf",
   "metadata": {},
   "outputs": [
    {
     "name": "stdout",
     "output_type": "stream",
     "text": [
      "coefficient of determination: 0.8384576719614756\n",
      "intercept: [-9.98255724]\n",
      "slope: [[0.40583216]]\n"
     ]
    }
   ],
   "source": [
    "r_sq = model_f.score(x_f, y_f)\n",
    "print(f\"coefficient of determination: {r_sq}\")\n",
    "print(f\"intercept: {model_f.intercept_}\")\n",
    "print(f\"slope: {model_f.coef_}\")"
   ]
  },
  {
   "cell_type": "code",
   "execution_count": 32,
   "id": "a222bd14",
   "metadata": {
    "scrolled": true
   },
   "outputs": [
    {
     "name": "stdout",
     "output_type": "stream",
     "text": [
      "predicted response:\n",
      "[[21.99332731]\n",
      " [30.02842669]\n",
      " [21.61721628]\n",
      " [35.32817309]\n",
      " [30.71226493]\n",
      " [20.72822656]\n",
      " [22.36943835]\n",
      " [20.557267  ]\n",
      " [28.18206343]\n",
      " [43.53423202]\n",
      " [32.52443628]\n",
      " [21.00176186]\n",
      " [28.14787151]\n",
      " [28.79751785]\n",
      " [35.73847603]\n",
      " [20.86499421]\n",
      " [25.72024575]\n",
      " [41.38014155]\n",
      " [28.90009358]\n",
      " [31.05418405]\n",
      " [31.7380223 ]\n",
      " [27.29307371]\n",
      " [32.07994142]\n",
      " [21.48044863]\n",
      " [34.98625396]\n",
      " [41.58529303]\n",
      " [27.49822518]\n",
      " [35.22559735]\n",
      " [37.65322312]\n",
      " [33.9604966 ]\n",
      " [22.33524643]\n",
      " [30.19938625]\n",
      " [27.97691195]\n",
      " [26.30150825]\n",
      " [27.08792223]\n",
      " [31.08837597]\n",
      " [29.41297227]\n",
      " [18.91605521]\n",
      " [17.10388386]\n",
      " [41.03822243]\n",
      " [31.60125465]\n",
      " [36.62746575]\n",
      " [28.48979064]\n",
      " [29.515548  ]\n",
      " [29.58393183]\n",
      " [22.19847878]\n",
      " [30.13100242]\n",
      " [32.04574951]\n",
      " [22.43782217]\n",
      " [21.07014568]\n",
      " [27.53241709]\n",
      " [29.68650757]\n",
      " [28.79751785]\n",
      " [26.13054869]\n",
      " [29.54973992]\n",
      " [32.04574951]\n",
      " [28.96847741]\n",
      " [29.03686123]\n",
      " [25.0364075 ]\n",
      " [19.77085301]\n",
      " [32.31928481]\n",
      " [23.22423615]\n",
      " [31.05418405]\n",
      " [45.4147872 ]\n",
      " [35.0888297 ]\n",
      " [21.85655966]\n",
      " [33.27665835]\n",
      " [28.9342855 ]\n",
      " [28.18206343]\n",
      " [24.7628722 ]\n",
      " [33.58438556]\n",
      " [22.71135747]\n",
      " [37.68741503]\n",
      " [43.50004011]\n",
      " [42.50847466]\n",
      " [25.78862957]\n",
      " [26.9853465 ]\n",
      " [24.83125603]\n",
      " [38.7131724 ]\n",
      " [32.69539584]\n",
      " [30.71226493]\n",
      " [31.60125465]\n",
      " [26.7118112 ]]\n"
     ]
    }
   ],
   "source": [
    "y_pred_f = model_m.predict(z_f)\n",
    "print(f\"predicted response:\\n{y_pred_f}\")"
   ]
  },
  {
   "cell_type": "code",
   "execution_count": 33,
   "id": "a9fc71d0",
   "metadata": {},
   "outputs": [
    {
     "name": "stderr",
     "output_type": "stream",
     "text": [
      "/var/folders/28/kcjp2s310sx44jpn8yqs8y9c929k6r/T/ipykernel_44510/2323749325.py:1: SettingWithCopyWarning: \n",
      "A value is trying to be set on a copy of a slice from a DataFrame.\n",
      "Try using .loc[row_indexer,col_indexer] = value instead\n",
      "\n",
      "See the caveats in the documentation: https://pandas.pydata.org/pandas-docs/stable/user_guide/indexing.html#returning-a-view-versus-a-copy\n",
      "  no_bmi_m['BMI'] = y_pred_m.flatten()\n"
     ]
    }
   ],
   "source": [
    "no_bmi_m['BMI'] = y_pred_m.flatten()"
   ]
  },
  {
   "cell_type": "code",
   "execution_count": 34,
   "id": "dc2ab874",
   "metadata": {},
   "outputs": [
    {
     "name": "stderr",
     "output_type": "stream",
     "text": [
      "/var/folders/28/kcjp2s310sx44jpn8yqs8y9c929k6r/T/ipykernel_44510/4169922082.py:1: SettingWithCopyWarning: \n",
      "A value is trying to be set on a copy of a slice from a DataFrame.\n",
      "Try using .loc[row_indexer,col_indexer] = value instead\n",
      "\n",
      "See the caveats in the documentation: https://pandas.pydata.org/pandas-docs/stable/user_guide/indexing.html#returning-a-view-versus-a-copy\n",
      "  no_bmi_f['BMI'] = y_pred_f.flatten()\n"
     ]
    }
   ],
   "source": [
    "no_bmi_f['BMI'] = y_pred_f.flatten()"
   ]
  },
  {
   "cell_type": "code",
   "execution_count": 35,
   "id": "2fe4b164",
   "metadata": {},
   "outputs": [],
   "source": [
    "no_bmi = pd.concat([no_bmi_m, no_bmi_f])"
   ]
  },
  {
   "cell_type": "code",
   "execution_count": 36,
   "id": "d41b18ba",
   "metadata": {},
   "outputs": [],
   "source": [
    "adults.set_index('SEQN', inplace=True)"
   ]
  },
  {
   "cell_type": "code",
   "execution_count": 37,
   "id": "89329964",
   "metadata": {},
   "outputs": [],
   "source": [
    "no_bmi.set_index('SEQN', inplace=True)"
   ]
  },
  {
   "cell_type": "code",
   "execution_count": 38,
   "id": "2eaad930",
   "metadata": {},
   "outputs": [],
   "source": [
    "adults['BMI'].update(no_bmi['BMI'])"
   ]
  },
  {
   "cell_type": "code",
   "execution_count": 39,
   "id": "4554fa41",
   "metadata": {},
   "outputs": [],
   "source": [
    "adults.dropna(subset='BMI', inplace=True)"
   ]
  },
  {
   "cell_type": "code",
   "execution_count": 40,
   "id": "9a009669",
   "metadata": {},
   "outputs": [],
   "source": [
    "adults.reset_index(inplace=True)"
   ]
  },
  {
   "cell_type": "markdown",
   "id": "f7786d36",
   "metadata": {},
   "source": [
    "### Smoking status"
   ]
  },
  {
   "cell_type": "code",
   "execution_count": 41,
   "id": "acfb6f56",
   "metadata": {},
   "outputs": [],
   "source": [
    "# Questionnaire data - Current or ever smoker\n",
    "smq_B = pd.read_sas('https://wwwn.cdc.gov/Nchs/Nhanes/2001-2002/SMQ_B.XPT', format='xport', encoding='utf-8')\n",
    "smq_C = pd.read_sas('https://wwwn.cdc.gov/Nchs/Nhanes/2003-2004/SMQ_C.XPT', format='xport', encoding='utf-8')\n",
    "smq_D = pd.read_sas('https://wwwn.cdc.gov/Nchs/Nhanes/2005-2006/SMQ_D.XPT', format='xport', encoding='utf-8')\n",
    "smq_E = pd.read_sas('https://wwwn.cdc.gov/Nchs/Nhanes/2007-2008/SMQ_E.XPT', format='xport', encoding='utf-8')\n",
    "smq_F = pd.read_sas('https://wwwn.cdc.gov/Nchs/Nhanes/2009-2010/SMQ_F.XPT', format='xport', encoding='utf-8')\n",
    "smq_G = pd.read_sas('https://wwwn.cdc.gov/Nchs/Nhanes/2011-2012/SMQ_G.XPT', format='xport', encoding='utf-8')\n",
    "smq_H = pd.read_sas('https://wwwn.cdc.gov/Nchs/Nhanes/2013-2014/SMQ_H.XPT', format='xport', encoding='utf-8')\n",
    "smq_I = pd.read_sas('https://wwwn.cdc.gov/Nchs/Nhanes/2015-2016/SMQ_I.XPT', format='xport', encoding='utf-8')\n",
    "smq_J = pd.read_sas('https://wwwn.cdc.gov/Nchs/Nhanes/2017-2018/SMQ_J.XPT', format='xport', encoding='utf-8')"
   ]
  },
  {
   "cell_type": "code",
   "execution_count": 42,
   "id": "00aed19f",
   "metadata": {},
   "outputs": [],
   "source": [
    "smq_B = smq_B[['SEQN', 'SMQ020', 'SMQ040']]\n",
    "smq_C = smq_C[['SEQN', 'SMQ020', 'SMQ040']]\n",
    "smq_D = smq_D[['SEQN', 'SMQ020', 'SMQ040']]\n",
    "smq_E = smq_E[['SEQN', 'SMQ020', 'SMQ040']]\n",
    "smq_F = smq_F[['SEQN', 'SMQ020', 'SMQ040']]\n",
    "smq_G = smq_G[['SEQN', 'SMQ020', 'SMQ040']]\n",
    "smq_H = smq_H[['SEQN', 'SMQ020', 'SMQ040']]\n",
    "smq_I = smq_I[['SEQN', 'SMQ020', 'SMQ040']]\n",
    "smq_J = smq_J[['SEQN', 'SMQ020', 'SMQ040']]\n",
    "\n",
    "smq = pd.concat([smq_B, smq_C, smq_D, smq_E, smq_F, smq_G, smq_H, smq_I, smq_J])\n",
    "smq.rename(columns={'SMQ020':'ever_smoker', 'SMQ040': 'current_smoker'}, inplace=True)"
   ]
  },
  {
   "cell_type": "code",
   "execution_count": 43,
   "id": "e9bb8ac6",
   "metadata": {},
   "outputs": [],
   "source": [
    "# add exclusion: 'SMQ040': 'current_smoker'"
   ]
  },
  {
   "cell_type": "code",
   "execution_count": 44,
   "id": "15c012e5",
   "metadata": {},
   "outputs": [],
   "source": [
    "adults = adults.merge(smq, on='SEQN', how='left')"
   ]
  },
  {
   "cell_type": "code",
   "execution_count": 45,
   "id": "48d948ca",
   "metadata": {},
   "outputs": [],
   "source": [
    "# recode levels for smoking status\n",
    "adults['ever_smoker'] = adults['ever_smoker'].replace(1, 'yes')\n",
    "adults['ever_smoker'] = adults['ever_smoker'].replace(2, 'no')\n",
    "adults['ever_smoker'] = adults['ever_smoker'].replace([7, 9], 'unknown')"
   ]
  },
  {
   "cell_type": "code",
   "execution_count": 46,
   "id": "1a22d0e6",
   "metadata": {},
   "outputs": [
    {
     "data": {
      "text/plain": [
       "0          yes\n",
       "1          yes\n",
       "2          yes\n",
       "3          yes\n",
       "4          yes\n",
       "          ... \n",
       "1010131    yes\n",
       "1010132    yes\n",
       "1010133    yes\n",
       "1010134    yes\n",
       "1010135    yes\n",
       "Name: ever_smoker, Length: 1010136, dtype: object"
      ]
     },
     "execution_count": 46,
     "metadata": {},
     "output_type": "execute_result"
    }
   ],
   "source": [
    "adults['ever_smoker']"
   ]
  },
  {
   "cell_type": "markdown",
   "id": "370429f8",
   "metadata": {},
   "source": [
    "### Diabetes"
   ]
  },
  {
   "cell_type": "code",
   "execution_count": 47,
   "id": "ff958b47",
   "metadata": {},
   "outputs": [],
   "source": [
    "#Lab data - fasting glucose\n",
    "\n",
    "fg_B = pd.read_sas('https://wwwn.cdc.gov/Nchs/Nhanes/2001-2002/L10AM_B.XPT', format='xport', encoding='utf-8')\n",
    "fg_C = pd.read_sas('https://wwwn.cdc.gov/Nchs/Nhanes/2003-2004/L10AM_C.XPT', format='xport', encoding='utf-8')\n",
    "fg_D = pd.read_sas('https://wwwn.cdc.gov/Nchs/Nhanes/2005-2006/GLU_D.XPT', format='xport', encoding='utf-8')\n",
    "fg_E = pd.read_sas('https://wwwn.cdc.gov/Nchs/Nhanes/2007-2008/GLU_E.XPT', format='xport', encoding='utf-8')\n",
    "fg_F = pd.read_sas('https://wwwn.cdc.gov/Nchs/Nhanes/2009-2010/GLU_F.XPT', format='xport', encoding='utf-8')\n",
    "fg_G = pd.read_sas('https://wwwn.cdc.gov/Nchs/Nhanes/2011-2012/GLU_G.XPT', format='xport', encoding='utf-8')\n",
    "fg_H = pd.read_sas('https://wwwn.cdc.gov/Nchs/Nhanes/2013-2014/GLU_H.XPT', format='xport', encoding='utf-8')\n",
    "fg_I = pd.read_sas('https://wwwn.cdc.gov/Nchs/Nhanes/2015-2016/GLU_I.XPT', format='xport', encoding='utf-8')\n",
    "fg_J = pd.read_sas('https://wwwn.cdc.gov/Nchs/Nhanes/2017-2018/GLU_J.XPT', format='xport', encoding='utf-8')"
   ]
  },
  {
   "cell_type": "code",
   "execution_count": 48,
   "id": "a6f0a636",
   "metadata": {},
   "outputs": [],
   "source": [
    "fg_B = fg_B[['SEQN', 'LBXGLU']]\n",
    "fg_C = fg_C[['SEQN', 'LBXGLU']]\n",
    "fg_D = fg_D[['SEQN', 'LBXGLU']]\n",
    "fg_E = fg_E[['SEQN', 'LBXGLU']]\n",
    "fg_F = fg_F[['SEQN', 'LBXGLU']]\n",
    "fg_G = fg_G[['SEQN', 'LBXGLU']]\n",
    "fg_H = fg_H[['SEQN', 'LBXGLU']]\n",
    "fg_I = fg_I[['SEQN', 'LBXGLU']]\n",
    "fg_J = fg_J[['SEQN', 'LBXGLU']]\n",
    "\n",
    "fg = pd.concat([fg_B, fg_C, fg_D, fg_E, fg_F, fg_G, fg_H, fg_I, fg_J])\n",
    "fg.rename(columns={'LBXGLU':'fasting_glc_mg_dL'}, inplace=True)"
   ]
  },
  {
   "cell_type": "code",
   "execution_count": 49,
   "id": "f00271d3",
   "metadata": {},
   "outputs": [],
   "source": [
    "adults = adults.merge(fg, on='SEQN', how='left')"
   ]
  },
  {
   "cell_type": "code",
   "execution_count": 50,
   "id": "a064cc07",
   "metadata": {},
   "outputs": [],
   "source": [
    "adults['diabetes_fasting_glc'] = np.where(adults['fasting_glc_mg_dL'] >= 126, 'yes', 'no')"
   ]
  },
  {
   "cell_type": "code",
   "execution_count": 51,
   "id": "0ac35f33",
   "metadata": {},
   "outputs": [],
   "source": [
    "#Lab data - glycohemoglobic (hba1c)\n",
    "\n",
    "gh_B = pd.read_sas('https://wwwn.cdc.gov/Nchs/Nhanes/2001-2002/L10_B.XPT', format='xport', encoding='utf-8')\n",
    "gh_C = pd.read_sas('https://wwwn.cdc.gov/Nchs/Nhanes/2003-2004/L10_C.XPT', format='xport', encoding='utf-8')\n",
    "gh_D = pd.read_sas('https://wwwn.cdc.gov/Nchs/Nhanes/2005-2006/GHB_D.XPT', format='xport', encoding='utf-8')\n",
    "gh_E = pd.read_sas('https://wwwn.cdc.gov/Nchs/Nhanes/2007-2008/GHB_E.XPT', format='xport', encoding='utf-8')\n",
    "gh_F = pd.read_sas('https://wwwn.cdc.gov/Nchs/Nhanes/2009-2010/GHB_F.XPT', format='xport', encoding='utf-8')\n",
    "gh_G = pd.read_sas('https://wwwn.cdc.gov/Nchs/Nhanes/2011-2012/GHB_G.XPT', format='xport', encoding='utf-8')\n",
    "gh_H = pd.read_sas('https://wwwn.cdc.gov/Nchs/Nhanes/2013-2014/GHB_H.XPT', format='xport', encoding='utf-8')\n",
    "gh_I = pd.read_sas('https://wwwn.cdc.gov/Nchs/Nhanes/2015-2016/GHB_I.XPT', format='xport', encoding='utf-8')\n",
    "gh_J = pd.read_sas('https://wwwn.cdc.gov/Nchs/Nhanes/2017-2018/GHB_J.XPT', format='xport', encoding='utf-8')"
   ]
  },
  {
   "cell_type": "code",
   "execution_count": 52,
   "id": "820ededb",
   "metadata": {},
   "outputs": [],
   "source": [
    "gh_B = gh_B[['SEQN', 'LBXGH']]\n",
    "gh_C = gh_C[['SEQN', 'LBXGH']]\n",
    "gh_D = gh_D[['SEQN', 'LBXGH']]\n",
    "gh_E = gh_E[['SEQN', 'LBXGH']]\n",
    "gh_F = gh_F[['SEQN', 'LBXGH']]\n",
    "gh_G = gh_G[['SEQN', 'LBXGH']]\n",
    "gh_H = gh_H[['SEQN', 'LBXGH']]\n",
    "gh_I = gh_I[['SEQN', 'LBXGH']]\n",
    "gh_J = gh_J[['SEQN', 'LBXGH']]\n",
    "\n",
    "gh = pd.concat([gh_B, gh_C, gh_D, gh_E, gh_F, gh_G, gh_H, gh_I, gh_J])\n",
    "gh.rename(columns={'LBXGH':'hba1c_percent'}, inplace=True)"
   ]
  },
  {
   "cell_type": "code",
   "execution_count": 53,
   "id": "df8e7b42",
   "metadata": {},
   "outputs": [],
   "source": [
    "adults = adults.merge(gh, on='SEQN', how='left')"
   ]
  },
  {
   "cell_type": "code",
   "execution_count": 54,
   "id": "6cadaf39",
   "metadata": {},
   "outputs": [],
   "source": [
    "adults['diabetes_hba1c'] = np.where(adults['hba1c_percent'] >= 6.5, 'yes', 'no')"
   ]
  },
  {
   "cell_type": "code",
   "execution_count": 55,
   "id": "a21ee01c",
   "metadata": {},
   "outputs": [],
   "source": [
    "#Questionnaire data - taking insulin or glucose lowering meds\n",
    "\n",
    "diq_B = pd.read_sas('https://wwwn.cdc.gov/Nchs/Nhanes/2001-2002/DIQ_B.XPT', format='xport', encoding='utf-8')\n",
    "diq_C = pd.read_sas('https://wwwn.cdc.gov/Nchs/Nhanes/2003-2004/DIQ_C.XPT', format='xport', encoding='utf-8')\n",
    "diq_D = pd.read_sas('https://wwwn.cdc.gov/Nchs/Nhanes/2005-2006/DIQ_D.XPT', format='xport', encoding='utf-8')\n",
    "diq_E = pd.read_sas('https://wwwn.cdc.gov/Nchs/Nhanes/2007-2008/DIQ_E.XPT', format='xport', encoding='utf-8')\n",
    "diq_F = pd.read_sas('https://wwwn.cdc.gov/Nchs/Nhanes/2009-2010/DIQ_F.XPT', format='xport', encoding='utf-8')\n",
    "diq_G = pd.read_sas('https://wwwn.cdc.gov/Nchs/Nhanes/2011-2012/DIQ_G.XPT', format='xport', encoding='utf-8')\n",
    "diq_H = pd.read_sas('https://wwwn.cdc.gov/Nchs/Nhanes/2013-2014/DIQ_H.XPT', format='xport', encoding='utf-8')\n",
    "diq_I = pd.read_sas('https://wwwn.cdc.gov/Nchs/Nhanes/2015-2016/DIQ_I.XPT', format='xport', encoding='utf-8')\n",
    "diq_J = pd.read_sas('https://wwwn.cdc.gov/Nchs/Nhanes/2017-2018/DIQ_J.XPT', format='xport', encoding='utf-8')"
   ]
  },
  {
   "cell_type": "code",
   "execution_count": 56,
   "id": "2f74c4ac",
   "metadata": {},
   "outputs": [],
   "source": [
    "diq_B = diq_B[['SEQN', 'DIQ050', 'DIQ070']]\n",
    "diq_C = diq_C[['SEQN', 'DIQ050', 'DIQ070']]\n",
    "diq_D = diq_D[['SEQN', 'DIQ050', 'DID070']]\n",
    "diq_E = diq_E[['SEQN', 'DIQ050', 'DID070']]\n",
    "diq_F = diq_F[['SEQN', 'DIQ050', 'DIQ070']]\n",
    "diq_G = diq_G[['SEQN', 'DIQ050', 'DIQ070']]\n",
    "diq_H = diq_H[['SEQN', 'DIQ050', 'DIQ070']]\n",
    "diq_I = diq_I[['SEQN', 'DIQ050', 'DIQ070']]\n",
    "diq_J = diq_J[['SEQN', 'DIQ050', 'DIQ070']]\n",
    "\n",
    "diq = pd.concat([diq_B, diq_C, diq_D, diq_E, diq_F, diq_G, diq_H, diq_I, diq_J])\n",
    "diq.rename(columns={'DIQ050':'taking_insulin', 'DIQ070':'taking_diabetic_pills', 'DID070':'taking_diabetic_pills_D_E'}, inplace=True)"
   ]
  },
  {
   "cell_type": "code",
   "execution_count": 57,
   "id": "db455709",
   "metadata": {},
   "outputs": [],
   "source": [
    "adults = adults.merge(diq, on='SEQN', how='left')"
   ]
  },
  {
   "cell_type": "code",
   "execution_count": 58,
   "id": "c4137f80",
   "metadata": {},
   "outputs": [],
   "source": [
    "# recode levels for taking insulin / diabetes meds\n",
    "adults['taking_insulin'] = adults['taking_insulin'].replace(1, 'yes')\n",
    "adults['taking_insulin'] = adults['taking_insulin'].replace(2, 'no')\n",
    "adults['taking_insulin'] = adults['taking_insulin'].replace([7, 9], 'unknown')\n",
    "\n",
    "adults['taking_diabetic_pills'] = adults['taking_diabetic_pills'].replace(1, 'yes')\n",
    "adults['taking_diabetic_pills'] = adults['taking_diabetic_pills'].replace(2, 'no')\n",
    "adults['taking_diabetic_pills'] = adults['taking_diabetic_pills'].replace([7, 9], 'unknown')\n",
    "\n",
    "adults['taking_diabetic_pills_D_E'] = adults['taking_diabetic_pills_D_E'].replace(1, 'yes')\n",
    "adults['taking_diabetic_pills_D_E'] = adults['taking_diabetic_pills_D_E'].replace(2, 'no')\n",
    "adults['taking_diabetic_pills_D_E'] = adults['taking_diabetic_pills_D_E'].replace([7, 9], 'unknown')"
   ]
  },
  {
   "cell_type": "code",
   "execution_count": 59,
   "id": "ab1b2582",
   "metadata": {},
   "outputs": [],
   "source": [
    "# create single feature for diabetes (yes/no)\n",
    "adults['diabetes'] = np.where(adults['fasting_glc_mg_dL'] >= 126, 'yes', 'no')\n",
    "adults['diabetes'] = np.where(adults['hba1c_percent'] >= 6.5, 'yes', adults['diabetes'])\n",
    "adults['diabetes'] = np.where(adults['taking_insulin'] == 'yes', 'yes', adults['diabetes'])\n",
    "adults['diabetes'] = np.where(adults['taking_diabetic_pills'] == 'yes', 'yes', adults['diabetes'])\n",
    "adults['diabetes'] = np.where(adults['taking_diabetic_pills_D_E'] == 'yes', 'yes', adults['diabetes'])\n",
    "adults['diabetes'] = np.where(adults['taking_insulin'] == 'unknown', 'unknown', adults['diabetes'])\n",
    "adults['diabetes'] = np.where(adults['taking_diabetic_pills'] == 'unknown', 'unknown', adults['diabetes'])\n",
    "adults['diabetes'] = np.where(adults['taking_diabetic_pills_D_E'] == 'unknown', 'unknown', adults['diabetes'])"
   ]
  },
  {
   "cell_type": "markdown",
   "id": "e1423668",
   "metadata": {},
   "source": [
    "### Serum lipids"
   ]
  },
  {
   "cell_type": "code",
   "execution_count": 60,
   "id": "784cc144",
   "metadata": {},
   "outputs": [],
   "source": [
    "#Lab data - serum lipids (triglycerides)\n",
    "\n",
    "tg_B = pd.read_sas('https://wwwn.cdc.gov/Nchs/Nhanes/2001-2002/L13AM_B.XPT', format='xport', encoding='utf-8')\n",
    "tg_C = pd.read_sas('https://wwwn.cdc.gov/Nchs/Nhanes/2003-2004/L13AM_C.XPT', format='xport', encoding='utf-8')\n",
    "tg_D = pd.read_sas('https://wwwn.cdc.gov/Nchs/Nhanes/2005-2006/TRIGLY_D.XPT', format='xport', encoding='utf-8')\n",
    "tg_E = pd.read_sas('https://wwwn.cdc.gov/Nchs/Nhanes/2007-2008/TRIGLY_E.XPT', format='xport', encoding='utf-8')\n",
    "tg_F = pd.read_sas('https://wwwn.cdc.gov/Nchs/Nhanes/2009-2010/TRIGLY_F.XPT', format='xport', encoding='utf-8')\n",
    "tg_G = pd.read_sas('https://wwwn.cdc.gov/Nchs/Nhanes/2011-2012/TRIGLY_G.XPT', format='xport', encoding='utf-8')\n",
    "tg_H = pd.read_sas('https://wwwn.cdc.gov/Nchs/Nhanes/2013-2014/TRIGLY_H.XPT', format='xport', encoding='utf-8')\n",
    "tg_I = pd.read_sas('https://wwwn.cdc.gov/Nchs/Nhanes/2015-2016/TRIGLY_I.XPT', format='xport', encoding='utf-8')\n",
    "tg_J = pd.read_sas('https://wwwn.cdc.gov/Nchs/Nhanes/2017-2018/TRIGLY_J.XPT', format='xport', encoding='utf-8')"
   ]
  },
  {
   "cell_type": "code",
   "execution_count": 61,
   "id": "77dabd88",
   "metadata": {},
   "outputs": [],
   "source": [
    "tg_B = tg_B[['SEQN', 'LBXTR']]\n",
    "tg_C = tg_C[['SEQN', 'LBXTR']]\n",
    "tg_D = tg_D[['SEQN', 'LBXTR']]\n",
    "tg_E = tg_E[['SEQN', 'LBXTR']]\n",
    "tg_F = tg_F[['SEQN', 'LBXTR']]\n",
    "tg_G = tg_G[['SEQN', 'LBXTR']]\n",
    "tg_H = tg_H[['SEQN', 'LBXTR']]\n",
    "tg_I = tg_I[['SEQN', 'LBXTR']]\n",
    "tg_J = tg_J[['SEQN', 'LBXTR']]\n",
    "\n",
    "tg = pd.concat([tg_B, tg_C, tg_D, tg_E, tg_F, tg_G, tg_H, tg_I, tg_J])\n",
    "tg.rename(columns={'LBXTR':'tg_mg_dL'}, inplace=True)"
   ]
  },
  {
   "cell_type": "code",
   "execution_count": 62,
   "id": "0f546990",
   "metadata": {},
   "outputs": [],
   "source": [
    "adults = adults.merge(tg, on='SEQN', how='left')"
   ]
  },
  {
   "cell_type": "markdown",
   "id": "060f5de6",
   "metadata": {},
   "source": [
    "### Hypertension"
   ]
  },
  {
   "cell_type": "code",
   "execution_count": 63,
   "id": "5045b8d0",
   "metadata": {},
   "outputs": [],
   "source": [
    "#Exam data - blood pressure (hypertension)\n",
    "\n",
    "bp_B = pd.read_sas('https://wwwn.cdc.gov/Nchs/Nhanes/2001-2002/BPX_B.XPT', format='xport', encoding='utf-8')\n",
    "bp_C = pd.read_sas('https://wwwn.cdc.gov/Nchs/Nhanes/2003-2004/BPX_C.XPT', format='xport', encoding='utf-8')\n",
    "bp_D = pd.read_sas('https://wwwn.cdc.gov/Nchs/Nhanes/2005-2006/BPX_D.XPT', format='xport', encoding='utf-8')\n",
    "bp_E = pd.read_sas('https://wwwn.cdc.gov/Nchs/Nhanes/2007-2008/BPX_E.XPT', format='xport', encoding='utf-8')\n",
    "bp_F = pd.read_sas('https://wwwn.cdc.gov/Nchs/Nhanes/2009-2010/BPX_F.XPT', format='xport', encoding='utf-8')\n",
    "bp_G = pd.read_sas('https://wwwn.cdc.gov/Nchs/Nhanes/2011-2012/BPX_G.XPT', format='xport', encoding='utf-8')\n",
    "bp_H = pd.read_sas('https://wwwn.cdc.gov/Nchs/Nhanes/2013-2014/BPX_H.XPT', format='xport', encoding='utf-8')\n",
    "bp_I = pd.read_sas('https://wwwn.cdc.gov/Nchs/Nhanes/2015-2016/BPX_I.XPT', format='xport', encoding='utf-8')\n",
    "bp_J = pd.read_sas('https://wwwn.cdc.gov/Nchs/Nhanes/2017-2018/BPX_J.XPT', format='xport', encoding='utf-8')"
   ]
  },
  {
   "cell_type": "code",
   "execution_count": 64,
   "id": "1d894a25",
   "metadata": {},
   "outputs": [],
   "source": [
    "bp_sys_B = bp_B[['SEQN', 'BPXSY1', 'BPXSY2', 'BPXSY3', 'BPXSY4']]\n",
    "bp_sys_C = bp_C[['SEQN', 'BPXSY1', 'BPXSY2', 'BPXSY3', 'BPXSY4']]\n",
    "bp_sys_D = bp_D[['SEQN', 'BPXSY1', 'BPXSY2', 'BPXSY3', 'BPXSY4']]\n",
    "bp_sys_E = bp_E[['SEQN', 'BPXSY1', 'BPXSY2', 'BPXSY3', 'BPXSY4']]\n",
    "bp_sys_F = bp_F[['SEQN', 'BPXSY1', 'BPXSY2', 'BPXSY3', 'BPXSY4']]\n",
    "bp_sys_G = bp_G[['SEQN', 'BPXSY1', 'BPXSY2', 'BPXSY3', 'BPXSY4']]\n",
    "bp_sys_H = bp_H[['SEQN', 'BPXSY1', 'BPXSY2', 'BPXSY3', 'BPXSY4']]\n",
    "bp_sys_I = bp_I[['SEQN', 'BPXSY1', 'BPXSY2', 'BPXSY3', 'BPXSY4']]\n",
    "bp_sys_J = bp_J[['SEQN', 'BPXSY1', 'BPXSY2', 'BPXSY3', 'BPXSY4']]\n",
    "\n",
    "bp_sys = pd.concat([bp_sys_B, bp_sys_C, bp_sys_D, bp_sys_E, bp_sys_F, bp_sys_G, bp_sys_H, bp_sys_I, bp_sys_J])\n",
    "bp_sys.set_index('SEQN', inplace=True)"
   ]
  },
  {
   "cell_type": "code",
   "execution_count": 65,
   "id": "ecaf370c",
   "metadata": {},
   "outputs": [
    {
     "name": "stderr",
     "output_type": "stream",
     "text": [
      "/var/folders/28/kcjp2s310sx44jpn8yqs8y9c929k6r/T/ipykernel_44510/813091967.py:1: RuntimeWarning: Mean of empty slice\n",
      "  bp_sys['sys_mean'] = np.nanmean(bp_sys, axis = 1)\n"
     ]
    }
   ],
   "source": [
    "bp_sys['sys_mean'] = np.nanmean(bp_sys, axis = 1)"
   ]
  },
  {
   "cell_type": "code",
   "execution_count": 66,
   "id": "47b1fc49",
   "metadata": {},
   "outputs": [],
   "source": [
    "bp_sys = bp_sys.reset_index()[['SEQN', 'sys_mean']]"
   ]
  },
  {
   "cell_type": "code",
   "execution_count": 67,
   "id": "e4019714",
   "metadata": {},
   "outputs": [],
   "source": [
    "bp_sys['sys_ht'] = np.where(bp_sys['sys_mean'] >= 140, 'yes', 'no')"
   ]
  },
  {
   "cell_type": "code",
   "execution_count": 68,
   "id": "20cb4456",
   "metadata": {},
   "outputs": [],
   "source": [
    "bp_sys.drop(columns='sys_mean', inplace=True)"
   ]
  },
  {
   "cell_type": "code",
   "execution_count": 69,
   "id": "d0606845",
   "metadata": {},
   "outputs": [],
   "source": [
    "adults = adults.merge(bp_sys, on='SEQN', how='left')"
   ]
  },
  {
   "cell_type": "code",
   "execution_count": 70,
   "id": "7a4fe3a9",
   "metadata": {},
   "outputs": [],
   "source": [
    "bp_di_B = bp_B[['SEQN', 'BPXDI1', 'BPXDI2', 'BPXDI3', 'BPXDI4']]\n",
    "bp_di_C = bp_C[['SEQN', 'BPXDI1', 'BPXDI2', 'BPXDI3', 'BPXDI4']]\n",
    "bp_di_D = bp_D[['SEQN', 'BPXDI1', 'BPXDI2', 'BPXDI3', 'BPXDI4']]\n",
    "bp_di_E = bp_E[['SEQN', 'BPXDI1', 'BPXDI2', 'BPXDI3', 'BPXDI4']]\n",
    "bp_di_F = bp_F[['SEQN', 'BPXDI1', 'BPXDI2', 'BPXDI3', 'BPXDI4']]\n",
    "bp_di_G = bp_G[['SEQN', 'BPXDI1', 'BPXDI2', 'BPXDI3', 'BPXDI4']]\n",
    "bp_di_H = bp_H[['SEQN', 'BPXDI1', 'BPXDI2', 'BPXDI3', 'BPXDI4']]\n",
    "bp_di_I = bp_I[['SEQN', 'BPXDI1', 'BPXDI2', 'BPXDI3', 'BPXDI4']]\n",
    "bp_di_J = bp_J[['SEQN', 'BPXDI1', 'BPXDI2', 'BPXDI3', 'BPXDI4']]\n",
    "\n",
    "bp_di = pd.concat([bp_di_B, bp_di_C, bp_di_D, bp_di_E, bp_di_F, bp_di_G, bp_di_H, bp_di_I, bp_di_J])\n",
    "bp_di.set_index('SEQN', inplace=True)"
   ]
  },
  {
   "cell_type": "code",
   "execution_count": 71,
   "id": "25026c1a",
   "metadata": {},
   "outputs": [
    {
     "name": "stderr",
     "output_type": "stream",
     "text": [
      "/var/folders/28/kcjp2s310sx44jpn8yqs8y9c929k6r/T/ipykernel_44510/717887343.py:1: RuntimeWarning: Mean of empty slice\n",
      "  bp_di['di_mean'] = np.nanmean(bp_di, axis = 1)\n"
     ]
    }
   ],
   "source": [
    "bp_di['di_mean'] = np.nanmean(bp_di, axis = 1)"
   ]
  },
  {
   "cell_type": "code",
   "execution_count": 72,
   "id": "be90d166",
   "metadata": {},
   "outputs": [],
   "source": [
    "bp_di = bp_di.reset_index()[['SEQN', 'di_mean']]"
   ]
  },
  {
   "cell_type": "code",
   "execution_count": 73,
   "id": "a575abdd",
   "metadata": {},
   "outputs": [],
   "source": [
    "bp_di['di_ht'] = np.where(bp_di['di_mean'] >= 90, 'yes', 'no')"
   ]
  },
  {
   "cell_type": "code",
   "execution_count": 74,
   "id": "e508cb1a",
   "metadata": {},
   "outputs": [],
   "source": [
    "bp_di.drop(columns='di_mean', inplace=True)"
   ]
  },
  {
   "cell_type": "code",
   "execution_count": 75,
   "id": "74fb91df",
   "metadata": {},
   "outputs": [],
   "source": [
    "adults = adults.merge(bp_di, on='SEQN', how='left')"
   ]
  },
  {
   "cell_type": "code",
   "execution_count": 76,
   "id": "6766fce9",
   "metadata": {},
   "outputs": [],
   "source": [
    "#Questionnaire data - blood pressure (hypertension)\n",
    "\n",
    "bpq_B = pd.read_sas('https://wwwn.cdc.gov/Nchs/Nhanes/2001-2002/BPQ_B.XPT', format='xport', encoding='utf-8')\n",
    "bpq_C = pd.read_sas('https://wwwn.cdc.gov/Nchs/Nhanes/2003-2004/BPQ_C.XPT', format='xport', encoding='utf-8')\n",
    "bpq_D = pd.read_sas('https://wwwn.cdc.gov/Nchs/Nhanes/2005-2006/BPQ_D.XPT', format='xport', encoding='utf-8')\n",
    "bpq_E = pd.read_sas('https://wwwn.cdc.gov/Nchs/Nhanes/2007-2008/BPQ_E.XPT', format='xport', encoding='utf-8')\n",
    "bpq_F = pd.read_sas('https://wwwn.cdc.gov/Nchs/Nhanes/2009-2010/BPQ_F.XPT', format='xport', encoding='utf-8')\n",
    "bpq_G = pd.read_sas('https://wwwn.cdc.gov/Nchs/Nhanes/2011-2012/BPQ_G.XPT', format='xport', encoding='utf-8')\n",
    "bpq_H = pd.read_sas('https://wwwn.cdc.gov/Nchs/Nhanes/2013-2014/BPQ_H.XPT', format='xport', encoding='utf-8')\n",
    "bpq_I = pd.read_sas('https://wwwn.cdc.gov/Nchs/Nhanes/2015-2016/BPQ_I.XPT', format='xport', encoding='utf-8')\n",
    "bpq_J = pd.read_sas('https://wwwn.cdc.gov/Nchs/Nhanes/2017-2018/BPQ_J.XPT', format='xport', encoding='utf-8')"
   ]
  },
  {
   "cell_type": "code",
   "execution_count": 77,
   "id": "cee8cb77",
   "metadata": {},
   "outputs": [],
   "source": [
    "bpq_B = bpq_B[['SEQN', 'BPQ040A', 'BPQ050A']]\n",
    "bpq_C = bpq_C[['SEQN', 'BPQ040A', 'BPQ050A']]\n",
    "bpq_D = bpq_D[['SEQN', 'BPQ040A', 'BPQ050A']]\n",
    "bpq_E = bpq_E[['SEQN', 'BPQ040A', 'BPQ050A']]\n",
    "bpq_F = bpq_F[['SEQN', 'BPQ040A', 'BPQ050A']]\n",
    "bpq_G = bpq_G[['SEQN', 'BPQ040A', 'BPQ050A']]\n",
    "bpq_H = bpq_H[['SEQN', 'BPQ040A', 'BPQ050A']]\n",
    "bpq_I = bpq_I[['SEQN', 'BPQ040A', 'BPQ050A']]\n",
    "bpq_J = bpq_J[['SEQN', 'BPQ040A', 'BPQ050A']]\n",
    "\n",
    "bpq = pd.concat([bpq_B, bpq_C, bpq_D, bpq_E, bpq_F, bpq_G, bpq_H, bpq_I, bpq_J])"
   ]
  },
  {
   "cell_type": "code",
   "execution_count": 78,
   "id": "f925a0e2",
   "metadata": {},
   "outputs": [],
   "source": [
    "adults = adults.merge(bpq, on='SEQN', how='left')"
   ]
  },
  {
   "cell_type": "code",
   "execution_count": 79,
   "id": "5accca5e",
   "metadata": {},
   "outputs": [],
   "source": [
    "adults['hypertension'] = np.where(adults['sys_ht'] == 'yes', 'yes', 'no')\n",
    "adults['hypertension'] = np.where(adults['di_ht'] == 'yes', 'yes', adults['hypertension'])\n",
    "adults['hypertension'] = np.where(adults['BPQ040A'] == 1, 'yes', adults['hypertension'])\n",
    "adults['hypertension'] = np.where(adults['BPQ050A'] == 1, 'yes', adults['hypertension'])\n",
    "adults['hypertension'] = np.where(adults['BPQ040A'] == 7, 'unknown', adults['hypertension'])\n",
    "adults['hypertension'] = np.where(adults['BPQ050A'] == 7, 'unknown', adults['hypertension'])\n",
    "adults['hypertension'] = np.where(adults['BPQ040A'] == 9, 'unknown', adults['hypertension'])\n",
    "adults['hypertension'] = np.where(adults['BPQ050A'] == 9, 'unknown', adults['hypertension'])"
   ]
  },
  {
   "cell_type": "code",
   "execution_count": 80,
   "id": "ac0e9f69",
   "metadata": {},
   "outputs": [
    {
     "data": {
      "text/plain": [
       "no         634663\n",
       "yes        375031\n",
       "unknown       442\n",
       "Name: hypertension, dtype: int64"
      ]
     },
     "execution_count": 80,
     "metadata": {},
     "output_type": "execute_result"
    }
   ],
   "source": [
    "adults['hypertension'].value_counts()"
   ]
  },
  {
   "cell_type": "markdown",
   "id": "ff3f019f",
   "metadata": {},
   "source": [
    "### Exclusion criteria - infectious diseases, CVD & Cancer"
   ]
  },
  {
   "cell_type": "markdown",
   "id": "bec16a40",
   "metadata": {},
   "source": [
    "#### infectious diseases (Hepatitis / HIV)\n",
    "* Hep A - see note\n",
    "* Hep B\n",
    "* Hep C\n",
    "* Hep D\n",
    "* HIV"
   ]
  },
  {
   "cell_type": "markdown",
   "id": "4b5903a6",
   "metadata": {},
   "source": [
    "Note on Hep A - Discussion with DL suggested use of elevated liver enzymes to detect true cases of active infection rather than ABs as a result of vaccination. However, there can be several causes of elevated enzymes aside from Hepatitis: \"When Alanine transaminase (ALT) rises to more than 500 IU/L, causes are usually from the liver. It can be due to hepatitis, ischemic liver injury, and toxins that causes liver damage. The ALT levels in hepatitis C rises more than in hepatitis A and B. Persistent ALT elevation more than 6 months is known as chronic hepatitis. Alcoholic liver disease, non-alcoholic fatty liver disease (NAFLD), fat accumulation in liver during childhood obesity, steatohepatitis (inflammation of fatty liver disease) are associated with a rise in ALT.\" https://en.wikipedia.org/wiki/Liver_function_tests\n",
    "\n",
    "For this reason, not current excluding individuals with positive result for Hep A."
   ]
  },
  {
   "cell_type": "code",
   "execution_count": 81,
   "id": "79747daa",
   "metadata": {},
   "outputs": [],
   "source": [
    "#Lab data - Hepatitis B core antibody / surface antigen\n",
    "\n",
    "hep_BCD_B = pd.read_sas('https://wwwn.cdc.gov/Nchs/Nhanes/2001-2002/L02_B.XPT', format='xport', encoding='utf-8')\n",
    "hep_BCD_C = pd.read_sas('https://wwwn.cdc.gov/Nchs/Nhanes/2003-2004/L02_C.XPT', format='xport', encoding='utf-8')\n",
    "\n",
    "hep_B_D = pd.read_sas('https://wwwn.cdc.gov/Nchs/Nhanes/2005-2006/HEPBD_D.XPT', format='xport', encoding='utf-8')\n",
    "hep_B_E = pd.read_sas('https://wwwn.cdc.gov/Nchs/Nhanes/2007-2008/HEPBD_E.XPT', format='xport', encoding='utf-8')\n",
    "hep_B_F = pd.read_sas('https://wwwn.cdc.gov/Nchs/Nhanes/2009-2010/HEPBD_F.XPT', format='xport', encoding='utf-8')\n",
    "hep_B_G = pd.read_sas('https://wwwn.cdc.gov/Nchs/Nhanes/2011-2012/HEPBD_G.XPT', format='xport', encoding='utf-8')\n",
    "hep_B_H = pd.read_sas('https://wwwn.cdc.gov/Nchs/Nhanes/2013-2014/HEPBD_H.XPT', format='xport', encoding='utf-8')\n",
    "hep_B_I = pd.read_sas('https://wwwn.cdc.gov/Nchs/Nhanes/2015-2016/HEPBD_I.XPT', format='xport', encoding='utf-8')\n",
    "hep_B_J = pd.read_sas('https://wwwn.cdc.gov/Nchs/Nhanes/2017-2018/HEPBD_J.XPT', format='xport', encoding='utf-8')\n",
    "\n",
    "\n",
    "#Hepatitis B surface antibody\n",
    "\n",
    "hep_SA_B = pd.read_sas('https://wwwn.cdc.gov/Nchs/Nhanes/2001-2002/L02HBS_B.XPT', format='xport', encoding='utf-8')\n",
    "hep_SA_C = pd.read_sas('https://wwwn.cdc.gov/Nchs/Nhanes/2003-2004/L02HBS_C.XPT', format='xport', encoding='utf-8')\n",
    "hep_SA_D = pd.read_sas('https://wwwn.cdc.gov/Nchs/Nhanes/2005-2006/HEPB_S_D.XPT', format='xport', encoding='utf-8')\n",
    "hep_SA_E = pd.read_sas('https://wwwn.cdc.gov/Nchs/Nhanes/2007-2008/HEPB_S_E.XPT', format='xport', encoding='utf-8')\n",
    "hep_SA_F = pd.read_sas('https://wwwn.cdc.gov/Nchs/Nhanes/2009-2010/HEPB_S_F.XPT', format='xport', encoding='utf-8')\n",
    "hep_SA_G = pd.read_sas('https://wwwn.cdc.gov/Nchs/Nhanes/2011-2012/HEPB_S_G.XPT', format='xport', encoding='utf-8')\n",
    "hep_SA_H = pd.read_sas('https://wwwn.cdc.gov/Nchs/Nhanes/2013-2014/HEPB_S_H.XPT', format='xport', encoding='utf-8')\n",
    "hep_SA_I = pd.read_sas('https://wwwn.cdc.gov/Nchs/Nhanes/2015-2016/HEPB_S_I.XPT', format='xport', encoding='utf-8')\n",
    "hep_SA_J = pd.read_sas('https://wwwn.cdc.gov/Nchs/Nhanes/2017-2018/HEPB_S_J.XPT', format='xport', encoding='utf-8')\n",
    "\n"
   ]
  },
  {
   "cell_type": "code",
   "execution_count": 82,
   "id": "103ebc01",
   "metadata": {},
   "outputs": [],
   "source": [
    "hepB_B = hep_BCD_B[['SEQN', 'LBXHBC', 'LBDHBG']]\n",
    "hepB_C = hep_BCD_C[['SEQN', 'LBXHBC', 'LBDHBG']]\n",
    "hepB_D = hep_B_D[['SEQN', 'LBXHBC', 'LBDHBG']]\n",
    "hepB_E = hep_B_E[['SEQN', 'LBXHBC', 'LBDHBG']]\n",
    "hepB_F = hep_B_F[['SEQN', 'LBXHBC', 'LBDHBG']]\n",
    "hepB_G = hep_B_G[['SEQN', 'LBXHBC', 'LBDHBG']]\n",
    "hepB_H = hep_B_H[['SEQN', 'LBXHBC', 'LBDHBG']]\n",
    "hepB_I = hep_B_I[['SEQN', 'LBXHBC', 'LBDHBG']]\n",
    "hepB_J = hep_B_J[['SEQN', 'LBXHBC', 'LBDHBG']]\n",
    "\n",
    "hepB_SA_B = hep_SA_B[['SEQN', 'LBXHBS']]\n",
    "hepB_SA_C = hep_SA_C[['SEQN', 'LBXHBS']]\n",
    "hepB_SA_D = hep_SA_D[['SEQN', 'LBXHBS']]\n",
    "hepB_SA_E = hep_SA_E[['SEQN', 'LBXHBS']]\n",
    "hepB_SA_F = hep_SA_F[['SEQN', 'LBXHBS']]\n",
    "hepB_SA_G = hep_SA_G[['SEQN', 'LBXHBS']]\n",
    "hepB_SA_H = hep_SA_H[['SEQN', 'LBXHBS']]\n",
    "hepB_SA_I = hep_SA_I[['SEQN', 'LBXHBS']]\n",
    "hepB_SA_J = hep_SA_J[['SEQN', 'LBXHBS']]\n",
    "\n",
    "hep_B_CSA = pd.concat([hepB_B, hepB_C, hepB_D, hepB_E, hepB_F, hepB_G, hepB_H, hepB_I, hepB_J])\n",
    "hep_B_SA = pd.concat([hepB_SA_B, hepB_SA_C, hepB_SA_D, hepB_SA_E, hepB_SA_F, hepB_SA_G, hepB_SA_H, hepB_SA_I, hepB_SA_J])"
   ]
  },
  {
   "cell_type": "code",
   "execution_count": 83,
   "id": "eca276e5",
   "metadata": {},
   "outputs": [],
   "source": [
    "adults = adults.merge(hep_B_CSA, on='SEQN', how='left')\n",
    "adults = adults.merge(hep_B_SA, on='SEQN', how='left')"
   ]
  },
  {
   "cell_type": "code",
   "execution_count": 84,
   "id": "a7d121da",
   "metadata": {},
   "outputs": [],
   "source": [
    "adults['hep_B_infection'] = np.where(adults['LBXHBC'] == 1, 'yes', 'no')\n",
    "adults['hep_B_infection'] = np.where(adults['LBDHBG'] == 1, 'yes', adults['hep_B_infection'])\n",
    "adults['hep_B_infection'] = np.where(adults['LBXHBS'] == 1, 'no', adults['hep_B_infection']) # testing positive for surface antibody indicates immunity from vaccination, not active infection."
   ]
  },
  {
   "cell_type": "code",
   "execution_count": 85,
   "id": "b20d3470",
   "metadata": {},
   "outputs": [],
   "source": [
    "adults = adults[adults['hep_B_infection'] == 'no']"
   ]
  },
  {
   "cell_type": "code",
   "execution_count": 86,
   "id": "448176af",
   "metadata": {},
   "outputs": [],
   "source": [
    "#Lab data - Hepatitis C / D\n",
    "\n",
    "hepC_D = pd.read_sas('https://wwwn.cdc.gov/Nchs/Nhanes/2005-2006/HEPC_D.XPT', format='xport', encoding='utf-8')\n",
    "hepD_D = pd.read_sas('https://wwwn.cdc.gov/Nchs/Nhanes/2005-2006/HEPBD_D.XPT', format='xport', encoding='utf-8')\n",
    "\n",
    "hepC_E = pd.read_sas('https://wwwn.cdc.gov/Nchs/Nhanes/2007-2008/HEPC_E.XPT', format='xport', encoding='utf-8')\n",
    "hepD_E = pd.read_sas('https://wwwn.cdc.gov/Nchs/Nhanes/2007-2008/HEPBD_E.XPT', format='xport', encoding='utf-8')\n",
    "\n",
    "hepC_F = pd.read_sas('https://wwwn.cdc.gov/Nchs/Nhanes/2009-2010/HEPC_F.XPT', format='xport', encoding='utf-8')\n",
    "hepD_F = pd.read_sas('https://wwwn.cdc.gov/Nchs/Nhanes/2009-2010/HEPBD_F.XPT', format='xport', encoding='utf-8')\n",
    "\n",
    "hepC_G = pd.read_sas('https://wwwn.cdc.gov/Nchs/Nhanes/2011-2012/HEPC_G.XPT', format='xport', encoding='utf-8')\n",
    "hepD_G = pd.read_sas('https://wwwn.cdc.gov/Nchs/Nhanes/2011-2012/HEPBD_G.XPT', format='xport', encoding='utf-8')\n",
    "\n",
    "hepC_H = pd.read_sas('https://wwwn.cdc.gov/Nchs/Nhanes/2013-2014/SSHEPC_H.XPT', format='xport', encoding='utf-8')\n",
    "hepD_H = pd.read_sas('https://wwwn.cdc.gov/Nchs/Nhanes/2013-2014/HEPBD_H.XPT', format='xport', encoding='utf-8')\n",
    "\n",
    "hepC_I = pd.read_sas('https://wwwn.cdc.gov/Nchs/Nhanes/2015-2016/HEPC_I.XPT', format='xport', encoding='utf-8')\n",
    "hepD_I = pd.read_sas('https://wwwn.cdc.gov/Nchs/Nhanes/2015-2016/HEPBD_I.XPT', format='xport', encoding='utf-8')\n",
    "\n",
    "hepC_J = pd.read_sas('https://wwwn.cdc.gov/Nchs/Nhanes/2017-2018/HEPC_J.XPT', format='xport', encoding='utf-8')\n",
    "hepD_J = pd.read_sas('https://wwwn.cdc.gov/Nchs/Nhanes/2017-2018/HEPBD_J.XPT', format='xport', encoding='utf-8')"
   ]
  },
  {
   "cell_type": "code",
   "execution_count": 87,
   "id": "04fa664a",
   "metadata": {},
   "outputs": [],
   "source": [
    "hepC_B = hep_BCD_B[['SEQN', 'LBDHCV']]\n",
    "hepC_C = hep_BCD_C[['SEQN', 'LBDHCV']]\n",
    "hepC_D = hepC_D[['SEQN', 'LBDHCV']]\n",
    "hepC_E = hepC_E[['SEQN', 'LBDHCV']]\n",
    "hepC_F = hepC_F[['SEQN', 'LBDHCV']]\n",
    "hepC_G = hepC_G[['SEQN', 'LBDHCV']]\n",
    "hepC_H = hepC_H[['SEQN', 'LBDHCI']]\n",
    "hepC_I = hepC_I[['SEQN', 'LBXHCR']] # discontinued testing kit, using 'LBXHCR' as assessment\n",
    "hepC_J = hepC_J[['SEQN', 'LBDHCI']]\n",
    "\n",
    "hepC_H.rename(columns={'LBDHCI':'LBDHCV'},inplace=True)\n",
    "hepC_I.rename(columns={'LBXHCR':'LBDHCV'},inplace=True)\n",
    "hepC_J.rename(columns={'LBDHCI':'LBDHCV'},inplace=True)\n",
    "\n",
    "hepD_B = hep_BCD_B[['SEQN', 'LBDHD']]\n",
    "hepD_C = hep_BCD_C[['SEQN', 'LBDHD']]\n",
    "hepD_D = hepD_D[['SEQN', 'LBDHD']]\n",
    "hepD_E = hepD_E[['SEQN', 'LBDHD']]\n",
    "hepD_F = hepD_F[['SEQN', 'LBDHD']]\n",
    "hepD_G = hepD_G[['SEQN', 'LBDHD']]\n",
    "hepD_H = hepD_H[['SEQN', 'LBDHD']]\n",
    "hepD_I = hepD_I[['SEQN', 'LBDHD']]\n",
    "hepD_J = hepD_J[['SEQN', 'LBDHD']]\n",
    "\n",
    "hep_C = pd.concat([hepC_B, hepC_C, hepC_D, hepC_E, hepC_F, hepC_G, hepC_H, hepC_I, hepC_J])\n",
    "hep_D = pd.concat([hepD_B, hepD_C, hepD_D, hepD_E, hepD_F, hepD_G, hepD_H, hepD_I, hepD_J])"
   ]
  },
  {
   "cell_type": "code",
   "execution_count": 88,
   "id": "56bd537c",
   "metadata": {},
   "outputs": [],
   "source": [
    "adults = adults.merge(hep_C, on='SEQN', how='left')\n",
    "adults = adults.merge(hep_D, on='SEQN', how='left')"
   ]
  },
  {
   "cell_type": "code",
   "execution_count": 89,
   "id": "5bb15e46",
   "metadata": {},
   "outputs": [],
   "source": [
    "adults['hep_C_infection'] = np.where(adults['LBDHCV'] == 1, 'yes', 'no')\n",
    "adults['hep_D_infection'] = np.where(adults['LBDHD'] == 1, 'yes', 'no')"
   ]
  },
  {
   "cell_type": "code",
   "execution_count": 90,
   "id": "8be46431",
   "metadata": {},
   "outputs": [],
   "source": [
    "adults = adults[adults['hep_C_infection'] == 'no']\n",
    "adults = adults[adults['hep_D_infection'] == 'no']"
   ]
  },
  {
   "cell_type": "code",
   "execution_count": 91,
   "id": "0c762b46",
   "metadata": {},
   "outputs": [],
   "source": [
    "#Lab data - HIV\n",
    "\n",
    "hiv_B = pd.read_sas('https://wwwn.cdc.gov/Nchs/Nhanes/2001-2002/L03_B.XPT', format='xport', encoding='utf-8')\n",
    "hiv_C = pd.read_sas('https://wwwn.cdc.gov/Nchs/Nhanes/2003-2004/L03_C.XPT', format='xport', encoding='utf-8')\n",
    "hiv_D = pd.read_sas('https://wwwn.cdc.gov/Nchs/Nhanes/2005-2006/hiv_D.XPT', format='xport', encoding='utf-8')\n",
    "hiv_E = pd.read_sas('https://wwwn.cdc.gov/Nchs/Nhanes/2007-2008/hiv_E.XPT', format='xport', encoding='utf-8')\n",
    "hiv_F = pd.read_sas('https://wwwn.cdc.gov/Nchs/Nhanes/2009-2010/hiv_F.XPT', format='xport', encoding='utf-8')\n",
    "hiv_G = pd.read_sas('https://wwwn.cdc.gov/Nchs/Nhanes/2011-2012/hiv_G.XPT', format='xport', encoding='utf-8')\n",
    "hiv_H = pd.read_sas('https://wwwn.cdc.gov/Nchs/Nhanes/2013-2014/hiv_H.XPT', format='xport', encoding='utf-8')\n",
    "hiv_I = pd.read_sas('https://wwwn.cdc.gov/Nchs/Nhanes/2015-2016/hiv_I.XPT', format='xport', encoding='utf-8')\n",
    "hiv_J = pd.read_sas('https://wwwn.cdc.gov/Nchs/Nhanes/2017-2018/hiv_J.XPT', format='xport', encoding='utf-8')"
   ]
  },
  {
   "cell_type": "code",
   "execution_count": 92,
   "id": "def0482b",
   "metadata": {},
   "outputs": [],
   "source": [
    "hiv_I = hiv_I[hiv_I['LBXHIVC'] == 1]\n",
    "hiv_I = hiv_I[hiv_I['LBXHNAT'] != 2]\n",
    "hiv_I.rename(columns={'LBXHIVC':'LBDHI'}, inplace=True)\n",
    "hiv_I = hiv_I[['SEQN', 'LBDHI']]"
   ]
  },
  {
   "cell_type": "code",
   "execution_count": 93,
   "id": "78a7fde4",
   "metadata": {},
   "outputs": [],
   "source": [
    "hiv_J = hiv_J[hiv_J['LBXHIVC'] == 1]\n",
    "hiv_J = hiv_J[hiv_J['LBXHNAT'] != 2]\n",
    "hiv_J.rename(columns={'LBXHIVC':'LBDHI'}, inplace=True)\n",
    "hiv_J = hiv_J[['SEQN', 'LBDHI']]"
   ]
  },
  {
   "cell_type": "code",
   "execution_count": 94,
   "id": "dd564e13",
   "metadata": {},
   "outputs": [],
   "source": [
    "hiv = pd.concat([hiv_B, hiv_C, hiv_D, hiv_E, hiv_F, hiv_G, hiv_H, hiv_I, hiv_J])"
   ]
  },
  {
   "cell_type": "code",
   "execution_count": 95,
   "id": "9e289679",
   "metadata": {},
   "outputs": [],
   "source": [
    "hiv_pos = hiv[hiv['LBDHI']==1]"
   ]
  },
  {
   "cell_type": "code",
   "execution_count": 96,
   "id": "e6739ab2",
   "metadata": {},
   "outputs": [],
   "source": [
    "adults = adults[~adults['SEQN'].isin(hiv_pos['SEQN'])]"
   ]
  },
  {
   "cell_type": "code",
   "execution_count": 97,
   "id": "73344c4d",
   "metadata": {},
   "outputs": [
    {
     "data": {
      "text/plain": [
       "45638"
      ]
     },
     "execution_count": 97,
     "metadata": {},
     "output_type": "execute_result"
    }
   ],
   "source": [
    "adults.SEQN.nunique()"
   ]
  },
  {
   "cell_type": "code",
   "execution_count": 98,
   "id": "668d770a",
   "metadata": {},
   "outputs": [
    {
     "name": "stderr",
     "output_type": "stream",
     "text": [
      "/var/folders/28/kcjp2s310sx44jpn8yqs8y9c929k6r/T/ipykernel_44510/650559518.py:3: PerformanceWarning: DataFrame is highly fragmented.  This is usually the result of calling `frame.insert` many times, which has poor performance.  Consider joining all columns at once using pd.concat(axis=1) instead. To get a de-fragmented frame, use `newframe = frame.copy()`\n",
      "  mc_B = pd.read_sas('https://wwwn.cdc.gov/Nchs/Nhanes/2001-2002/MCQ_B.XPT', format='xport', encoding='utf-8')\n",
      "/var/folders/28/kcjp2s310sx44jpn8yqs8y9c929k6r/T/ipykernel_44510/650559518.py:3: PerformanceWarning: DataFrame is highly fragmented.  This is usually the result of calling `frame.insert` many times, which has poor performance.  Consider joining all columns at once using pd.concat(axis=1) instead. To get a de-fragmented frame, use `newframe = frame.copy()`\n",
      "  mc_B = pd.read_sas('https://wwwn.cdc.gov/Nchs/Nhanes/2001-2002/MCQ_B.XPT', format='xport', encoding='utf-8')\n",
      "/var/folders/28/kcjp2s310sx44jpn8yqs8y9c929k6r/T/ipykernel_44510/650559518.py:3: PerformanceWarning: DataFrame is highly fragmented.  This is usually the result of calling `frame.insert` many times, which has poor performance.  Consider joining all columns at once using pd.concat(axis=1) instead. To get a de-fragmented frame, use `newframe = frame.copy()`\n",
      "  mc_B = pd.read_sas('https://wwwn.cdc.gov/Nchs/Nhanes/2001-2002/MCQ_B.XPT', format='xport', encoding='utf-8')\n",
      "/var/folders/28/kcjp2s310sx44jpn8yqs8y9c929k6r/T/ipykernel_44510/650559518.py:3: PerformanceWarning: DataFrame is highly fragmented.  This is usually the result of calling `frame.insert` many times, which has poor performance.  Consider joining all columns at once using pd.concat(axis=1) instead. To get a de-fragmented frame, use `newframe = frame.copy()`\n",
      "  mc_B = pd.read_sas('https://wwwn.cdc.gov/Nchs/Nhanes/2001-2002/MCQ_B.XPT', format='xport', encoding='utf-8')\n",
      "/var/folders/28/kcjp2s310sx44jpn8yqs8y9c929k6r/T/ipykernel_44510/650559518.py:3: PerformanceWarning: DataFrame is highly fragmented.  This is usually the result of calling `frame.insert` many times, which has poor performance.  Consider joining all columns at once using pd.concat(axis=1) instead. To get a de-fragmented frame, use `newframe = frame.copy()`\n",
      "  mc_B = pd.read_sas('https://wwwn.cdc.gov/Nchs/Nhanes/2001-2002/MCQ_B.XPT', format='xport', encoding='utf-8')\n",
      "/var/folders/28/kcjp2s310sx44jpn8yqs8y9c929k6r/T/ipykernel_44510/650559518.py:3: PerformanceWarning: DataFrame is highly fragmented.  This is usually the result of calling `frame.insert` many times, which has poor performance.  Consider joining all columns at once using pd.concat(axis=1) instead. To get a de-fragmented frame, use `newframe = frame.copy()`\n",
      "  mc_B = pd.read_sas('https://wwwn.cdc.gov/Nchs/Nhanes/2001-2002/MCQ_B.XPT', format='xport', encoding='utf-8')\n",
      "/var/folders/28/kcjp2s310sx44jpn8yqs8y9c929k6r/T/ipykernel_44510/650559518.py:3: PerformanceWarning: DataFrame is highly fragmented.  This is usually the result of calling `frame.insert` many times, which has poor performance.  Consider joining all columns at once using pd.concat(axis=1) instead. To get a de-fragmented frame, use `newframe = frame.copy()`\n",
      "  mc_B = pd.read_sas('https://wwwn.cdc.gov/Nchs/Nhanes/2001-2002/MCQ_B.XPT', format='xport', encoding='utf-8')\n",
      "/var/folders/28/kcjp2s310sx44jpn8yqs8y9c929k6r/T/ipykernel_44510/650559518.py:3: PerformanceWarning: DataFrame is highly fragmented.  This is usually the result of calling `frame.insert` many times, which has poor performance.  Consider joining all columns at once using pd.concat(axis=1) instead. To get a de-fragmented frame, use `newframe = frame.copy()`\n",
      "  mc_B = pd.read_sas('https://wwwn.cdc.gov/Nchs/Nhanes/2001-2002/MCQ_B.XPT', format='xport', encoding='utf-8')\n",
      "/var/folders/28/kcjp2s310sx44jpn8yqs8y9c929k6r/T/ipykernel_44510/650559518.py:3: PerformanceWarning: DataFrame is highly fragmented.  This is usually the result of calling `frame.insert` many times, which has poor performance.  Consider joining all columns at once using pd.concat(axis=1) instead. To get a de-fragmented frame, use `newframe = frame.copy()`\n",
      "  mc_B = pd.read_sas('https://wwwn.cdc.gov/Nchs/Nhanes/2001-2002/MCQ_B.XPT', format='xport', encoding='utf-8')\n",
      "/var/folders/28/kcjp2s310sx44jpn8yqs8y9c929k6r/T/ipykernel_44510/650559518.py:3: PerformanceWarning: DataFrame is highly fragmented.  This is usually the result of calling `frame.insert` many times, which has poor performance.  Consider joining all columns at once using pd.concat(axis=1) instead. To get a de-fragmented frame, use `newframe = frame.copy()`\n",
      "  mc_B = pd.read_sas('https://wwwn.cdc.gov/Nchs/Nhanes/2001-2002/MCQ_B.XPT', format='xport', encoding='utf-8')\n",
      "/var/folders/28/kcjp2s310sx44jpn8yqs8y9c929k6r/T/ipykernel_44510/650559518.py:3: PerformanceWarning: DataFrame is highly fragmented.  This is usually the result of calling `frame.insert` many times, which has poor performance.  Consider joining all columns at once using pd.concat(axis=1) instead. To get a de-fragmented frame, use `newframe = frame.copy()`\n",
      "  mc_B = pd.read_sas('https://wwwn.cdc.gov/Nchs/Nhanes/2001-2002/MCQ_B.XPT', format='xport', encoding='utf-8')\n",
      "/var/folders/28/kcjp2s310sx44jpn8yqs8y9c929k6r/T/ipykernel_44510/650559518.py:3: PerformanceWarning: DataFrame is highly fragmented.  This is usually the result of calling `frame.insert` many times, which has poor performance.  Consider joining all columns at once using pd.concat(axis=1) instead. To get a de-fragmented frame, use `newframe = frame.copy()`\n",
      "  mc_B = pd.read_sas('https://wwwn.cdc.gov/Nchs/Nhanes/2001-2002/MCQ_B.XPT', format='xport', encoding='utf-8')\n",
      "/var/folders/28/kcjp2s310sx44jpn8yqs8y9c929k6r/T/ipykernel_44510/650559518.py:3: PerformanceWarning: DataFrame is highly fragmented.  This is usually the result of calling `frame.insert` many times, which has poor performance.  Consider joining all columns at once using pd.concat(axis=1) instead. To get a de-fragmented frame, use `newframe = frame.copy()`\n",
      "  mc_B = pd.read_sas('https://wwwn.cdc.gov/Nchs/Nhanes/2001-2002/MCQ_B.XPT', format='xport', encoding='utf-8')\n",
      "/var/folders/28/kcjp2s310sx44jpn8yqs8y9c929k6r/T/ipykernel_44510/650559518.py:3: PerformanceWarning: DataFrame is highly fragmented.  This is usually the result of calling `frame.insert` many times, which has poor performance.  Consider joining all columns at once using pd.concat(axis=1) instead. To get a de-fragmented frame, use `newframe = frame.copy()`\n",
      "  mc_B = pd.read_sas('https://wwwn.cdc.gov/Nchs/Nhanes/2001-2002/MCQ_B.XPT', format='xport', encoding='utf-8')\n",
      "/var/folders/28/kcjp2s310sx44jpn8yqs8y9c929k6r/T/ipykernel_44510/650559518.py:3: PerformanceWarning: DataFrame is highly fragmented.  This is usually the result of calling `frame.insert` many times, which has poor performance.  Consider joining all columns at once using pd.concat(axis=1) instead. To get a de-fragmented frame, use `newframe = frame.copy()`\n",
      "  mc_B = pd.read_sas('https://wwwn.cdc.gov/Nchs/Nhanes/2001-2002/MCQ_B.XPT', format='xport', encoding='utf-8')\n",
      "/var/folders/28/kcjp2s310sx44jpn8yqs8y9c929k6r/T/ipykernel_44510/650559518.py:3: PerformanceWarning: DataFrame is highly fragmented.  This is usually the result of calling `frame.insert` many times, which has poor performance.  Consider joining all columns at once using pd.concat(axis=1) instead. To get a de-fragmented frame, use `newframe = frame.copy()`\n",
      "  mc_B = pd.read_sas('https://wwwn.cdc.gov/Nchs/Nhanes/2001-2002/MCQ_B.XPT', format='xport', encoding='utf-8')\n",
      "/var/folders/28/kcjp2s310sx44jpn8yqs8y9c929k6r/T/ipykernel_44510/650559518.py:3: PerformanceWarning: DataFrame is highly fragmented.  This is usually the result of calling `frame.insert` many times, which has poor performance.  Consider joining all columns at once using pd.concat(axis=1) instead. To get a de-fragmented frame, use `newframe = frame.copy()`\n",
      "  mc_B = pd.read_sas('https://wwwn.cdc.gov/Nchs/Nhanes/2001-2002/MCQ_B.XPT', format='xport', encoding='utf-8')\n",
      "/var/folders/28/kcjp2s310sx44jpn8yqs8y9c929k6r/T/ipykernel_44510/650559518.py:3: PerformanceWarning: DataFrame is highly fragmented.  This is usually the result of calling `frame.insert` many times, which has poor performance.  Consider joining all columns at once using pd.concat(axis=1) instead. To get a de-fragmented frame, use `newframe = frame.copy()`\n",
      "  mc_B = pd.read_sas('https://wwwn.cdc.gov/Nchs/Nhanes/2001-2002/MCQ_B.XPT', format='xport', encoding='utf-8')\n",
      "/var/folders/28/kcjp2s310sx44jpn8yqs8y9c929k6r/T/ipykernel_44510/650559518.py:3: PerformanceWarning: DataFrame is highly fragmented.  This is usually the result of calling `frame.insert` many times, which has poor performance.  Consider joining all columns at once using pd.concat(axis=1) instead. To get a de-fragmented frame, use `newframe = frame.copy()`\n",
      "  mc_B = pd.read_sas('https://wwwn.cdc.gov/Nchs/Nhanes/2001-2002/MCQ_B.XPT', format='xport', encoding='utf-8')\n",
      "/var/folders/28/kcjp2s310sx44jpn8yqs8y9c929k6r/T/ipykernel_44510/650559518.py:3: PerformanceWarning: DataFrame is highly fragmented.  This is usually the result of calling `frame.insert` many times, which has poor performance.  Consider joining all columns at once using pd.concat(axis=1) instead. To get a de-fragmented frame, use `newframe = frame.copy()`\n",
      "  mc_B = pd.read_sas('https://wwwn.cdc.gov/Nchs/Nhanes/2001-2002/MCQ_B.XPT', format='xport', encoding='utf-8')\n",
      "/var/folders/28/kcjp2s310sx44jpn8yqs8y9c929k6r/T/ipykernel_44510/650559518.py:3: PerformanceWarning: DataFrame is highly fragmented.  This is usually the result of calling `frame.insert` many times, which has poor performance.  Consider joining all columns at once using pd.concat(axis=1) instead. To get a de-fragmented frame, use `newframe = frame.copy()`\n",
      "  mc_B = pd.read_sas('https://wwwn.cdc.gov/Nchs/Nhanes/2001-2002/MCQ_B.XPT', format='xport', encoding='utf-8')\n",
      "/var/folders/28/kcjp2s310sx44jpn8yqs8y9c929k6r/T/ipykernel_44510/650559518.py:3: PerformanceWarning: DataFrame is highly fragmented.  This is usually the result of calling `frame.insert` many times, which has poor performance.  Consider joining all columns at once using pd.concat(axis=1) instead. To get a de-fragmented frame, use `newframe = frame.copy()`\n",
      "  mc_B = pd.read_sas('https://wwwn.cdc.gov/Nchs/Nhanes/2001-2002/MCQ_B.XPT', format='xport', encoding='utf-8')\n",
      "/var/folders/28/kcjp2s310sx44jpn8yqs8y9c929k6r/T/ipykernel_44510/650559518.py:3: PerformanceWarning: DataFrame is highly fragmented.  This is usually the result of calling `frame.insert` many times, which has poor performance.  Consider joining all columns at once using pd.concat(axis=1) instead. To get a de-fragmented frame, use `newframe = frame.copy()`\n",
      "  mc_B = pd.read_sas('https://wwwn.cdc.gov/Nchs/Nhanes/2001-2002/MCQ_B.XPT', format='xport', encoding='utf-8')\n",
      "/var/folders/28/kcjp2s310sx44jpn8yqs8y9c929k6r/T/ipykernel_44510/650559518.py:3: PerformanceWarning: DataFrame is highly fragmented.  This is usually the result of calling `frame.insert` many times, which has poor performance.  Consider joining all columns at once using pd.concat(axis=1) instead. To get a de-fragmented frame, use `newframe = frame.copy()`\n",
      "  mc_B = pd.read_sas('https://wwwn.cdc.gov/Nchs/Nhanes/2001-2002/MCQ_B.XPT', format='xport', encoding='utf-8')\n",
      "/var/folders/28/kcjp2s310sx44jpn8yqs8y9c929k6r/T/ipykernel_44510/650559518.py:3: PerformanceWarning: DataFrame is highly fragmented.  This is usually the result of calling `frame.insert` many times, which has poor performance.  Consider joining all columns at once using pd.concat(axis=1) instead. To get a de-fragmented frame, use `newframe = frame.copy()`\n",
      "  mc_B = pd.read_sas('https://wwwn.cdc.gov/Nchs/Nhanes/2001-2002/MCQ_B.XPT', format='xport', encoding='utf-8')\n",
      "/var/folders/28/kcjp2s310sx44jpn8yqs8y9c929k6r/T/ipykernel_44510/650559518.py:3: PerformanceWarning: DataFrame is highly fragmented.  This is usually the result of calling `frame.insert` many times, which has poor performance.  Consider joining all columns at once using pd.concat(axis=1) instead. To get a de-fragmented frame, use `newframe = frame.copy()`\n",
      "  mc_B = pd.read_sas('https://wwwn.cdc.gov/Nchs/Nhanes/2001-2002/MCQ_B.XPT', format='xport', encoding='utf-8')\n",
      "/var/folders/28/kcjp2s310sx44jpn8yqs8y9c929k6r/T/ipykernel_44510/650559518.py:3: PerformanceWarning: DataFrame is highly fragmented.  This is usually the result of calling `frame.insert` many times, which has poor performance.  Consider joining all columns at once using pd.concat(axis=1) instead. To get a de-fragmented frame, use `newframe = frame.copy()`\n",
      "  mc_B = pd.read_sas('https://wwwn.cdc.gov/Nchs/Nhanes/2001-2002/MCQ_B.XPT', format='xport', encoding='utf-8')\n",
      "/var/folders/28/kcjp2s310sx44jpn8yqs8y9c929k6r/T/ipykernel_44510/650559518.py:3: PerformanceWarning: DataFrame is highly fragmented.  This is usually the result of calling `frame.insert` many times, which has poor performance.  Consider joining all columns at once using pd.concat(axis=1) instead. To get a de-fragmented frame, use `newframe = frame.copy()`\n",
      "  mc_B = pd.read_sas('https://wwwn.cdc.gov/Nchs/Nhanes/2001-2002/MCQ_B.XPT', format='xport', encoding='utf-8')\n",
      "/var/folders/28/kcjp2s310sx44jpn8yqs8y9c929k6r/T/ipykernel_44510/650559518.py:3: PerformanceWarning: DataFrame is highly fragmented.  This is usually the result of calling `frame.insert` many times, which has poor performance.  Consider joining all columns at once using pd.concat(axis=1) instead. To get a de-fragmented frame, use `newframe = frame.copy()`\n",
      "  mc_B = pd.read_sas('https://wwwn.cdc.gov/Nchs/Nhanes/2001-2002/MCQ_B.XPT', format='xport', encoding='utf-8')\n",
      "/var/folders/28/kcjp2s310sx44jpn8yqs8y9c929k6r/T/ipykernel_44510/650559518.py:3: PerformanceWarning: DataFrame is highly fragmented.  This is usually the result of calling `frame.insert` many times, which has poor performance.  Consider joining all columns at once using pd.concat(axis=1) instead. To get a de-fragmented frame, use `newframe = frame.copy()`\n",
      "  mc_B = pd.read_sas('https://wwwn.cdc.gov/Nchs/Nhanes/2001-2002/MCQ_B.XPT', format='xport', encoding='utf-8')\n",
      "/var/folders/28/kcjp2s310sx44jpn8yqs8y9c929k6r/T/ipykernel_44510/650559518.py:3: PerformanceWarning: DataFrame is highly fragmented.  This is usually the result of calling `frame.insert` many times, which has poor performance.  Consider joining all columns at once using pd.concat(axis=1) instead. To get a de-fragmented frame, use `newframe = frame.copy()`\n",
      "  mc_B = pd.read_sas('https://wwwn.cdc.gov/Nchs/Nhanes/2001-2002/MCQ_B.XPT', format='xport', encoding='utf-8')\n",
      "/var/folders/28/kcjp2s310sx44jpn8yqs8y9c929k6r/T/ipykernel_44510/650559518.py:3: PerformanceWarning: DataFrame is highly fragmented.  This is usually the result of calling `frame.insert` many times, which has poor performance.  Consider joining all columns at once using pd.concat(axis=1) instead. To get a de-fragmented frame, use `newframe = frame.copy()`\n",
      "  mc_B = pd.read_sas('https://wwwn.cdc.gov/Nchs/Nhanes/2001-2002/MCQ_B.XPT', format='xport', encoding='utf-8')\n",
      "/var/folders/28/kcjp2s310sx44jpn8yqs8y9c929k6r/T/ipykernel_44510/650559518.py:3: PerformanceWarning: DataFrame is highly fragmented.  This is usually the result of calling `frame.insert` many times, which has poor performance.  Consider joining all columns at once using pd.concat(axis=1) instead. To get a de-fragmented frame, use `newframe = frame.copy()`\n",
      "  mc_B = pd.read_sas('https://wwwn.cdc.gov/Nchs/Nhanes/2001-2002/MCQ_B.XPT', format='xport', encoding='utf-8')\n",
      "/var/folders/28/kcjp2s310sx44jpn8yqs8y9c929k6r/T/ipykernel_44510/650559518.py:3: PerformanceWarning: DataFrame is highly fragmented.  This is usually the result of calling `frame.insert` many times, which has poor performance.  Consider joining all columns at once using pd.concat(axis=1) instead. To get a de-fragmented frame, use `newframe = frame.copy()`\n",
      "  mc_B = pd.read_sas('https://wwwn.cdc.gov/Nchs/Nhanes/2001-2002/MCQ_B.XPT', format='xport', encoding='utf-8')\n",
      "/var/folders/28/kcjp2s310sx44jpn8yqs8y9c929k6r/T/ipykernel_44510/650559518.py:3: PerformanceWarning: DataFrame is highly fragmented.  This is usually the result of calling `frame.insert` many times, which has poor performance.  Consider joining all columns at once using pd.concat(axis=1) instead. To get a de-fragmented frame, use `newframe = frame.copy()`\n",
      "  mc_B = pd.read_sas('https://wwwn.cdc.gov/Nchs/Nhanes/2001-2002/MCQ_B.XPT', format='xport', encoding='utf-8')\n",
      "/var/folders/28/kcjp2s310sx44jpn8yqs8y9c929k6r/T/ipykernel_44510/650559518.py:3: PerformanceWarning: DataFrame is highly fragmented.  This is usually the result of calling `frame.insert` many times, which has poor performance.  Consider joining all columns at once using pd.concat(axis=1) instead. To get a de-fragmented frame, use `newframe = frame.copy()`\n",
      "  mc_B = pd.read_sas('https://wwwn.cdc.gov/Nchs/Nhanes/2001-2002/MCQ_B.XPT', format='xport', encoding='utf-8')\n",
      "/var/folders/28/kcjp2s310sx44jpn8yqs8y9c929k6r/T/ipykernel_44510/650559518.py:3: PerformanceWarning: DataFrame is highly fragmented.  This is usually the result of calling `frame.insert` many times, which has poor performance.  Consider joining all columns at once using pd.concat(axis=1) instead. To get a de-fragmented frame, use `newframe = frame.copy()`\n",
      "  mc_B = pd.read_sas('https://wwwn.cdc.gov/Nchs/Nhanes/2001-2002/MCQ_B.XPT', format='xport', encoding='utf-8')\n",
      "/var/folders/28/kcjp2s310sx44jpn8yqs8y9c929k6r/T/ipykernel_44510/650559518.py:3: PerformanceWarning: DataFrame is highly fragmented.  This is usually the result of calling `frame.insert` many times, which has poor performance.  Consider joining all columns at once using pd.concat(axis=1) instead. To get a de-fragmented frame, use `newframe = frame.copy()`\n",
      "  mc_B = pd.read_sas('https://wwwn.cdc.gov/Nchs/Nhanes/2001-2002/MCQ_B.XPT', format='xport', encoding='utf-8')\n",
      "/var/folders/28/kcjp2s310sx44jpn8yqs8y9c929k6r/T/ipykernel_44510/650559518.py:3: PerformanceWarning: DataFrame is highly fragmented.  This is usually the result of calling `frame.insert` many times, which has poor performance.  Consider joining all columns at once using pd.concat(axis=1) instead. To get a de-fragmented frame, use `newframe = frame.copy()`\n",
      "  mc_B = pd.read_sas('https://wwwn.cdc.gov/Nchs/Nhanes/2001-2002/MCQ_B.XPT', format='xport', encoding='utf-8')\n",
      "/var/folders/28/kcjp2s310sx44jpn8yqs8y9c929k6r/T/ipykernel_44510/650559518.py:3: PerformanceWarning: DataFrame is highly fragmented.  This is usually the result of calling `frame.insert` many times, which has poor performance.  Consider joining all columns at once using pd.concat(axis=1) instead. To get a de-fragmented frame, use `newframe = frame.copy()`\n",
      "  mc_B = pd.read_sas('https://wwwn.cdc.gov/Nchs/Nhanes/2001-2002/MCQ_B.XPT', format='xport', encoding='utf-8')\n",
      "/var/folders/28/kcjp2s310sx44jpn8yqs8y9c929k6r/T/ipykernel_44510/650559518.py:3: PerformanceWarning: DataFrame is highly fragmented.  This is usually the result of calling `frame.insert` many times, which has poor performance.  Consider joining all columns at once using pd.concat(axis=1) instead. To get a de-fragmented frame, use `newframe = frame.copy()`\n",
      "  mc_B = pd.read_sas('https://wwwn.cdc.gov/Nchs/Nhanes/2001-2002/MCQ_B.XPT', format='xport', encoding='utf-8')\n",
      "/var/folders/28/kcjp2s310sx44jpn8yqs8y9c929k6r/T/ipykernel_44510/650559518.py:3: PerformanceWarning: DataFrame is highly fragmented.  This is usually the result of calling `frame.insert` many times, which has poor performance.  Consider joining all columns at once using pd.concat(axis=1) instead. To get a de-fragmented frame, use `newframe = frame.copy()`\n",
      "  mc_B = pd.read_sas('https://wwwn.cdc.gov/Nchs/Nhanes/2001-2002/MCQ_B.XPT', format='xport', encoding='utf-8')\n",
      "/var/folders/28/kcjp2s310sx44jpn8yqs8y9c929k6r/T/ipykernel_44510/650559518.py:3: PerformanceWarning: DataFrame is highly fragmented.  This is usually the result of calling `frame.insert` many times, which has poor performance.  Consider joining all columns at once using pd.concat(axis=1) instead. To get a de-fragmented frame, use `newframe = frame.copy()`\n",
      "  mc_B = pd.read_sas('https://wwwn.cdc.gov/Nchs/Nhanes/2001-2002/MCQ_B.XPT', format='xport', encoding='utf-8')\n",
      "/var/folders/28/kcjp2s310sx44jpn8yqs8y9c929k6r/T/ipykernel_44510/650559518.py:3: PerformanceWarning: DataFrame is highly fragmented.  This is usually the result of calling `frame.insert` many times, which has poor performance.  Consider joining all columns at once using pd.concat(axis=1) instead. To get a de-fragmented frame, use `newframe = frame.copy()`\n",
      "  mc_B = pd.read_sas('https://wwwn.cdc.gov/Nchs/Nhanes/2001-2002/MCQ_B.XPT', format='xport', encoding='utf-8')\n",
      "/var/folders/28/kcjp2s310sx44jpn8yqs8y9c929k6r/T/ipykernel_44510/650559518.py:3: PerformanceWarning: DataFrame is highly fragmented.  This is usually the result of calling `frame.insert` many times, which has poor performance.  Consider joining all columns at once using pd.concat(axis=1) instead. To get a de-fragmented frame, use `newframe = frame.copy()`\n",
      "  mc_B = pd.read_sas('https://wwwn.cdc.gov/Nchs/Nhanes/2001-2002/MCQ_B.XPT', format='xport', encoding='utf-8')\n",
      "/var/folders/28/kcjp2s310sx44jpn8yqs8y9c929k6r/T/ipykernel_44510/650559518.py:3: PerformanceWarning: DataFrame is highly fragmented.  This is usually the result of calling `frame.insert` many times, which has poor performance.  Consider joining all columns at once using pd.concat(axis=1) instead. To get a de-fragmented frame, use `newframe = frame.copy()`\n",
      "  mc_B = pd.read_sas('https://wwwn.cdc.gov/Nchs/Nhanes/2001-2002/MCQ_B.XPT', format='xport', encoding='utf-8')\n",
      "/var/folders/28/kcjp2s310sx44jpn8yqs8y9c929k6r/T/ipykernel_44510/650559518.py:3: PerformanceWarning: DataFrame is highly fragmented.  This is usually the result of calling `frame.insert` many times, which has poor performance.  Consider joining all columns at once using pd.concat(axis=1) instead. To get a de-fragmented frame, use `newframe = frame.copy()`\n",
      "  mc_B = pd.read_sas('https://wwwn.cdc.gov/Nchs/Nhanes/2001-2002/MCQ_B.XPT', format='xport', encoding='utf-8')\n",
      "/var/folders/28/kcjp2s310sx44jpn8yqs8y9c929k6r/T/ipykernel_44510/650559518.py:3: PerformanceWarning: DataFrame is highly fragmented.  This is usually the result of calling `frame.insert` many times, which has poor performance.  Consider joining all columns at once using pd.concat(axis=1) instead. To get a de-fragmented frame, use `newframe = frame.copy()`\n",
      "  mc_B = pd.read_sas('https://wwwn.cdc.gov/Nchs/Nhanes/2001-2002/MCQ_B.XPT', format='xport', encoding='utf-8')\n"
     ]
    },
    {
     "name": "stderr",
     "output_type": "stream",
     "text": [
      "/var/folders/28/kcjp2s310sx44jpn8yqs8y9c929k6r/T/ipykernel_44510/650559518.py:4: PerformanceWarning: DataFrame is highly fragmented.  This is usually the result of calling `frame.insert` many times, which has poor performance.  Consider joining all columns at once using pd.concat(axis=1) instead. To get a de-fragmented frame, use `newframe = frame.copy()`\n",
      "  mc_C = pd.read_sas('https://wwwn.cdc.gov/Nchs/Nhanes/2003-2004/MCQ_C.XPT', format='xport', encoding='utf-8')\n",
      "/var/folders/28/kcjp2s310sx44jpn8yqs8y9c929k6r/T/ipykernel_44510/650559518.py:4: PerformanceWarning: DataFrame is highly fragmented.  This is usually the result of calling `frame.insert` many times, which has poor performance.  Consider joining all columns at once using pd.concat(axis=1) instead. To get a de-fragmented frame, use `newframe = frame.copy()`\n",
      "  mc_C = pd.read_sas('https://wwwn.cdc.gov/Nchs/Nhanes/2003-2004/MCQ_C.XPT', format='xport', encoding='utf-8')\n",
      "/var/folders/28/kcjp2s310sx44jpn8yqs8y9c929k6r/T/ipykernel_44510/650559518.py:4: PerformanceWarning: DataFrame is highly fragmented.  This is usually the result of calling `frame.insert` many times, which has poor performance.  Consider joining all columns at once using pd.concat(axis=1) instead. To get a de-fragmented frame, use `newframe = frame.copy()`\n",
      "  mc_C = pd.read_sas('https://wwwn.cdc.gov/Nchs/Nhanes/2003-2004/MCQ_C.XPT', format='xport', encoding='utf-8')\n",
      "/var/folders/28/kcjp2s310sx44jpn8yqs8y9c929k6r/T/ipykernel_44510/650559518.py:4: PerformanceWarning: DataFrame is highly fragmented.  This is usually the result of calling `frame.insert` many times, which has poor performance.  Consider joining all columns at once using pd.concat(axis=1) instead. To get a de-fragmented frame, use `newframe = frame.copy()`\n",
      "  mc_C = pd.read_sas('https://wwwn.cdc.gov/Nchs/Nhanes/2003-2004/MCQ_C.XPT', format='xport', encoding='utf-8')\n",
      "/var/folders/28/kcjp2s310sx44jpn8yqs8y9c929k6r/T/ipykernel_44510/650559518.py:4: PerformanceWarning: DataFrame is highly fragmented.  This is usually the result of calling `frame.insert` many times, which has poor performance.  Consider joining all columns at once using pd.concat(axis=1) instead. To get a de-fragmented frame, use `newframe = frame.copy()`\n",
      "  mc_C = pd.read_sas('https://wwwn.cdc.gov/Nchs/Nhanes/2003-2004/MCQ_C.XPT', format='xport', encoding='utf-8')\n",
      "/var/folders/28/kcjp2s310sx44jpn8yqs8y9c929k6r/T/ipykernel_44510/650559518.py:4: PerformanceWarning: DataFrame is highly fragmented.  This is usually the result of calling `frame.insert` many times, which has poor performance.  Consider joining all columns at once using pd.concat(axis=1) instead. To get a de-fragmented frame, use `newframe = frame.copy()`\n",
      "  mc_C = pd.read_sas('https://wwwn.cdc.gov/Nchs/Nhanes/2003-2004/MCQ_C.XPT', format='xport', encoding='utf-8')\n",
      "/var/folders/28/kcjp2s310sx44jpn8yqs8y9c929k6r/T/ipykernel_44510/650559518.py:4: PerformanceWarning: DataFrame is highly fragmented.  This is usually the result of calling `frame.insert` many times, which has poor performance.  Consider joining all columns at once using pd.concat(axis=1) instead. To get a de-fragmented frame, use `newframe = frame.copy()`\n",
      "  mc_C = pd.read_sas('https://wwwn.cdc.gov/Nchs/Nhanes/2003-2004/MCQ_C.XPT', format='xport', encoding='utf-8')\n",
      "/var/folders/28/kcjp2s310sx44jpn8yqs8y9c929k6r/T/ipykernel_44510/650559518.py:4: PerformanceWarning: DataFrame is highly fragmented.  This is usually the result of calling `frame.insert` many times, which has poor performance.  Consider joining all columns at once using pd.concat(axis=1) instead. To get a de-fragmented frame, use `newframe = frame.copy()`\n",
      "  mc_C = pd.read_sas('https://wwwn.cdc.gov/Nchs/Nhanes/2003-2004/MCQ_C.XPT', format='xport', encoding='utf-8')\n",
      "/var/folders/28/kcjp2s310sx44jpn8yqs8y9c929k6r/T/ipykernel_44510/650559518.py:4: PerformanceWarning: DataFrame is highly fragmented.  This is usually the result of calling `frame.insert` many times, which has poor performance.  Consider joining all columns at once using pd.concat(axis=1) instead. To get a de-fragmented frame, use `newframe = frame.copy()`\n",
      "  mc_C = pd.read_sas('https://wwwn.cdc.gov/Nchs/Nhanes/2003-2004/MCQ_C.XPT', format='xport', encoding='utf-8')\n",
      "/var/folders/28/kcjp2s310sx44jpn8yqs8y9c929k6r/T/ipykernel_44510/650559518.py:4: PerformanceWarning: DataFrame is highly fragmented.  This is usually the result of calling `frame.insert` many times, which has poor performance.  Consider joining all columns at once using pd.concat(axis=1) instead. To get a de-fragmented frame, use `newframe = frame.copy()`\n",
      "  mc_C = pd.read_sas('https://wwwn.cdc.gov/Nchs/Nhanes/2003-2004/MCQ_C.XPT', format='xport', encoding='utf-8')\n",
      "/var/folders/28/kcjp2s310sx44jpn8yqs8y9c929k6r/T/ipykernel_44510/650559518.py:4: PerformanceWarning: DataFrame is highly fragmented.  This is usually the result of calling `frame.insert` many times, which has poor performance.  Consider joining all columns at once using pd.concat(axis=1) instead. To get a de-fragmented frame, use `newframe = frame.copy()`\n",
      "  mc_C = pd.read_sas('https://wwwn.cdc.gov/Nchs/Nhanes/2003-2004/MCQ_C.XPT', format='xport', encoding='utf-8')\n",
      "/var/folders/28/kcjp2s310sx44jpn8yqs8y9c929k6r/T/ipykernel_44510/650559518.py:4: PerformanceWarning: DataFrame is highly fragmented.  This is usually the result of calling `frame.insert` many times, which has poor performance.  Consider joining all columns at once using pd.concat(axis=1) instead. To get a de-fragmented frame, use `newframe = frame.copy()`\n",
      "  mc_C = pd.read_sas('https://wwwn.cdc.gov/Nchs/Nhanes/2003-2004/MCQ_C.XPT', format='xport', encoding='utf-8')\n",
      "/var/folders/28/kcjp2s310sx44jpn8yqs8y9c929k6r/T/ipykernel_44510/650559518.py:4: PerformanceWarning: DataFrame is highly fragmented.  This is usually the result of calling `frame.insert` many times, which has poor performance.  Consider joining all columns at once using pd.concat(axis=1) instead. To get a de-fragmented frame, use `newframe = frame.copy()`\n",
      "  mc_C = pd.read_sas('https://wwwn.cdc.gov/Nchs/Nhanes/2003-2004/MCQ_C.XPT', format='xport', encoding='utf-8')\n",
      "/var/folders/28/kcjp2s310sx44jpn8yqs8y9c929k6r/T/ipykernel_44510/650559518.py:4: PerformanceWarning: DataFrame is highly fragmented.  This is usually the result of calling `frame.insert` many times, which has poor performance.  Consider joining all columns at once using pd.concat(axis=1) instead. To get a de-fragmented frame, use `newframe = frame.copy()`\n",
      "  mc_C = pd.read_sas('https://wwwn.cdc.gov/Nchs/Nhanes/2003-2004/MCQ_C.XPT', format='xport', encoding='utf-8')\n",
      "/var/folders/28/kcjp2s310sx44jpn8yqs8y9c929k6r/T/ipykernel_44510/650559518.py:4: PerformanceWarning: DataFrame is highly fragmented.  This is usually the result of calling `frame.insert` many times, which has poor performance.  Consider joining all columns at once using pd.concat(axis=1) instead. To get a de-fragmented frame, use `newframe = frame.copy()`\n",
      "  mc_C = pd.read_sas('https://wwwn.cdc.gov/Nchs/Nhanes/2003-2004/MCQ_C.XPT', format='xport', encoding='utf-8')\n",
      "/var/folders/28/kcjp2s310sx44jpn8yqs8y9c929k6r/T/ipykernel_44510/650559518.py:4: PerformanceWarning: DataFrame is highly fragmented.  This is usually the result of calling `frame.insert` many times, which has poor performance.  Consider joining all columns at once using pd.concat(axis=1) instead. To get a de-fragmented frame, use `newframe = frame.copy()`\n",
      "  mc_C = pd.read_sas('https://wwwn.cdc.gov/Nchs/Nhanes/2003-2004/MCQ_C.XPT', format='xport', encoding='utf-8')\n",
      "/var/folders/28/kcjp2s310sx44jpn8yqs8y9c929k6r/T/ipykernel_44510/650559518.py:4: PerformanceWarning: DataFrame is highly fragmented.  This is usually the result of calling `frame.insert` many times, which has poor performance.  Consider joining all columns at once using pd.concat(axis=1) instead. To get a de-fragmented frame, use `newframe = frame.copy()`\n",
      "  mc_C = pd.read_sas('https://wwwn.cdc.gov/Nchs/Nhanes/2003-2004/MCQ_C.XPT', format='xport', encoding='utf-8')\n",
      "/var/folders/28/kcjp2s310sx44jpn8yqs8y9c929k6r/T/ipykernel_44510/650559518.py:4: PerformanceWarning: DataFrame is highly fragmented.  This is usually the result of calling `frame.insert` many times, which has poor performance.  Consider joining all columns at once using pd.concat(axis=1) instead. To get a de-fragmented frame, use `newframe = frame.copy()`\n",
      "  mc_C = pd.read_sas('https://wwwn.cdc.gov/Nchs/Nhanes/2003-2004/MCQ_C.XPT', format='xport', encoding='utf-8')\n",
      "/var/folders/28/kcjp2s310sx44jpn8yqs8y9c929k6r/T/ipykernel_44510/650559518.py:4: PerformanceWarning: DataFrame is highly fragmented.  This is usually the result of calling `frame.insert` many times, which has poor performance.  Consider joining all columns at once using pd.concat(axis=1) instead. To get a de-fragmented frame, use `newframe = frame.copy()`\n",
      "  mc_C = pd.read_sas('https://wwwn.cdc.gov/Nchs/Nhanes/2003-2004/MCQ_C.XPT', format='xport', encoding='utf-8')\n",
      "/var/folders/28/kcjp2s310sx44jpn8yqs8y9c929k6r/T/ipykernel_44510/650559518.py:4: PerformanceWarning: DataFrame is highly fragmented.  This is usually the result of calling `frame.insert` many times, which has poor performance.  Consider joining all columns at once using pd.concat(axis=1) instead. To get a de-fragmented frame, use `newframe = frame.copy()`\n",
      "  mc_C = pd.read_sas('https://wwwn.cdc.gov/Nchs/Nhanes/2003-2004/MCQ_C.XPT', format='xport', encoding='utf-8')\n",
      "/var/folders/28/kcjp2s310sx44jpn8yqs8y9c929k6r/T/ipykernel_44510/650559518.py:4: PerformanceWarning: DataFrame is highly fragmented.  This is usually the result of calling `frame.insert` many times, which has poor performance.  Consider joining all columns at once using pd.concat(axis=1) instead. To get a de-fragmented frame, use `newframe = frame.copy()`\n",
      "  mc_C = pd.read_sas('https://wwwn.cdc.gov/Nchs/Nhanes/2003-2004/MCQ_C.XPT', format='xport', encoding='utf-8')\n",
      "/var/folders/28/kcjp2s310sx44jpn8yqs8y9c929k6r/T/ipykernel_44510/650559518.py:4: PerformanceWarning: DataFrame is highly fragmented.  This is usually the result of calling `frame.insert` many times, which has poor performance.  Consider joining all columns at once using pd.concat(axis=1) instead. To get a de-fragmented frame, use `newframe = frame.copy()`\n",
      "  mc_C = pd.read_sas('https://wwwn.cdc.gov/Nchs/Nhanes/2003-2004/MCQ_C.XPT', format='xport', encoding='utf-8')\n",
      "/var/folders/28/kcjp2s310sx44jpn8yqs8y9c929k6r/T/ipykernel_44510/650559518.py:4: PerformanceWarning: DataFrame is highly fragmented.  This is usually the result of calling `frame.insert` many times, which has poor performance.  Consider joining all columns at once using pd.concat(axis=1) instead. To get a de-fragmented frame, use `newframe = frame.copy()`\n",
      "  mc_C = pd.read_sas('https://wwwn.cdc.gov/Nchs/Nhanes/2003-2004/MCQ_C.XPT', format='xport', encoding='utf-8')\n",
      "/var/folders/28/kcjp2s310sx44jpn8yqs8y9c929k6r/T/ipykernel_44510/650559518.py:4: PerformanceWarning: DataFrame is highly fragmented.  This is usually the result of calling `frame.insert` many times, which has poor performance.  Consider joining all columns at once using pd.concat(axis=1) instead. To get a de-fragmented frame, use `newframe = frame.copy()`\n",
      "  mc_C = pd.read_sas('https://wwwn.cdc.gov/Nchs/Nhanes/2003-2004/MCQ_C.XPT', format='xport', encoding='utf-8')\n",
      "/var/folders/28/kcjp2s310sx44jpn8yqs8y9c929k6r/T/ipykernel_44510/650559518.py:4: PerformanceWarning: DataFrame is highly fragmented.  This is usually the result of calling `frame.insert` many times, which has poor performance.  Consider joining all columns at once using pd.concat(axis=1) instead. To get a de-fragmented frame, use `newframe = frame.copy()`\n",
      "  mc_C = pd.read_sas('https://wwwn.cdc.gov/Nchs/Nhanes/2003-2004/MCQ_C.XPT', format='xport', encoding='utf-8')\n",
      "/var/folders/28/kcjp2s310sx44jpn8yqs8y9c929k6r/T/ipykernel_44510/650559518.py:4: PerformanceWarning: DataFrame is highly fragmented.  This is usually the result of calling `frame.insert` many times, which has poor performance.  Consider joining all columns at once using pd.concat(axis=1) instead. To get a de-fragmented frame, use `newframe = frame.copy()`\n",
      "  mc_C = pd.read_sas('https://wwwn.cdc.gov/Nchs/Nhanes/2003-2004/MCQ_C.XPT', format='xport', encoding='utf-8')\n",
      "/var/folders/28/kcjp2s310sx44jpn8yqs8y9c929k6r/T/ipykernel_44510/650559518.py:4: PerformanceWarning: DataFrame is highly fragmented.  This is usually the result of calling `frame.insert` many times, which has poor performance.  Consider joining all columns at once using pd.concat(axis=1) instead. To get a de-fragmented frame, use `newframe = frame.copy()`\n",
      "  mc_C = pd.read_sas('https://wwwn.cdc.gov/Nchs/Nhanes/2003-2004/MCQ_C.XPT', format='xport', encoding='utf-8')\n",
      "/var/folders/28/kcjp2s310sx44jpn8yqs8y9c929k6r/T/ipykernel_44510/650559518.py:4: PerformanceWarning: DataFrame is highly fragmented.  This is usually the result of calling `frame.insert` many times, which has poor performance.  Consider joining all columns at once using pd.concat(axis=1) instead. To get a de-fragmented frame, use `newframe = frame.copy()`\n",
      "  mc_C = pd.read_sas('https://wwwn.cdc.gov/Nchs/Nhanes/2003-2004/MCQ_C.XPT', format='xport', encoding='utf-8')\n",
      "/var/folders/28/kcjp2s310sx44jpn8yqs8y9c929k6r/T/ipykernel_44510/650559518.py:4: PerformanceWarning: DataFrame is highly fragmented.  This is usually the result of calling `frame.insert` many times, which has poor performance.  Consider joining all columns at once using pd.concat(axis=1) instead. To get a de-fragmented frame, use `newframe = frame.copy()`\n",
      "  mc_C = pd.read_sas('https://wwwn.cdc.gov/Nchs/Nhanes/2003-2004/MCQ_C.XPT', format='xport', encoding='utf-8')\n",
      "/var/folders/28/kcjp2s310sx44jpn8yqs8y9c929k6r/T/ipykernel_44510/650559518.py:4: PerformanceWarning: DataFrame is highly fragmented.  This is usually the result of calling `frame.insert` many times, which has poor performance.  Consider joining all columns at once using pd.concat(axis=1) instead. To get a de-fragmented frame, use `newframe = frame.copy()`\n",
      "  mc_C = pd.read_sas('https://wwwn.cdc.gov/Nchs/Nhanes/2003-2004/MCQ_C.XPT', format='xport', encoding='utf-8')\n",
      "/var/folders/28/kcjp2s310sx44jpn8yqs8y9c929k6r/T/ipykernel_44510/650559518.py:4: PerformanceWarning: DataFrame is highly fragmented.  This is usually the result of calling `frame.insert` many times, which has poor performance.  Consider joining all columns at once using pd.concat(axis=1) instead. To get a de-fragmented frame, use `newframe = frame.copy()`\n",
      "  mc_C = pd.read_sas('https://wwwn.cdc.gov/Nchs/Nhanes/2003-2004/MCQ_C.XPT', format='xport', encoding='utf-8')\n",
      "/var/folders/28/kcjp2s310sx44jpn8yqs8y9c929k6r/T/ipykernel_44510/650559518.py:4: PerformanceWarning: DataFrame is highly fragmented.  This is usually the result of calling `frame.insert` many times, which has poor performance.  Consider joining all columns at once using pd.concat(axis=1) instead. To get a de-fragmented frame, use `newframe = frame.copy()`\n",
      "  mc_C = pd.read_sas('https://wwwn.cdc.gov/Nchs/Nhanes/2003-2004/MCQ_C.XPT', format='xport', encoding='utf-8')\n",
      "/var/folders/28/kcjp2s310sx44jpn8yqs8y9c929k6r/T/ipykernel_44510/650559518.py:4: PerformanceWarning: DataFrame is highly fragmented.  This is usually the result of calling `frame.insert` many times, which has poor performance.  Consider joining all columns at once using pd.concat(axis=1) instead. To get a de-fragmented frame, use `newframe = frame.copy()`\n",
      "  mc_C = pd.read_sas('https://wwwn.cdc.gov/Nchs/Nhanes/2003-2004/MCQ_C.XPT', format='xport', encoding='utf-8')\n",
      "/var/folders/28/kcjp2s310sx44jpn8yqs8y9c929k6r/T/ipykernel_44510/650559518.py:4: PerformanceWarning: DataFrame is highly fragmented.  This is usually the result of calling `frame.insert` many times, which has poor performance.  Consider joining all columns at once using pd.concat(axis=1) instead. To get a de-fragmented frame, use `newframe = frame.copy()`\n",
      "  mc_C = pd.read_sas('https://wwwn.cdc.gov/Nchs/Nhanes/2003-2004/MCQ_C.XPT', format='xport', encoding='utf-8')\n",
      "/var/folders/28/kcjp2s310sx44jpn8yqs8y9c929k6r/T/ipykernel_44510/650559518.py:4: PerformanceWarning: DataFrame is highly fragmented.  This is usually the result of calling `frame.insert` many times, which has poor performance.  Consider joining all columns at once using pd.concat(axis=1) instead. To get a de-fragmented frame, use `newframe = frame.copy()`\n",
      "  mc_C = pd.read_sas('https://wwwn.cdc.gov/Nchs/Nhanes/2003-2004/MCQ_C.XPT', format='xport', encoding='utf-8')\n",
      "/var/folders/28/kcjp2s310sx44jpn8yqs8y9c929k6r/T/ipykernel_44510/650559518.py:4: PerformanceWarning: DataFrame is highly fragmented.  This is usually the result of calling `frame.insert` many times, which has poor performance.  Consider joining all columns at once using pd.concat(axis=1) instead. To get a de-fragmented frame, use `newframe = frame.copy()`\n",
      "  mc_C = pd.read_sas('https://wwwn.cdc.gov/Nchs/Nhanes/2003-2004/MCQ_C.XPT', format='xport', encoding='utf-8')\n",
      "/var/folders/28/kcjp2s310sx44jpn8yqs8y9c929k6r/T/ipykernel_44510/650559518.py:4: PerformanceWarning: DataFrame is highly fragmented.  This is usually the result of calling `frame.insert` many times, which has poor performance.  Consider joining all columns at once using pd.concat(axis=1) instead. To get a de-fragmented frame, use `newframe = frame.copy()`\n",
      "  mc_C = pd.read_sas('https://wwwn.cdc.gov/Nchs/Nhanes/2003-2004/MCQ_C.XPT', format='xport', encoding='utf-8')\n",
      "/var/folders/28/kcjp2s310sx44jpn8yqs8y9c929k6r/T/ipykernel_44510/650559518.py:4: PerformanceWarning: DataFrame is highly fragmented.  This is usually the result of calling `frame.insert` many times, which has poor performance.  Consider joining all columns at once using pd.concat(axis=1) instead. To get a de-fragmented frame, use `newframe = frame.copy()`\n",
      "  mc_C = pd.read_sas('https://wwwn.cdc.gov/Nchs/Nhanes/2003-2004/MCQ_C.XPT', format='xport', encoding='utf-8')\n",
      "/var/folders/28/kcjp2s310sx44jpn8yqs8y9c929k6r/T/ipykernel_44510/650559518.py:4: PerformanceWarning: DataFrame is highly fragmented.  This is usually the result of calling `frame.insert` many times, which has poor performance.  Consider joining all columns at once using pd.concat(axis=1) instead. To get a de-fragmented frame, use `newframe = frame.copy()`\n",
      "  mc_C = pd.read_sas('https://wwwn.cdc.gov/Nchs/Nhanes/2003-2004/MCQ_C.XPT', format='xport', encoding='utf-8')\n",
      "/var/folders/28/kcjp2s310sx44jpn8yqs8y9c929k6r/T/ipykernel_44510/650559518.py:4: PerformanceWarning: DataFrame is highly fragmented.  This is usually the result of calling `frame.insert` many times, which has poor performance.  Consider joining all columns at once using pd.concat(axis=1) instead. To get a de-fragmented frame, use `newframe = frame.copy()`\n",
      "  mc_C = pd.read_sas('https://wwwn.cdc.gov/Nchs/Nhanes/2003-2004/MCQ_C.XPT', format='xport', encoding='utf-8')\n",
      "/var/folders/28/kcjp2s310sx44jpn8yqs8y9c929k6r/T/ipykernel_44510/650559518.py:4: PerformanceWarning: DataFrame is highly fragmented.  This is usually the result of calling `frame.insert` many times, which has poor performance.  Consider joining all columns at once using pd.concat(axis=1) instead. To get a de-fragmented frame, use `newframe = frame.copy()`\n",
      "  mc_C = pd.read_sas('https://wwwn.cdc.gov/Nchs/Nhanes/2003-2004/MCQ_C.XPT', format='xport', encoding='utf-8')\n",
      "/var/folders/28/kcjp2s310sx44jpn8yqs8y9c929k6r/T/ipykernel_44510/650559518.py:4: PerformanceWarning: DataFrame is highly fragmented.  This is usually the result of calling `frame.insert` many times, which has poor performance.  Consider joining all columns at once using pd.concat(axis=1) instead. To get a de-fragmented frame, use `newframe = frame.copy()`\n",
      "  mc_C = pd.read_sas('https://wwwn.cdc.gov/Nchs/Nhanes/2003-2004/MCQ_C.XPT', format='xport', encoding='utf-8')\n",
      "/var/folders/28/kcjp2s310sx44jpn8yqs8y9c929k6r/T/ipykernel_44510/650559518.py:4: PerformanceWarning: DataFrame is highly fragmented.  This is usually the result of calling `frame.insert` many times, which has poor performance.  Consider joining all columns at once using pd.concat(axis=1) instead. To get a de-fragmented frame, use `newframe = frame.copy()`\n",
      "  mc_C = pd.read_sas('https://wwwn.cdc.gov/Nchs/Nhanes/2003-2004/MCQ_C.XPT', format='xport', encoding='utf-8')\n",
      "/var/folders/28/kcjp2s310sx44jpn8yqs8y9c929k6r/T/ipykernel_44510/650559518.py:4: PerformanceWarning: DataFrame is highly fragmented.  This is usually the result of calling `frame.insert` many times, which has poor performance.  Consider joining all columns at once using pd.concat(axis=1) instead. To get a de-fragmented frame, use `newframe = frame.copy()`\n",
      "  mc_C = pd.read_sas('https://wwwn.cdc.gov/Nchs/Nhanes/2003-2004/MCQ_C.XPT', format='xport', encoding='utf-8')\n",
      "/var/folders/28/kcjp2s310sx44jpn8yqs8y9c929k6r/T/ipykernel_44510/650559518.py:4: PerformanceWarning: DataFrame is highly fragmented.  This is usually the result of calling `frame.insert` many times, which has poor performance.  Consider joining all columns at once using pd.concat(axis=1) instead. To get a de-fragmented frame, use `newframe = frame.copy()`\n",
      "  mc_C = pd.read_sas('https://wwwn.cdc.gov/Nchs/Nhanes/2003-2004/MCQ_C.XPT', format='xport', encoding='utf-8')\n",
      "/var/folders/28/kcjp2s310sx44jpn8yqs8y9c929k6r/T/ipykernel_44510/650559518.py:4: PerformanceWarning: DataFrame is highly fragmented.  This is usually the result of calling `frame.insert` many times, which has poor performance.  Consider joining all columns at once using pd.concat(axis=1) instead. To get a de-fragmented frame, use `newframe = frame.copy()`\n",
      "  mc_C = pd.read_sas('https://wwwn.cdc.gov/Nchs/Nhanes/2003-2004/MCQ_C.XPT', format='xport', encoding='utf-8')\n",
      "/var/folders/28/kcjp2s310sx44jpn8yqs8y9c929k6r/T/ipykernel_44510/650559518.py:4: PerformanceWarning: DataFrame is highly fragmented.  This is usually the result of calling `frame.insert` many times, which has poor performance.  Consider joining all columns at once using pd.concat(axis=1) instead. To get a de-fragmented frame, use `newframe = frame.copy()`\n",
      "  mc_C = pd.read_sas('https://wwwn.cdc.gov/Nchs/Nhanes/2003-2004/MCQ_C.XPT', format='xport', encoding='utf-8')\n",
      "/var/folders/28/kcjp2s310sx44jpn8yqs8y9c929k6r/T/ipykernel_44510/650559518.py:4: PerformanceWarning: DataFrame is highly fragmented.  This is usually the result of calling `frame.insert` many times, which has poor performance.  Consider joining all columns at once using pd.concat(axis=1) instead. To get a de-fragmented frame, use `newframe = frame.copy()`\n",
      "  mc_C = pd.read_sas('https://wwwn.cdc.gov/Nchs/Nhanes/2003-2004/MCQ_C.XPT', format='xport', encoding='utf-8')\n",
      "/var/folders/28/kcjp2s310sx44jpn8yqs8y9c929k6r/T/ipykernel_44510/650559518.py:4: PerformanceWarning: DataFrame is highly fragmented.  This is usually the result of calling `frame.insert` many times, which has poor performance.  Consider joining all columns at once using pd.concat(axis=1) instead. To get a de-fragmented frame, use `newframe = frame.copy()`\n",
      "  mc_C = pd.read_sas('https://wwwn.cdc.gov/Nchs/Nhanes/2003-2004/MCQ_C.XPT', format='xport', encoding='utf-8')\n",
      "/var/folders/28/kcjp2s310sx44jpn8yqs8y9c929k6r/T/ipykernel_44510/650559518.py:4: PerformanceWarning: DataFrame is highly fragmented.  This is usually the result of calling `frame.insert` many times, which has poor performance.  Consider joining all columns at once using pd.concat(axis=1) instead. To get a de-fragmented frame, use `newframe = frame.copy()`\n",
      "  mc_C = pd.read_sas('https://wwwn.cdc.gov/Nchs/Nhanes/2003-2004/MCQ_C.XPT', format='xport', encoding='utf-8')\n",
      "/var/folders/28/kcjp2s310sx44jpn8yqs8y9c929k6r/T/ipykernel_44510/650559518.py:4: PerformanceWarning: DataFrame is highly fragmented.  This is usually the result of calling `frame.insert` many times, which has poor performance.  Consider joining all columns at once using pd.concat(axis=1) instead. To get a de-fragmented frame, use `newframe = frame.copy()`\n",
      "  mc_C = pd.read_sas('https://wwwn.cdc.gov/Nchs/Nhanes/2003-2004/MCQ_C.XPT', format='xport', encoding='utf-8')\n",
      "/var/folders/28/kcjp2s310sx44jpn8yqs8y9c929k6r/T/ipykernel_44510/650559518.py:4: PerformanceWarning: DataFrame is highly fragmented.  This is usually the result of calling `frame.insert` many times, which has poor performance.  Consider joining all columns at once using pd.concat(axis=1) instead. To get a de-fragmented frame, use `newframe = frame.copy()`\n",
      "  mc_C = pd.read_sas('https://wwwn.cdc.gov/Nchs/Nhanes/2003-2004/MCQ_C.XPT', format='xport', encoding='utf-8')\n",
      "/var/folders/28/kcjp2s310sx44jpn8yqs8y9c929k6r/T/ipykernel_44510/650559518.py:4: PerformanceWarning: DataFrame is highly fragmented.  This is usually the result of calling `frame.insert` many times, which has poor performance.  Consider joining all columns at once using pd.concat(axis=1) instead. To get a de-fragmented frame, use `newframe = frame.copy()`\n",
      "  mc_C = pd.read_sas('https://wwwn.cdc.gov/Nchs/Nhanes/2003-2004/MCQ_C.XPT', format='xport', encoding='utf-8')\n",
      "/var/folders/28/kcjp2s310sx44jpn8yqs8y9c929k6r/T/ipykernel_44510/650559518.py:4: PerformanceWarning: DataFrame is highly fragmented.  This is usually the result of calling `frame.insert` many times, which has poor performance.  Consider joining all columns at once using pd.concat(axis=1) instead. To get a de-fragmented frame, use `newframe = frame.copy()`\n",
      "  mc_C = pd.read_sas('https://wwwn.cdc.gov/Nchs/Nhanes/2003-2004/MCQ_C.XPT', format='xport', encoding='utf-8')\n"
     ]
    }
   ],
   "source": [
    "#Questionnaire data - CVD / Cancer\n",
    "\n",
    "mc_B = pd.read_sas('https://wwwn.cdc.gov/Nchs/Nhanes/2001-2002/MCQ_B.XPT', format='xport', encoding='utf-8')\n",
    "mc_C = pd.read_sas('https://wwwn.cdc.gov/Nchs/Nhanes/2003-2004/MCQ_C.XPT', format='xport', encoding='utf-8')\n",
    "mc_D = pd.read_sas('https://wwwn.cdc.gov/Nchs/Nhanes/2005-2006/MCQ_D.XPT', format='xport', encoding='utf-8')\n",
    "mc_E = pd.read_sas('https://wwwn.cdc.gov/Nchs/Nhanes/2007-2008/MCQ_E.XPT', format='xport', encoding='utf-8')\n",
    "mc_F = pd.read_sas('https://wwwn.cdc.gov/Nchs/Nhanes/2009-2010/MCQ_F.XPT', format='xport', encoding='utf-8')\n",
    "mc_G = pd.read_sas('https://wwwn.cdc.gov/Nchs/Nhanes/2011-2012/MCQ_G.XPT', format='xport', encoding='utf-8')\n",
    "mc_H = pd.read_sas('https://wwwn.cdc.gov/Nchs/Nhanes/2013-2014/MCQ_H.XPT', format='xport', encoding='utf-8')\n",
    "mc_I = pd.read_sas('https://wwwn.cdc.gov/Nchs/Nhanes/2015-2016/MCQ_I.XPT', format='xport', encoding='utf-8')\n",
    "mc_J = pd.read_sas('https://wwwn.cdc.gov/Nchs/Nhanes/2017-2018/MCQ_J.XPT', format='xport', encoding='utf-8')"
   ]
  },
  {
   "cell_type": "code",
   "execution_count": 99,
   "id": "0824456a",
   "metadata": {},
   "outputs": [],
   "source": [
    "mc_B = mc_B[['SEQN', 'MCQ180C', 'MCQ220']]\n",
    "mc_C = mc_C[['SEQN', 'MCQ180C', 'MCQ220']]\n",
    "mc_D = mc_D[['SEQN', 'MCQ180C', 'MCQ220']]\n",
    "mc_E = mc_E[['SEQN', 'MCQ180C', 'MCQ220']]\n",
    "mc_F = mc_F[['SEQN', 'MCQ180C', 'MCQ220']]\n",
    "mc_G = mc_G[['SEQN', 'MCQ180C', 'MCQ220']]\n",
    "mc_H = mc_H[['SEQN', 'MCQ180C', 'MCQ220']]\n",
    "mc_I = mc_I[['SEQN', 'MCQ180C', 'MCQ220']]\n",
    "mc_J = mc_J[['SEQN', 'MCQ160C', 'MCQ220']]\n",
    "mc_J.rename(columns={'MCQ160C':'MCQ180C'}, inplace=True)\n",
    "\n",
    "mc = pd.concat([mc_B, mc_C, mc_D, mc_E, mc_F, mc_G, mc_H, mc_I, mc_J])"
   ]
  },
  {
   "cell_type": "code",
   "execution_count": 100,
   "id": "614b898e",
   "metadata": {},
   "outputs": [],
   "source": [
    "adults = adults.merge(mc, on='SEQN', how='left')"
   ]
  },
  {
   "cell_type": "code",
   "execution_count": 101,
   "id": "7433315f",
   "metadata": {
    "scrolled": true
   },
   "outputs": [],
   "source": [
    "adults['MCQ180C'] = np.where(adults['MCQ180C'] < 85, 'yes', 'no')\n",
    "adults['MCQ220'] = np.where(adults['MCQ220'] == 1, 'yes', 'no')"
   ]
  },
  {
   "cell_type": "code",
   "execution_count": 102,
   "id": "444a36b1",
   "metadata": {},
   "outputs": [],
   "source": [
    "adults = adults[adults['MCQ180C'] != 'yes']\n",
    "adults = adults[adults['MCQ220'] != 'yes']"
   ]
  },
  {
   "cell_type": "markdown",
   "id": "880d0b4c",
   "metadata": {},
   "source": [
    "### C-reactive protein"
   ]
  },
  {
   "cell_type": "code",
   "execution_count": 103,
   "id": "3797f49e",
   "metadata": {},
   "outputs": [],
   "source": [
    "#Lab data - CRP (No CRP data collected from 2011-2014)\n",
    "\n",
    "crp_B = pd.read_sas('https://wwwn.cdc.gov/Nchs/Nhanes/2001-2002/L11_B.XPT', format='xport', encoding='utf-8')\n",
    "crp_C = pd.read_sas('https://wwwn.cdc.gov/Nchs/Nhanes/2003-2004/L11_C.XPT', format='xport', encoding='utf-8')\n",
    "crp_D = pd.read_sas('https://wwwn.cdc.gov/Nchs/Nhanes/2005-2006/CRP_D.XPT', format='xport', encoding='utf-8')\n",
    "crp_E = pd.read_sas('https://wwwn.cdc.gov/Nchs/Nhanes/2007-2008/CRP_E.XPT', format='xport', encoding='utf-8')\n",
    "crp_F = pd.read_sas('https://wwwn.cdc.gov/Nchs/Nhanes/2009-2010/CRP_F.XPT', format='xport', encoding='utf-8')\n",
    "crp_I = pd.read_sas('https://wwwn.cdc.gov/Nchs/Nhanes/2015-2016/HSCRP_I.XPT', format='xport', encoding='utf-8')\n",
    "crp_J = pd.read_sas('https://wwwn.cdc.gov/Nchs/Nhanes/2017-2018/HSCRP_J.XPT', format='xport', encoding='utf-8')"
   ]
  },
  {
   "cell_type": "code",
   "execution_count": 104,
   "id": "4e61d79c",
   "metadata": {},
   "outputs": [],
   "source": [
    "crp_I.rename(columns={'LBXHSCRP':'LBXCRP'}, inplace=True)\n",
    "crp_J.rename(columns={'LBXHSCRP':'LBXCRP'}, inplace=True)\n",
    "\n",
    "crp_B = crp_B[['SEQN', 'LBXCRP']]\n",
    "crp_C = crp_C[['SEQN', 'LBXCRP']]\n",
    "crp_D = crp_D[['SEQN', 'LBXCRP']]\n",
    "crp_E = crp_E[['SEQN', 'LBXCRP']]\n",
    "crp_F = crp_F[['SEQN', 'LBXCRP']]\n",
    "crp_I = crp_I[['SEQN', 'LBXCRP']]\n",
    "crp_J = crp_J[['SEQN', 'LBXCRP']]"
   ]
  },
  {
   "cell_type": "code",
   "execution_count": 105,
   "id": "777f0a13",
   "metadata": {},
   "outputs": [],
   "source": [
    "crp_convert = pd.concat([crp_I, crp_J])\n",
    "crp_convert['LBXCRP'] = crp_convert['LBXCRP'] / 10 # convert from mg/L to mg/dL\n",
    "\n",
    "crp = pd.concat([crp_convert, crp_B, crp_C, crp_D, crp_E, crp_F])"
   ]
  },
  {
   "cell_type": "code",
   "execution_count": 106,
   "id": "5c852337",
   "metadata": {},
   "outputs": [],
   "source": [
    "adults = adults.merge(crp, on='SEQN', how='left')"
   ]
  },
  {
   "cell_type": "code",
   "execution_count": 107,
   "id": "6b1ce9ac",
   "metadata": {},
   "outputs": [
    {
     "data": {
      "text/plain": [
       "Index(['SEQN', 'foodcode', 'DRXFCLD', 'DR2IGRMS', 'DR2IKCAL', 'DR2IMOIS',\n",
       "       'Sex', 'Age', 'RIDRETH1', 'INDFMPIR', 'WTINT2YR', 'WTMEC2YR', 'SDMVPSU',\n",
       "       'SDMVSTRA', 'CYCLE', 'diet_wts', 'education', 'BMI', 'body_wt', 'WC',\n",
       "       'ever_smoker', 'current_smoker', 'fasting_glc_mg_dL',\n",
       "       'diabetes_fasting_glc', 'hba1c_percent', 'diabetes_hba1c',\n",
       "       'taking_insulin', 'taking_diabetic_pills', 'taking_diabetic_pills_D_E',\n",
       "       'diabetes', 'tg_mg_dL', 'sys_ht', 'di_ht', 'BPQ040A', 'BPQ050A',\n",
       "       'hypertension', 'LBXHBC', 'LBDHBG', 'LBXHBS', 'hep_B_infection',\n",
       "       'LBDHCV', 'LBDHD', 'hep_C_infection', 'hep_D_infection', 'MCQ180C',\n",
       "       'MCQ220', 'LBXCRP'],\n",
       "      dtype='object')"
      ]
     },
     "execution_count": 107,
     "metadata": {},
     "output_type": "execute_result"
    }
   ],
   "source": [
    "adults.columns"
   ]
  },
  {
   "cell_type": "code",
   "execution_count": 108,
   "id": "9565021a",
   "metadata": {},
   "outputs": [],
   "source": [
    "adults_crp = adults.dropna(subset='LBXCRP')"
   ]
  },
  {
   "cell_type": "code",
   "execution_count": 109,
   "id": "8f6a6f9c",
   "metadata": {},
   "outputs": [],
   "source": [
    "# exclude those with CRP > 10 mg/L\n",
    "adults_crp = adults_crp[adults_crp['LBXCRP'] <= 10]"
   ]
  },
  {
   "cell_type": "code",
   "execution_count": 110,
   "id": "c6791c9e",
   "metadata": {},
   "outputs": [],
   "source": [
    "adults_crp.rename(columns={'RIDRETH1':'Ethnicity', 'INDFMPIR': 'family_pir', 'LBXCRP': 'crp'},inplace=True)"
   ]
  },
  {
   "cell_type": "code",
   "execution_count": 111,
   "id": "a15f022c",
   "metadata": {},
   "outputs": [
    {
     "data": {
      "text/plain": [
       "Index(['SEQN', 'foodcode', 'DRXFCLD', 'DR2IGRMS', 'DR2IKCAL', 'DR2IMOIS',\n",
       "       'Sex', 'Age', 'Ethnicity', 'family_pir', 'WTINT2YR', 'WTMEC2YR',\n",
       "       'SDMVPSU', 'SDMVSTRA', 'CYCLE', 'diet_wts', 'education', 'BMI',\n",
       "       'body_wt', 'WC', 'ever_smoker', 'current_smoker', 'fasting_glc_mg_dL',\n",
       "       'diabetes_fasting_glc', 'hba1c_percent', 'diabetes_hba1c',\n",
       "       'taking_insulin', 'taking_diabetic_pills', 'taking_diabetic_pills_D_E',\n",
       "       'diabetes', 'tg_mg_dL', 'sys_ht', 'di_ht', 'BPQ040A', 'BPQ050A',\n",
       "       'hypertension', 'LBXHBC', 'LBDHBG', 'LBXHBS', 'hep_B_infection',\n",
       "       'LBDHCV', 'LBDHD', 'hep_C_infection', 'hep_D_infection', 'MCQ180C',\n",
       "       'MCQ220', 'crp'],\n",
       "      dtype='object')"
      ]
     },
     "execution_count": 111,
     "metadata": {},
     "output_type": "execute_result"
    }
   ],
   "source": [
    "adults_crp.columns"
   ]
  },
  {
   "cell_type": "code",
   "execution_count": 112,
   "id": "282c238b",
   "metadata": {},
   "outputs": [],
   "source": [
    "adults_crp = adults_crp[['SEQN', 'foodcode', 'DRXFCLD', 'DR2IGRMS', 'DR2IKCAL', 'DR2IMOIS', 'Sex', 'Age', 'Ethnicity',\n",
    "       'family_pir', 'WTINT2YR', 'WTMEC2YR', 'SDMVPSU', 'SDMVSTRA', 'CYCLE',\n",
    "       'diet_wts', 'education', 'BMI', 'ever_smoker', 'diabetes', 'hypertension', 'crp']]"
   ]
  },
  {
   "cell_type": "code",
   "execution_count": 113,
   "id": "f2cf31bf",
   "metadata": {},
   "outputs": [],
   "source": [
    "adults_crp['diet_wts'] = adults_crp['diet_wts'] / 7 # calculate sample weights based on number of included cycles"
   ]
  },
  {
   "cell_type": "code",
   "execution_count": 114,
   "id": "1f4cb64c",
   "metadata": {},
   "outputs": [],
   "source": [
    "ingred_pid = pd.read_csv('../../data/00/crp_target.csv')"
   ]
  },
  {
   "cell_type": "code",
   "execution_count": 115,
   "id": "af1c0f34",
   "metadata": {},
   "outputs": [],
   "source": [
    "fc_match = adults_crp[adults_crp['SEQN'].isin(ingred_pid['SEQN'])] "
   ]
  },
  {
   "cell_type": "code",
   "execution_count": 116,
   "id": "af5f8caf",
   "metadata": {},
   "outputs": [
    {
     "data": {
      "text/plain": [
       "19460"
      ]
     },
     "execution_count": 116,
     "metadata": {},
     "output_type": "execute_result"
    }
   ],
   "source": [
    "fc_match.SEQN.nunique()"
   ]
  },
  {
   "cell_type": "code",
   "execution_count": 117,
   "id": "7b3c2dee",
   "metadata": {},
   "outputs": [],
   "source": [
    "# write file for food tree\n",
    "fc_match[['SEQN', 'foodcode', 'DRXFCLD', 'DR2IGRMS', 'DR2IKCAL', 'DR2IMOIS']].to_csv('../../data/00/foodcode/wweia_qc_crp_fc.txt', sep = '\\t', index=None)"
   ]
  },
  {
   "cell_type": "code",
   "execution_count": 118,
   "id": "1e91fb0d",
   "metadata": {},
   "outputs": [],
   "source": [
    "fc_match[['foodcode', 'DRXFCLD']].drop_duplicates('foodcode').to_csv('../../data/00/foodcode/wweia_crp_unique_food_codes.csv', index=None)"
   ]
  }
 ],
 "metadata": {
  "kernelspec": {
   "display_name": "Python 3 (ipykernel)",
   "language": "python",
   "name": "python3"
  },
  "language_info": {
   "codemirror_mode": {
    "name": "ipython",
    "version": 3
   },
   "file_extension": ".py",
   "mimetype": "text/x-python",
   "name": "python",
   "nbconvert_exporter": "python",
   "pygments_lexer": "ipython3",
   "version": "3.8.8"
  }
 },
 "nbformat": 4,
 "nbformat_minor": 5
}
