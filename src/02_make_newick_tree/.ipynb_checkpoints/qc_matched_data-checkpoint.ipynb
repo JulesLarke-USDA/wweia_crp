{
 "cells": [
  {
   "cell_type": "code",
   "execution_count": 1,
   "id": "6121a7eb",
   "metadata": {},
   "outputs": [],
   "source": [
    "import pandas as pd\n",
    "import numpy as np\n",
    "import string"
   ]
  },
  {
   "cell_type": "code",
   "execution_count": 3,
   "id": "5e6a1cf9",
   "metadata": {
    "scrolled": true
   },
   "outputs": [],
   "source": [
    "# most updated taxonomy file: updated_taxonomy_060623.csv (modified from text_matching_complete, should rewrite)\n",
    "taxa = pd.read_csv('../../data/02/updated_taxonomy_080323.csv', usecols=['Ingredient code', 'Ingredient description', 'Level.code', 'correct_code'])\n",
    "labels = pd.read_csv('../../data/02/NodeLabelsMCT_updated_080323.txt', sep='\\t')\n",
    "ingredients = pd.read_csv('../../lib/00_qc_wweia/wweia_unique_ingred_codes.csv')"
   ]
  },
  {
   "cell_type": "code",
   "execution_count": 4,
   "id": "567b265c",
   "metadata": {},
   "outputs": [],
   "source": [
    "ingredients = ingredients[['ingred_code']]"
   ]
  },
  {
   "cell_type": "code",
   "execution_count": 5,
   "id": "b6e8b763",
   "metadata": {},
   "outputs": [],
   "source": [
    "labels['Level.code'] = labels['Level.code'].astype('int64')"
   ]
  },
  {
   "cell_type": "code",
   "execution_count": 6,
   "id": "6cf62ebb",
   "metadata": {},
   "outputs": [],
   "source": [
    "taxa['Level.code'] = np.where(~taxa['correct_code'].isnull(),taxa['correct_code'],taxa['Level.code'])"
   ]
  },
  {
   "cell_type": "code",
   "execution_count": 7,
   "id": "539a3bbe",
   "metadata": {},
   "outputs": [],
   "source": [
    "punct = string.punctuation"
   ]
  },
  {
   "cell_type": "code",
   "execution_count": 8,
   "id": "94b2c0de",
   "metadata": {},
   "outputs": [],
   "source": [
    "def clean_text(text):\n",
    "    text = \"\".join([word for word in text if word not in punct])\n",
    "    return text\n",
    "\n",
    "taxa['Ingredient description'] = taxa['Ingredient description'].apply(lambda x: clean_text(x))\n",
    "taxa['Ingredient description'] = taxa['Ingredient description'].str.replace(' ', '_')"
   ]
  },
  {
   "cell_type": "code",
   "execution_count": 9,
   "id": "42f33094",
   "metadata": {},
   "outputs": [],
   "source": [
    "taxa = taxa[['Level.code', 'Ingredient description', 'Ingredient code']]"
   ]
  },
  {
   "cell_type": "code",
   "execution_count": 10,
   "id": "b720cb33",
   "metadata": {},
   "outputs": [],
   "source": [
    "taxa['Level.code'] = taxa['Level.code'].astype('int64')"
   ]
  },
  {
   "cell_type": "code",
   "execution_count": 11,
   "id": "96637824",
   "metadata": {},
   "outputs": [],
   "source": [
    "taxa = taxa[taxa['Ingredient code'].isin(ingredients['ingred_code'])]"
   ]
  },
  {
   "cell_type": "code",
   "execution_count": 12,
   "id": "77692ca2",
   "metadata": {},
   "outputs": [],
   "source": [
    "taxa = taxa.rename(columns={'Ingredient description': 'Main.food.description', 'Level.code': 'FoodID'})"
   ]
  },
  {
   "cell_type": "code",
   "execution_count": 13,
   "id": "2131efc7",
   "metadata": {},
   "outputs": [
    {
     "data": {
      "text/html": [
       "<div>\n",
       "<style scoped>\n",
       "    .dataframe tbody tr th:only-of-type {\n",
       "        vertical-align: middle;\n",
       "    }\n",
       "\n",
       "    .dataframe tbody tr th {\n",
       "        vertical-align: top;\n",
       "    }\n",
       "\n",
       "    .dataframe thead th {\n",
       "        text-align: right;\n",
       "    }\n",
       "</style>\n",
       "<table border=\"1\" class=\"dataframe\">\n",
       "  <thead>\n",
       "    <tr style=\"text-align: right;\">\n",
       "      <th></th>\n",
       "      <th>Level.code</th>\n",
       "      <th>Main.food.description</th>\n",
       "    </tr>\n",
       "  </thead>\n",
       "  <tbody>\n",
       "    <tr>\n",
       "      <th>0</th>\n",
       "      <td>1</td>\n",
       "      <td>Milk_and_Milk_Products</td>\n",
       "    </tr>\n",
       "    <tr>\n",
       "      <th>1</th>\n",
       "      <td>11</td>\n",
       "      <td>Milks_and_milk_drinks</td>\n",
       "    </tr>\n",
       "    <tr>\n",
       "      <th>2</th>\n",
       "      <td>110</td>\n",
       "      <td>Milk_human</td>\n",
       "    </tr>\n",
       "    <tr>\n",
       "      <th>3</th>\n",
       "      <td>111</td>\n",
       "      <td>Milk_cow</td>\n",
       "    </tr>\n",
       "    <tr>\n",
       "      <th>4</th>\n",
       "      <td>1111</td>\n",
       "      <td>Milk_fluid_whole</td>\n",
       "    </tr>\n",
       "    <tr>\n",
       "      <th>...</th>\n",
       "      <td>...</td>\n",
       "      <td>...</td>\n",
       "    </tr>\n",
       "    <tr>\n",
       "      <th>1787</th>\n",
       "      <td>9533</td>\n",
       "      <td>Fluid_replacements</td>\n",
       "    </tr>\n",
       "    <tr>\n",
       "      <th>1788</th>\n",
       "      <td>9534</td>\n",
       "      <td>Other_functional_beverages</td>\n",
       "    </tr>\n",
       "    <tr>\n",
       "      <th>1789</th>\n",
       "      <td>954</td>\n",
       "      <td>Meal_replacement</td>\n",
       "    </tr>\n",
       "    <tr>\n",
       "      <th>1790</th>\n",
       "      <td>99</td>\n",
       "      <td>Added_vitamins</td>\n",
       "    </tr>\n",
       "    <tr>\n",
       "      <th>1791</th>\n",
       "      <td>990</td>\n",
       "      <td>Vitamin_D</td>\n",
       "    </tr>\n",
       "  </tbody>\n",
       "</table>\n",
       "<p>1792 rows × 2 columns</p>\n",
       "</div>"
      ],
      "text/plain": [
       "      Level.code       Main.food.description\n",
       "0              1      Milk_and_Milk_Products\n",
       "1             11       Milks_and_milk_drinks\n",
       "2            110                  Milk_human\n",
       "3            111                    Milk_cow\n",
       "4           1111            Milk_fluid_whole\n",
       "...          ...                         ...\n",
       "1787        9533          Fluid_replacements\n",
       "1788        9534  Other_functional_beverages\n",
       "1789         954            Meal_replacement\n",
       "1790          99              Added_vitamins\n",
       "1791         990                   Vitamin_D\n",
       "\n",
       "[1792 rows x 2 columns]"
      ]
     },
     "execution_count": 13,
     "metadata": {},
     "output_type": "execute_result"
    }
   ],
   "source": [
    "labels"
   ]
  },
  {
   "cell_type": "code",
   "execution_count": 14,
   "id": "6726bba6",
   "metadata": {},
   "outputs": [],
   "source": [
    "x = labels"
   ]
  },
  {
   "cell_type": "code",
   "execution_count": 15,
   "id": "eed85b89",
   "metadata": {},
   "outputs": [],
   "source": [
    "x.rename(columns={'Level.code':'FoodID'},inplace=True)"
   ]
  },
  {
   "cell_type": "code",
   "execution_count": 16,
   "id": "ca1aa585",
   "metadata": {},
   "outputs": [],
   "source": [
    "y = taxa.merge(x, on='FoodID', how='left')"
   ]
  },
  {
   "cell_type": "code",
   "execution_count": 17,
   "id": "3d95c629",
   "metadata": {},
   "outputs": [
    {
     "data": {
      "text/html": [
       "<div>\n",
       "<style scoped>\n",
       "    .dataframe tbody tr th:only-of-type {\n",
       "        vertical-align: middle;\n",
       "    }\n",
       "\n",
       "    .dataframe tbody tr th {\n",
       "        vertical-align: top;\n",
       "    }\n",
       "\n",
       "    .dataframe thead th {\n",
       "        text-align: right;\n",
       "    }\n",
       "</style>\n",
       "<table border=\"1\" class=\"dataframe\">\n",
       "  <thead>\n",
       "    <tr style=\"text-align: right;\">\n",
       "      <th></th>\n",
       "      <th>FoodID</th>\n",
       "      <th>Main.food.description_x</th>\n",
       "      <th>Ingredient code</th>\n",
       "      <th>Main.food.description_y</th>\n",
       "    </tr>\n",
       "  </thead>\n",
       "  <tbody>\n",
       "    <tr>\n",
       "      <th>0</th>\n",
       "      <td>81101</td>\n",
       "      <td>Butter_salted</td>\n",
       "      <td>1001</td>\n",
       "      <td>Butter</td>\n",
       "    </tr>\n",
       "    <tr>\n",
       "      <th>1</th>\n",
       "      <td>81107</td>\n",
       "      <td>Butter_whipped_with_salt</td>\n",
       "      <td>1002</td>\n",
       "      <td>Butter_whipped</td>\n",
       "    </tr>\n",
       "    <tr>\n",
       "      <th>2</th>\n",
       "      <td>81101</td>\n",
       "      <td>Butter_oil_anhydrous</td>\n",
       "      <td>1003</td>\n",
       "      <td>Butter</td>\n",
       "    </tr>\n",
       "    <tr>\n",
       "      <th>3</th>\n",
       "      <td>14101</td>\n",
       "      <td>Cheese_blue</td>\n",
       "      <td>1004</td>\n",
       "      <td>Blue_or_Rouquefort</td>\n",
       "    </tr>\n",
       "    <tr>\n",
       "      <th>4</th>\n",
       "      <td>14102</td>\n",
       "      <td>Cheese_brick</td>\n",
       "      <td>1005</td>\n",
       "      <td>Brick</td>\n",
       "    </tr>\n",
       "    <tr>\n",
       "      <th>...</th>\n",
       "      <td>...</td>\n",
       "      <td>...</td>\n",
       "      <td>...</td>\n",
       "      <td>...</td>\n",
       "    </tr>\n",
       "    <tr>\n",
       "      <th>1490</th>\n",
       "      <td>7331</td>\n",
       "      <td>Squash_summer_crookneck_and_straightneck_raw</td>\n",
       "      <td>11467</td>\n",
       "      <td>Squash_summer</td>\n",
       "    </tr>\n",
       "    <tr>\n",
       "      <th>1491</th>\n",
       "      <td>63101</td>\n",
       "      <td>Pie_fillings_apple_canned</td>\n",
       "      <td>19312</td>\n",
       "      <td>Apple_or_applesauce</td>\n",
       "    </tr>\n",
       "    <tr>\n",
       "      <th>1492</th>\n",
       "      <td>214</td>\n",
       "      <td>Beef_chuck_for_stew_separable_lean_and_fat_all...</td>\n",
       "      <td>23090</td>\n",
       "      <td>Beef_roasts_stew_meat_corned_beef_beef_brisket...</td>\n",
       "    </tr>\n",
       "    <tr>\n",
       "      <th>1493</th>\n",
       "      <td>41201</td>\n",
       "      <td>Beans_baked_canned_no_salt_added</td>\n",
       "      <td>43449</td>\n",
       "      <td>Baked_beans</td>\n",
       "    </tr>\n",
       "    <tr>\n",
       "      <th>1494</th>\n",
       "      <td>2522</td>\n",
       "      <td>Sausage_pork_chorizo_link_or_ground_cooked_pan...</td>\n",
       "      <td>100173</td>\n",
       "      <td>Sausages</td>\n",
       "    </tr>\n",
       "  </tbody>\n",
       "</table>\n",
       "<p>1495 rows × 4 columns</p>\n",
       "</div>"
      ],
      "text/plain": [
       "      FoodID                            Main.food.description_x  \\\n",
       "0      81101                                      Butter_salted   \n",
       "1      81107                           Butter_whipped_with_salt   \n",
       "2      81101                               Butter_oil_anhydrous   \n",
       "3      14101                                        Cheese_blue   \n",
       "4      14102                                       Cheese_brick   \n",
       "...      ...                                                ...   \n",
       "1490    7331       Squash_summer_crookneck_and_straightneck_raw   \n",
       "1491   63101                          Pie_fillings_apple_canned   \n",
       "1492     214  Beef_chuck_for_stew_separable_lean_and_fat_all...   \n",
       "1493   41201                   Beans_baked_canned_no_salt_added   \n",
       "1494    2522  Sausage_pork_chorizo_link_or_ground_cooked_pan...   \n",
       "\n",
       "      Ingredient code                            Main.food.description_y  \n",
       "0                1001                                             Butter  \n",
       "1                1002                                     Butter_whipped  \n",
       "2                1003                                             Butter  \n",
       "3                1004                                 Blue_or_Rouquefort  \n",
       "4                1005                                              Brick  \n",
       "...               ...                                                ...  \n",
       "1490            11467                                      Squash_summer  \n",
       "1491            19312                                Apple_or_applesauce  \n",
       "1492            23090  Beef_roasts_stew_meat_corned_beef_beef_brisket...  \n",
       "1493            43449                                        Baked_beans  \n",
       "1494           100173                                           Sausages  \n",
       "\n",
       "[1495 rows x 4 columns]"
      ]
     },
     "execution_count": 17,
     "metadata": {},
     "output_type": "execute_result"
    }
   ],
   "source": [
    "y"
   ]
  },
  {
   "cell_type": "code",
   "execution_count": 18,
   "id": "c1f6aa07",
   "metadata": {},
   "outputs": [],
   "source": [
    "y.rename(columns={'Main.food.description_x':'ingred_desc', 'Main.food.description_y':'taxon'},inplace=True)\n",
    "y.to_csv('all_ingred_codes_taxa_080323.csv',index=None)"
   ]
  },
  {
   "cell_type": "code",
   "execution_count": 19,
   "id": "d1ef89a3",
   "metadata": {},
   "outputs": [],
   "source": [
    "taxa[['Main.food.description', 'Ingredient code']].to_csv('wweia_ingredient_list.csv', index=None)"
   ]
  },
  {
   "cell_type": "code",
   "execution_count": 20,
   "id": "1a91112d",
   "metadata": {},
   "outputs": [],
   "source": [
    "# Count the number of ingredient codes within each of the 969 distinct taxonomic levels. This can help simplify mapping to glycopedia?"
   ]
  },
  {
   "cell_type": "code",
   "execution_count": 21,
   "id": "eae75281",
   "metadata": {},
   "outputs": [],
   "source": [
    "taxa_count = taxa.FoodID.value_counts().to_frame()"
   ]
  },
  {
   "cell_type": "code",
   "execution_count": 22,
   "id": "f8a32ba6",
   "metadata": {},
   "outputs": [],
   "source": [
    "taxa_count.reset_index(inplace=True)"
   ]
  },
  {
   "cell_type": "code",
   "execution_count": 23,
   "id": "fd1df22b",
   "metadata": {
    "scrolled": true
   },
   "outputs": [],
   "source": [
    "taxa_count.rename(columns={'index':'Level.code', 'FoodID':'count'}, inplace=True)"
   ]
  },
  {
   "cell_type": "code",
   "execution_count": 24,
   "id": "dae3e09b",
   "metadata": {},
   "outputs": [
    {
     "data": {
      "text/html": [
       "<div>\n",
       "<style scoped>\n",
       "    .dataframe tbody tr th:only-of-type {\n",
       "        vertical-align: middle;\n",
       "    }\n",
       "\n",
       "    .dataframe tbody tr th {\n",
       "        vertical-align: top;\n",
       "    }\n",
       "\n",
       "    .dataframe thead th {\n",
       "        text-align: right;\n",
       "    }\n",
       "</style>\n",
       "<table border=\"1\" class=\"dataframe\">\n",
       "  <thead>\n",
       "    <tr style=\"text-align: right;\">\n",
       "      <th></th>\n",
       "      <th>Level.code</th>\n",
       "      <th>count</th>\n",
       "    </tr>\n",
       "  </thead>\n",
       "  <tbody>\n",
       "    <tr>\n",
       "      <th>0</th>\n",
       "      <td>211</td>\n",
       "      <td>23</td>\n",
       "    </tr>\n",
       "    <tr>\n",
       "      <th>1</th>\n",
       "      <td>2231</td>\n",
       "      <td>22</td>\n",
       "    </tr>\n",
       "    <tr>\n",
       "      <th>2</th>\n",
       "      <td>76</td>\n",
       "      <td>21</td>\n",
       "    </tr>\n",
       "    <tr>\n",
       "      <th>3</th>\n",
       "      <td>585</td>\n",
       "      <td>20</td>\n",
       "    </tr>\n",
       "    <tr>\n",
       "      <th>4</th>\n",
       "      <td>1172</td>\n",
       "      <td>20</td>\n",
       "    </tr>\n",
       "    <tr>\n",
       "      <th>...</th>\n",
       "      <td>...</td>\n",
       "      <td>...</td>\n",
       "    </tr>\n",
       "    <tr>\n",
       "      <th>594</th>\n",
       "      <td>72129</td>\n",
       "      <td>1</td>\n",
       "    </tr>\n",
       "    <tr>\n",
       "      <th>595</th>\n",
       "      <td>225</td>\n",
       "      <td>1</td>\n",
       "    </tr>\n",
       "    <tr>\n",
       "      <th>596</th>\n",
       "      <td>226</td>\n",
       "      <td>1</td>\n",
       "    </tr>\n",
       "    <tr>\n",
       "      <th>597</th>\n",
       "      <td>2232</td>\n",
       "      <td>1</td>\n",
       "    </tr>\n",
       "    <tr>\n",
       "      <th>598</th>\n",
       "      <td>7331</td>\n",
       "      <td>1</td>\n",
       "    </tr>\n",
       "  </tbody>\n",
       "</table>\n",
       "<p>599 rows × 2 columns</p>\n",
       "</div>"
      ],
      "text/plain": [
       "     Level.code  count\n",
       "0           211     23\n",
       "1          2231     22\n",
       "2            76     21\n",
       "3           585     20\n",
       "4          1172     20\n",
       "..          ...    ...\n",
       "594       72129      1\n",
       "595         225      1\n",
       "596         226      1\n",
       "597        2232      1\n",
       "598        7331      1\n",
       "\n",
       "[599 rows x 2 columns]"
      ]
     },
     "execution_count": 24,
     "metadata": {},
     "output_type": "execute_result"
    }
   ],
   "source": [
    "taxa_count"
   ]
  },
  {
   "cell_type": "code",
   "execution_count": 25,
   "id": "c1cb2145",
   "metadata": {},
   "outputs": [],
   "source": [
    "labels.rename(columns={'FoodID':'Level.code'}, inplace=True)"
   ]
  },
  {
   "cell_type": "code",
   "execution_count": 26,
   "id": "874269dc",
   "metadata": {},
   "outputs": [],
   "source": [
    "taxa_count.merge(labels, on='Level.code', how='left').to_csv('taxa_level_count.csv', index=None)"
   ]
  },
  {
   "cell_type": "code",
   "execution_count": 28,
   "id": "86a29669",
   "metadata": {},
   "outputs": [],
   "source": [
    "taxa.to_csv('../../data/02/wweia_ingredient_taxa.txt', sep='\\t', index=None)"
   ]
  },
  {
   "cell_type": "code",
   "execution_count": 29,
   "id": "781defe4",
   "metadata": {},
   "outputs": [],
   "source": [
    "labels.to_csv('../../data/02/NodeLabelsMCT_updated_080323.txt', sep='\\t', index=None)"
   ]
  }
 ],
 "metadata": {
  "kernelspec": {
   "display_name": "Python 3 (ipykernel)",
   "language": "python",
   "name": "python3"
  },
  "language_info": {
   "codemirror_mode": {
    "name": "ipython",
    "version": 3
   },
   "file_extension": ".py",
   "mimetype": "text/x-python",
   "name": "python",
   "nbconvert_exporter": "python",
   "pygments_lexer": "ipython3",
   "version": "3.8.8"
  }
 },
 "nbformat": 4,
 "nbformat_minor": 5
}
