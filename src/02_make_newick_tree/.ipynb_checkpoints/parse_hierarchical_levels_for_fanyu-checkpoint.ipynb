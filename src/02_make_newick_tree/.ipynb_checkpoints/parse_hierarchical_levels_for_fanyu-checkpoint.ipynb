{
 "cells": [
  {
   "cell_type": "code",
   "execution_count": null,
   "id": "a8c80944",
   "metadata": {},
   "outputs": [],
   "source": [
    "import pandas as pd\n",
    "import numpy as np\n",
    "\n",
    "otu = pd.read_csv('../../data/03/ingred_otu_e_adjust_drywt_no_salt_water.txt', sep='\\t')\n",
    "cov = pd.read_csv('/Users/jules.larke/work/project/ingredient_tree/data/00/wweia_covariates.csv')\n",
    "\n",
    "y_train = pd.read_csv('/Users/jules.larke/work/project/ingredient_tree/data/04/processed_for_ml/binary_class/y_train_class.csv')\n",
    "y_test = pd.read_csv('/Users/jules.larke/work/project/ingredient_tree/data/04/processed_for_ml/binary_class/y_test_class.csv')\n",
    "\n",
    "outcome = pd.concat([y_test, y_train])\n",
    "\n",
    "outcome = outcome.merge(cov, on='SEQN')\n",
    "\n",
    "outcome['SEQN'] = outcome['SEQN'].astype(str)\n",
    "\n",
    "outcome = pd.get_dummies(outcome, columns=['Sex', 'education', 'Ethnicity', 'ever_smoker', 'diabetes', 'hypertension'], dtype=np.float64) \n",
    "\n",
    "pid = pd.concat([y_train['SEQN'], y_test['SEQN']]).astype(str)\n",
    "\n",
    "otu_filter = otu[otu.columns[otu.columns.isin(pid)]]\n",
    "\n",
    "otu_filter = pd.concat([otu['clade_name'], otu['Main.food.description'], otu_filter],axis=1)"
   ]
  },
  {
   "cell_type": "code",
   "execution_count": null,
   "id": "eef8fbaf",
   "metadata": {},
   "outputs": [],
   "source": [
    "otu_filter['clade_name'] = otu_filter['clade_name'].str.split('|', expand=True)[1] # L2"
   ]
  },
  {
   "cell_type": "code",
   "execution_count": null,
   "id": "429b6c6f",
   "metadata": {},
   "outputs": [],
   "source": [
    "nonalc = otu_filter[otu_filter['clade_name'].str.contains('L2_Nonalcoholic_beverages', case=False)]"
   ]
  },
  {
   "cell_type": "code",
   "execution_count": null,
   "id": "2558a043",
   "metadata": {},
   "outputs": [],
   "source": [
    "nonalc"
   ]
  }
 ],
 "metadata": {
  "kernelspec": {
   "display_name": "Python 3 (ipykernel)",
   "language": "python",
   "name": "python3"
  },
  "language_info": {
   "codemirror_mode": {
    "name": "ipython",
    "version": 3
   },
   "file_extension": ".py",
   "mimetype": "text/x-python",
   "name": "python",
   "nbconvert_exporter": "python",
   "pygments_lexer": "ipython3",
   "version": "3.8.8"
  }
 },
 "nbformat": 4,
 "nbformat_minor": 5
}
