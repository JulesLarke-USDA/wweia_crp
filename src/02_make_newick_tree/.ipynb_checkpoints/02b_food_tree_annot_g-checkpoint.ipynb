{
 "cells": [
  {
   "cell_type": "markdown",
   "id": "fd329607",
   "metadata": {},
   "source": [
    "### Title: 02b_food_tree_annot_g\n",
    "### Purpose: Generate file to annotate food tree figure with grams of intake in graphlan\n",
    "### Date: April 5, 2024\n",
    "### Author: Jules Larke"
   ]
  },
  {
   "cell_type": "code",
   "execution_count": 1,
   "id": "b268c799",
   "metadata": {},
   "outputs": [],
   "source": [
    "import pandas as pd\n",
    "import numpy as np"
   ]
  },
  {
   "cell_type": "code",
   "execution_count": 2,
   "id": "53562a24",
   "metadata": {},
   "outputs": [],
   "source": [
    "# load data \n",
    "otu = pd.read_csv('../../data/03/ingred_otu_e_adjust_drywt_no_salt_water.txt', sep='\\t')"
   ]
  },
  {
   "cell_type": "code",
   "execution_count": 3,
   "id": "fa10d0b2",
   "metadata": {},
   "outputs": [],
   "source": [
    "otu['ring_color'] = np.where(otu['clade_name'].str.contains('L1_Meat_Poultry_Fish_and_Mixtures'), '#D43F1F', 0)\n",
    "otu['ring_color'] = np.where(otu['clade_name'].str.contains('L1_Grain_Product'), '#FE9700', otu['ring_color'])\n",
    "otu['ring_color'] = np.where(otu['clade_name'].str.contains('L1_Vegetables'), '#5DD047', otu['ring_color'])\n",
    "otu['ring_color'] = np.where(otu['clade_name'].str.contains('L1_Milk_and_Milk_Products'), '#00A2F2', otu['ring_color'])\n",
    "otu['ring_color'] = np.where(otu['clade_name'].str.contains('L1_Sugars_Sweets_and_Beverages'), '#C91ACB', otu['ring_color'])\n",
    "otu['ring_color'] = np.where(otu['clade_name'].str.contains('L1_Fruits'), '#CBD12D', otu['ring_color'])\n",
    "otu['ring_color'] = np.where(otu['clade_name'].str.contains('L1_Beans_Peas_Other_Legumes_Nuts_and_Seeds'), '#662A00', otu['ring_color'])\n",
    "otu['ring_color'] = np.where(otu['clade_name'].str.contains('L1_Eggs'), '#A8863A', otu['ring_color'])\n",
    "otu['ring_color'] = np.where(otu['clade_name'].str.contains('L1_Fats_Oils_Salad_Dressings_Condiments_and_Sauces'), '#737373', otu['ring_color'])"
   ]
  },
  {
   "cell_type": "code",
   "execution_count": 4,
   "id": "e5d0bcd7",
   "metadata": {},
   "outputs": [],
   "source": [
    "otu['clade_name'] = otu['clade_name'].str.split('|', expand=True)[5] # get ingredient descriptions\n",
    "otu.drop(columns=['Main.food.description'], inplace=True)\n",
    "ring_color = otu[['clade_name', 'ring_color']]"
   ]
  },
  {
   "cell_type": "code",
   "execution_count": 5,
   "id": "c63a5474",
   "metadata": {},
   "outputs": [],
   "source": [
    "# convert to long format\n",
    "x = otu.transpose()\n",
    "new_header = x.iloc[0] #grab the first row for the header\n",
    "x = x[1:] #take the data less the header row\n",
    "x.columns = new_header #set the header row as the df header"
   ]
  },
  {
   "cell_type": "code",
   "execution_count": 6,
   "id": "c2277ed2",
   "metadata": {},
   "outputs": [],
   "source": [
    "means = x.iloc[0:555,].mean().reset_index()\n",
    "\n",
    "mean_color = means.merge(ring_color, on='clade_name')\n",
    "mean_color['level'] = 1\n",
    "mean_color['ht'] = 'ring_height'\n",
    "mean_color['color'] = 'ring_color'\n",
    "y = mean_color[['clade_name', 'color', 'level', 'ring_color']]\n",
    "z = mean_color[['clade_name', 'ht', 'level', 0]]\n",
    "z.columns = y.columns"
   ]
  },
  {
   "cell_type": "code",
   "execution_count": 7,
   "id": "40a3f029",
   "metadata": {},
   "outputs": [
    {
     "data": {
      "text/html": [
       "<div>\n",
       "<style scoped>\n",
       "    .dataframe tbody tr th:only-of-type {\n",
       "        vertical-align: middle;\n",
       "    }\n",
       "\n",
       "    .dataframe tbody tr th {\n",
       "        vertical-align: top;\n",
       "    }\n",
       "\n",
       "    .dataframe thead th {\n",
       "        text-align: right;\n",
       "    }\n",
       "</style>\n",
       "<table border=\"1\" class=\"dataframe\">\n",
       "  <thead>\n",
       "    <tr style=\"text-align: right;\">\n",
       "      <th></th>\n",
       "      <th>clade_name</th>\n",
       "      <th>color</th>\n",
       "      <th>level</th>\n",
       "      <th>ring_color</th>\n",
       "    </tr>\n",
       "  </thead>\n",
       "  <tbody>\n",
       "    <tr>\n",
       "      <th>249</th>\n",
       "      <td>Wheat_flour_wholegrain</td>\n",
       "      <td>ring_height</td>\n",
       "      <td>1</td>\n",
       "      <td>33.755812</td>\n",
       "    </tr>\n",
       "    <tr>\n",
       "      <th>497</th>\n",
       "      <td>Sugars_granulated</td>\n",
       "      <td>ring_height</td>\n",
       "      <td>1</td>\n",
       "      <td>17.763202</td>\n",
       "    </tr>\n",
       "    <tr>\n",
       "      <th>0</th>\n",
       "      <td>Milk_whole_325_milkfat_with_added_vitamin_D</td>\n",
       "      <td>ring_height</td>\n",
       "      <td>1</td>\n",
       "      <td>15.594209</td>\n",
       "    </tr>\n",
       "    <tr>\n",
       "      <th>530</th>\n",
       "      <td>Carbonated_beverage_cream_soda</td>\n",
       "      <td>ring_height</td>\n",
       "      <td>1</td>\n",
       "      <td>12.575412</td>\n",
       "    </tr>\n",
       "    <tr>\n",
       "      <th>507</th>\n",
       "      <td>Syrups_corn_light</td>\n",
       "      <td>ring_height</td>\n",
       "      <td>1</td>\n",
       "      <td>9.385760</td>\n",
       "    </tr>\n",
       "    <tr>\n",
       "      <th>250</th>\n",
       "      <td>Corn_flour_masa_enriched_white</td>\n",
       "      <td>ring_height</td>\n",
       "      <td>1</td>\n",
       "      <td>9.347196</td>\n",
       "    </tr>\n",
       "    <tr>\n",
       "      <th>474</th>\n",
       "      <td>Oil_soybean_salad_or_cooking_partially_hydroge...</td>\n",
       "      <td>ring_height</td>\n",
       "      <td>1</td>\n",
       "      <td>8.194286</td>\n",
       "    </tr>\n",
       "    <tr>\n",
       "      <th>261</th>\n",
       "      <td>Rice_white_longgrain_regular_raw_enriched</td>\n",
       "      <td>ring_height</td>\n",
       "      <td>1</td>\n",
       "      <td>6.187165</td>\n",
       "    </tr>\n",
       "    <tr>\n",
       "      <th>70</th>\n",
       "      <td>Beef_ground_patties_frozen_cooked_broiled</td>\n",
       "      <td>ring_height</td>\n",
       "      <td>1</td>\n",
       "      <td>5.367186</td>\n",
       "    </tr>\n",
       "    <tr>\n",
       "      <th>282</th>\n",
       "      <td>Orange_juice_raw</td>\n",
       "      <td>ring_height</td>\n",
       "      <td>1</td>\n",
       "      <td>3.718023</td>\n",
       "    </tr>\n",
       "  </tbody>\n",
       "</table>\n",
       "</div>"
      ],
      "text/plain": [
       "                                            clade_name        color  level  \\\n",
       "249                             Wheat_flour_wholegrain  ring_height      1   \n",
       "497                                  Sugars_granulated  ring_height      1   \n",
       "0          Milk_whole_325_milkfat_with_added_vitamin_D  ring_height      1   \n",
       "530                     Carbonated_beverage_cream_soda  ring_height      1   \n",
       "507                                  Syrups_corn_light  ring_height      1   \n",
       "250                     Corn_flour_masa_enriched_white  ring_height      1   \n",
       "474  Oil_soybean_salad_or_cooking_partially_hydroge...  ring_height      1   \n",
       "261          Rice_white_longgrain_regular_raw_enriched  ring_height      1   \n",
       "70           Beef_ground_patties_frozen_cooked_broiled  ring_height      1   \n",
       "282                                   Orange_juice_raw  ring_height      1   \n",
       "\n",
       "     ring_color  \n",
       "249   33.755812  \n",
       "497   17.763202  \n",
       "0     15.594209  \n",
       "530   12.575412  \n",
       "507    9.385760  \n",
       "250    9.347196  \n",
       "474    8.194286  \n",
       "261    6.187165  \n",
       "70     5.367186  \n",
       "282    3.718023  "
      ]
     },
     "execution_count": 7,
     "metadata": {},
     "output_type": "execute_result"
    }
   ],
   "source": [
    "z.sort_values('ring_color', ascending=False).head(10)"
   ]
  },
  {
   "cell_type": "code",
   "execution_count": 8,
   "id": "827e8f0b",
   "metadata": {},
   "outputs": [
    {
     "name": "stderr",
     "output_type": "stream",
     "text": [
      "/var/folders/28/kcjp2s310sx44jpn8yqs8y9c929k6r/T/ipykernel_46596/2914552642.py:1: SettingWithCopyWarning: \n",
      "A value is trying to be set on a copy of a slice from a DataFrame.\n",
      "Try using .loc[row_indexer,col_indexer] = value instead\n",
      "\n",
      "See the caveats in the documentation: https://pandas.pydata.org/pandas-docs/stable/user_guide/indexing.html#returning-a-view-versus-a-copy\n",
      "  z['ring_color'] = np.sqrt(z['ring_color'])\n"
     ]
    }
   ],
   "source": [
    "z['ring_color'] = np.sqrt(z['ring_color'])"
   ]
  },
  {
   "cell_type": "code",
   "execution_count": 9,
   "id": "c60510b7",
   "metadata": {},
   "outputs": [],
   "source": [
    "pd.concat([z,y]).to_csv('food_g_annot.txt', sep='\\t', index=None, header=None)"
   ]
  }
 ],
 "metadata": {
  "kernelspec": {
   "display_name": "Python 3 (ipykernel)",
   "language": "python",
   "name": "python3"
  },
  "language_info": {
   "codemirror_mode": {
    "name": "ipython",
    "version": 3
   },
   "file_extension": ".py",
   "mimetype": "text/x-python",
   "name": "python",
   "nbconvert_exporter": "python",
   "pygments_lexer": "ipython3",
   "version": "3.8.8"
  }
 },
 "nbformat": 4,
 "nbformat_minor": 5
}
