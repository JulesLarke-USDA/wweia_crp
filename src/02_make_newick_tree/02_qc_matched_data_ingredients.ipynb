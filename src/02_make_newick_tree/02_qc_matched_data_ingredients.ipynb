{
 "cells": [
  {
   "cell_type": "markdown",
   "id": "b0b53b0e",
   "metadata": {},
   "source": [
    "#### Title: 02_qc_matched_data\n",
    "#### Purpose: Map updated nodes labels for food tree based on matches from step 01. Update L2 categories for ingredietns\n",
    "#### Date: March 28, 2024\n",
    "#### Author: Jules Larke"
   ]
  },
  {
   "cell_type": "code",
   "execution_count": 2,
   "id": "6121a7eb",
   "metadata": {},
   "outputs": [],
   "source": [
    "import pandas as pd\n",
    "import numpy as np\n",
    "import string"
   ]
  },
  {
   "cell_type": "code",
   "execution_count": 3,
   "id": "5e6a1cf9",
   "metadata": {
    "scrolled": true
   },
   "outputs": [],
   "source": [
    "taxa = pd.read_csv('../../data/01/updated_taxonomy_080323.csv', usecols=['Ingredient code', 'Ingredient description', 'Level.code', 'correct_code']) # manual matching from step 01\n",
    "labels = pd.read_csv('../../data/02/NodeLabelsMCT_updated.txt', sep='\\t') # updated food tree node labels for ingredients\n",
    "ingredients = pd.read_csv('../../data/00/wweia_crp_unique_ingred_codes.csv') # list of all unique ingredient codes in NHANES dataset"
   ]
  },
  {
   "cell_type": "code",
   "execution_count": 4,
   "id": "703598e5",
   "metadata": {
    "scrolled": true
   },
   "outputs": [],
   "source": [
    "labels['Level.code'] = labels['Level.code'].astype(int)"
   ]
  },
  {
   "cell_type": "code",
   "execution_count": 5,
   "id": "567b265c",
   "metadata": {},
   "outputs": [],
   "source": [
    "ingredients = ingredients[['ingred_code']]"
   ]
  },
  {
   "cell_type": "code",
   "execution_count": 6,
   "id": "6cf62ebb",
   "metadata": {},
   "outputs": [],
   "source": [
    "taxa['Level.code'] = np.where(~taxa['correct_code'].isnull(),taxa['correct_code'],taxa['Level.code'])"
   ]
  },
  {
   "cell_type": "code",
   "execution_count": 7,
   "id": "539a3bbe",
   "metadata": {},
   "outputs": [],
   "source": [
    "punct = string.punctuation"
   ]
  },
  {
   "cell_type": "code",
   "execution_count": 8,
   "id": "94b2c0de",
   "metadata": {},
   "outputs": [],
   "source": [
    "def clean_text(text):\n",
    "    text = \"\".join([word for word in text if word not in punct])\n",
    "    return text\n",
    "\n",
    "taxa['Ingredient description'] = taxa['Ingredient description'].apply(lambda x: clean_text(x))\n",
    "taxa['Ingredient description'] = taxa['Ingredient description'].str.replace(' ', '_')"
   ]
  },
  {
   "cell_type": "code",
   "execution_count": 9,
   "id": "42f33094",
   "metadata": {},
   "outputs": [],
   "source": [
    "taxa = taxa[['Level.code', 'Ingredient description', 'Ingredient code']]"
   ]
  },
  {
   "cell_type": "code",
   "execution_count": 10,
   "id": "b720cb33",
   "metadata": {},
   "outputs": [],
   "source": [
    "taxa['Level.code'] = taxa['Level.code'].astype('int64')"
   ]
  },
  {
   "cell_type": "code",
   "execution_count": 11,
   "id": "96637824",
   "metadata": {},
   "outputs": [],
   "source": [
    "taxa = taxa[taxa['Ingredient code'].isin(ingredients['ingred_code'])]"
   ]
  },
  {
   "cell_type": "code",
   "execution_count": 12,
   "id": "77692ca2",
   "metadata": {},
   "outputs": [],
   "source": [
    "taxa = taxa.rename(columns={'Ingredient description': 'Main.food.description', 'Level.code': 'FoodID'})"
   ]
  },
  {
   "cell_type": "code",
   "execution_count": 13,
   "id": "2131efc7",
   "metadata": {},
   "outputs": [
    {
     "data": {
      "text/html": [
       "<div>\n",
       "<style scoped>\n",
       "    .dataframe tbody tr th:only-of-type {\n",
       "        vertical-align: middle;\n",
       "    }\n",
       "\n",
       "    .dataframe tbody tr th {\n",
       "        vertical-align: top;\n",
       "    }\n",
       "\n",
       "    .dataframe thead th {\n",
       "        text-align: right;\n",
       "    }\n",
       "</style>\n",
       "<table border=\"1\" class=\"dataframe\">\n",
       "  <thead>\n",
       "    <tr style=\"text-align: right;\">\n",
       "      <th></th>\n",
       "      <th>Level.code</th>\n",
       "      <th>Main.food.description</th>\n",
       "    </tr>\n",
       "  </thead>\n",
       "  <tbody>\n",
       "    <tr>\n",
       "      <th>0</th>\n",
       "      <td>1</td>\n",
       "      <td>Milk_and_Milk_Products</td>\n",
       "    </tr>\n",
       "    <tr>\n",
       "      <th>1</th>\n",
       "      <td>11</td>\n",
       "      <td>Milks_and_milk_drinks</td>\n",
       "    </tr>\n",
       "    <tr>\n",
       "      <th>2</th>\n",
       "      <td>110</td>\n",
       "      <td>Milk_human</td>\n",
       "    </tr>\n",
       "    <tr>\n",
       "      <th>3</th>\n",
       "      <td>111</td>\n",
       "      <td>Milk_cow</td>\n",
       "    </tr>\n",
       "    <tr>\n",
       "      <th>4</th>\n",
       "      <td>1111</td>\n",
       "      <td>Milk_fluid_whole</td>\n",
       "    </tr>\n",
       "    <tr>\n",
       "      <th>...</th>\n",
       "      <td>...</td>\n",
       "      <td>...</td>\n",
       "    </tr>\n",
       "    <tr>\n",
       "      <th>1787</th>\n",
       "      <td>9533</td>\n",
       "      <td>Fluid_replacements</td>\n",
       "    </tr>\n",
       "    <tr>\n",
       "      <th>1788</th>\n",
       "      <td>9534</td>\n",
       "      <td>Other_functional_beverages</td>\n",
       "    </tr>\n",
       "    <tr>\n",
       "      <th>1789</th>\n",
       "      <td>954</td>\n",
       "      <td>Meal_replacement</td>\n",
       "    </tr>\n",
       "    <tr>\n",
       "      <th>1790</th>\n",
       "      <td>99</td>\n",
       "      <td>Added_vitamins</td>\n",
       "    </tr>\n",
       "    <tr>\n",
       "      <th>1791</th>\n",
       "      <td>990</td>\n",
       "      <td>Vitamin_D</td>\n",
       "    </tr>\n",
       "  </tbody>\n",
       "</table>\n",
       "<p>1792 rows × 2 columns</p>\n",
       "</div>"
      ],
      "text/plain": [
       "      Level.code       Main.food.description\n",
       "0              1      Milk_and_Milk_Products\n",
       "1             11       Milks_and_milk_drinks\n",
       "2            110                  Milk_human\n",
       "3            111                    Milk_cow\n",
       "4           1111            Milk_fluid_whole\n",
       "...          ...                         ...\n",
       "1787        9533          Fluid_replacements\n",
       "1788        9534  Other_functional_beverages\n",
       "1789         954            Meal_replacement\n",
       "1790          99              Added_vitamins\n",
       "1791         990                   Vitamin_D\n",
       "\n",
       "[1792 rows x 2 columns]"
      ]
     },
     "execution_count": 13,
     "metadata": {},
     "output_type": "execute_result"
    }
   ],
   "source": [
    "labels"
   ]
  },
  {
   "cell_type": "code",
   "execution_count": 14,
   "id": "ca257b99",
   "metadata": {},
   "outputs": [],
   "source": [
    "to_replace = {'Milk_desserts_sauces_gravies':'Milk_desserts',\n",
    "'Frozen_and_shelfstable_plate_meals_soups_and_gravies':'Broths_and_stocks',\n",
    "'Egg_mixtures':'Eggs',\n",
    "'Nuts_nut_butters_and_nut_mixtures':'Nuts_and_nut_butters',\n",
    "'Seeds_and_seed_mixtures':'Seeds',\n",
    "'Quick_breads':'Flour_and_dry_mixes',\n",
    "'Cakes_cookies_pies_pastries_bars':'Bars',\n",
    "'Crackers_and_salty_snacks_from_grain':'Salty_snacks_from_grain_products',\n",
    "'Citrus_fruits_juices':'Citrus_fruits_and_juices',\n",
    "'Tomatoes_and_tomato_mixtures':'Tomatoes_and_tomato_sauces',\n",
    "'Formulated_nutrition_beverages_energy_drinks_sports_drinks_function':'Formulated_nutrition_beverages_energy_drinks_sports_drinks'}"
   ]
  },
  {
   "cell_type": "code",
   "execution_count": 15,
   "id": "93f68102",
   "metadata": {},
   "outputs": [],
   "source": [
    "labels['Main.food.description'] = labels['Main.food.description'].replace(to_replace)"
   ]
  },
  {
   "cell_type": "code",
   "execution_count": 16,
   "id": "6726bba6",
   "metadata": {},
   "outputs": [],
   "source": [
    "x = labels"
   ]
  },
  {
   "cell_type": "code",
   "execution_count": 17,
   "id": "eed85b89",
   "metadata": {},
   "outputs": [],
   "source": [
    "x.rename(columns={'Level.code':'FoodID'},inplace=True)"
   ]
  },
  {
   "cell_type": "code",
   "execution_count": 18,
   "id": "ca1aa585",
   "metadata": {},
   "outputs": [],
   "source": [
    "y = taxa.merge(x, on='FoodID', how='left')"
   ]
  },
  {
   "cell_type": "code",
   "execution_count": 20,
   "id": "c1f6aa07",
   "metadata": {},
   "outputs": [],
   "source": [
    "# full mapping of taxonomy to ingredients\n",
    "y.rename(columns={'Main.food.description_x':'ingred_desc', 'Main.food.description_y':'taxon'},inplace=True)\n",
    "y.to_csv('../../data/02/all_ingred_codes_taxa_082323.csv',index=None)"
   ]
  },
  {
   "cell_type": "code",
   "execution_count": 21,
   "id": "d1ef89a3",
   "metadata": {},
   "outputs": [],
   "source": [
    "# list of all unique ingredients in wweia data\n",
    "taxa[['Main.food.description', 'Ingredient code']].to_csv('../../data/02/wweia_ingredient_list.csv', index=None)"
   ]
  },
  {
   "cell_type": "code",
   "execution_count": 22,
   "id": "1a91112d",
   "metadata": {},
   "outputs": [],
   "source": [
    "# Count the number of ingredient codes within each of the distinct taxonomic levels."
   ]
  },
  {
   "cell_type": "code",
   "execution_count": 23,
   "id": "eae75281",
   "metadata": {},
   "outputs": [],
   "source": [
    "taxa_count = taxa.FoodID.value_counts().to_frame()"
   ]
  },
  {
   "cell_type": "code",
   "execution_count": 24,
   "id": "f8a32ba6",
   "metadata": {},
   "outputs": [],
   "source": [
    "taxa_count.reset_index(inplace=True)"
   ]
  },
  {
   "cell_type": "code",
   "execution_count": 25,
   "id": "fd1df22b",
   "metadata": {
    "scrolled": true
   },
   "outputs": [],
   "source": [
    "taxa_count.rename(columns={'index':'Level.code', 'FoodID':'count'}, inplace=True)"
   ]
  },
  {
   "cell_type": "code",
   "execution_count": 26,
   "id": "a58d48ea",
   "metadata": {},
   "outputs": [
    {
     "data": {
      "text/html": [
       "<div>\n",
       "<style scoped>\n",
       "    .dataframe tbody tr th:only-of-type {\n",
       "        vertical-align: middle;\n",
       "    }\n",
       "\n",
       "    .dataframe tbody tr th {\n",
       "        vertical-align: top;\n",
       "    }\n",
       "\n",
       "    .dataframe thead th {\n",
       "        text-align: right;\n",
       "    }\n",
       "</style>\n",
       "<table border=\"1\" class=\"dataframe\">\n",
       "  <thead>\n",
       "    <tr style=\"text-align: right;\">\n",
       "      <th></th>\n",
       "      <th>FoodID</th>\n",
       "      <th>Main.food.description</th>\n",
       "      <th>Ingredient code</th>\n",
       "    </tr>\n",
       "  </thead>\n",
       "  <tbody>\n",
       "    <tr>\n",
       "      <th>0</th>\n",
       "      <td>81101</td>\n",
       "      <td>Butter_salted</td>\n",
       "      <td>1001</td>\n",
       "    </tr>\n",
       "    <tr>\n",
       "      <th>1</th>\n",
       "      <td>81107</td>\n",
       "      <td>Butter_whipped_with_salt</td>\n",
       "      <td>1002</td>\n",
       "    </tr>\n",
       "    <tr>\n",
       "      <th>2</th>\n",
       "      <td>81101</td>\n",
       "      <td>Butter_oil_anhydrous</td>\n",
       "      <td>1003</td>\n",
       "    </tr>\n",
       "    <tr>\n",
       "      <th>3</th>\n",
       "      <td>14101</td>\n",
       "      <td>Cheese_blue</td>\n",
       "      <td>1004</td>\n",
       "    </tr>\n",
       "    <tr>\n",
       "      <th>4</th>\n",
       "      <td>14102</td>\n",
       "      <td>Cheese_brick</td>\n",
       "      <td>1005</td>\n",
       "    </tr>\n",
       "    <tr>\n",
       "      <th>...</th>\n",
       "      <td>...</td>\n",
       "      <td>...</td>\n",
       "      <td>...</td>\n",
       "    </tr>\n",
       "    <tr>\n",
       "      <th>2749</th>\n",
       "      <td>2522</td>\n",
       "      <td>Sausage_pork_chorizo_link_or_ground_cooked_pan...</td>\n",
       "      <td>100173</td>\n",
       "    </tr>\n",
       "    <tr>\n",
       "      <th>2727</th>\n",
       "      <td>25230</td>\n",
       "      <td>REDUCED_SODIUM_Ham_sliced_prepackaged_deli_mea...</td>\n",
       "      <td>907028</td>\n",
       "    </tr>\n",
       "    <tr>\n",
       "      <th>2731</th>\n",
       "      <td>25230</td>\n",
       "      <td>REDUCED_SODIUM_Turkey_breast_sliced_prepackaged</td>\n",
       "      <td>907081</td>\n",
       "    </tr>\n",
       "    <tr>\n",
       "      <th>2732</th>\n",
       "      <td>25230</td>\n",
       "      <td>REDUCED_SODIUM_Chicken_breast_deli_rotisserie_...</td>\n",
       "      <td>907961</td>\n",
       "    </tr>\n",
       "    <tr>\n",
       "      <th>2735</th>\n",
       "      <td>990</td>\n",
       "      <td>Vitamin_D_as_ingredient</td>\n",
       "      <td>999328</td>\n",
       "    </tr>\n",
       "  </tbody>\n",
       "</table>\n",
       "<p>1277 rows × 3 columns</p>\n",
       "</div>"
      ],
      "text/plain": [
       "      FoodID                              Main.food.description  \\\n",
       "0      81101                                      Butter_salted   \n",
       "1      81107                           Butter_whipped_with_salt   \n",
       "2      81101                               Butter_oil_anhydrous   \n",
       "3      14101                                        Cheese_blue   \n",
       "4      14102                                       Cheese_brick   \n",
       "...      ...                                                ...   \n",
       "2749    2522  Sausage_pork_chorizo_link_or_ground_cooked_pan...   \n",
       "2727   25230  REDUCED_SODIUM_Ham_sliced_prepackaged_deli_mea...   \n",
       "2731   25230    REDUCED_SODIUM_Turkey_breast_sliced_prepackaged   \n",
       "2732   25230  REDUCED_SODIUM_Chicken_breast_deli_rotisserie_...   \n",
       "2735     990                            Vitamin_D_as_ingredient   \n",
       "\n",
       "      Ingredient code  \n",
       "0                1001  \n",
       "1                1002  \n",
       "2                1003  \n",
       "3                1004  \n",
       "4                1005  \n",
       "...               ...  \n",
       "2749           100173  \n",
       "2727           907028  \n",
       "2731           907081  \n",
       "2732           907961  \n",
       "2735           999328  \n",
       "\n",
       "[1277 rows x 3 columns]"
      ]
     },
     "execution_count": 26,
     "metadata": {},
     "output_type": "execute_result"
    }
   ],
   "source": [
    "taxa.sort_values(by='Ingredient code')"
   ]
  },
  {
   "cell_type": "code",
   "execution_count": 27,
   "id": "c1cb2145",
   "metadata": {},
   "outputs": [],
   "source": [
    "labels.rename(columns={'FoodID':'Level.code'}, inplace=True)"
   ]
  },
  {
   "cell_type": "code",
   "execution_count": 28,
   "id": "874269dc",
   "metadata": {},
   "outputs": [],
   "source": [
    "# count of all foods per taxon\n",
    "taxa_count.merge(labels, on='Level.code', how='left').to_csv('../../data/02/taxa_level_count.csv', index=None)"
   ]
  },
  {
   "cell_type": "code",
   "execution_count": 29,
   "id": "86a29669",
   "metadata": {},
   "outputs": [],
   "source": [
    "taxa.to_csv('../../data/02/wweia_ingredient_taxa.txt', sep='\\t', index=None)"
   ]
  },
  {
   "cell_type": "code",
   "execution_count": 31,
   "id": "781defe4",
   "metadata": {},
   "outputs": [],
   "source": [
    "labels.to_csv('../../data/02/NodeLabelsMCT_updated_082323.txt', sep='\\t', index=None)"
   ]
  }
 ],
 "metadata": {
  "kernelspec": {
   "display_name": "Python 3 (ipykernel)",
   "language": "python",
   "name": "python3"
  },
  "language_info": {
   "codemirror_mode": {
    "name": "ipython",
    "version": 3
   },
   "file_extension": ".py",
   "mimetype": "text/x-python",
   "name": "python",
   "nbconvert_exporter": "python",
   "pygments_lexer": "ipython3",
   "version": "3.8.8"
  }
 },
 "nbformat": 4,
 "nbformat_minor": 5
}
