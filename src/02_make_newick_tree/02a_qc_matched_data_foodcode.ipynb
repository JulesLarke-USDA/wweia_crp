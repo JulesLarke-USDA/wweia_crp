{
 "cells": [
  {
   "cell_type": "markdown",
   "id": "e52e4953",
   "metadata": {},
   "source": [
    "### Title: 02a_qc_matched_data_foodcode\n",
    "### Purpose: Match Food Codes for NHANES dataset to node labels\n",
    "### Date: April 10, 2024\n",
    "### Author: Jules Larke"
   ]
  },
  {
   "cell_type": "code",
   "execution_count": 1,
   "id": "6121a7eb",
   "metadata": {},
   "outputs": [],
   "source": [
    "import pandas as pd\n",
    "import numpy as np\n",
    "import string"
   ]
  },
  {
   "cell_type": "code",
   "execution_count": 2,
   "id": "5e6a1cf9",
   "metadata": {
    "scrolled": true
   },
   "outputs": [],
   "source": [
    "# most updated taxonomy file: updated_taxonomy_060623.csv (modified from text_matching_complete, should rewrite)\n",
    "taxa = pd.read_csv('../../data/02/foodcode/NodeLabelsMCT.txt', sep='\\t')\n",
    "foodcodes = pd.read_csv('../../data/00/foodcode/wweia_crp_unique_food_codes.csv')"
   ]
  },
  {
   "cell_type": "code",
   "execution_count": 3,
   "id": "c3f96e22",
   "metadata": {},
   "outputs": [],
   "source": [
    "foodcodes['foodcode'] = foodcodes['foodcode'].astype(int)"
   ]
  },
  {
   "cell_type": "code",
   "execution_count": 4,
   "id": "16bef40c",
   "metadata": {},
   "outputs": [],
   "source": [
    "foodcodes.rename(columns={'foodcode':'FoodID', 'DRXFCLD':'Main.food.description'}, inplace=True)"
   ]
  },
  {
   "cell_type": "code",
   "execution_count": 5,
   "id": "539a3bbe",
   "metadata": {},
   "outputs": [],
   "source": [
    "punct = string.punctuation"
   ]
  },
  {
   "cell_type": "code",
   "execution_count": 6,
   "id": "94b2c0de",
   "metadata": {},
   "outputs": [],
   "source": [
    "def clean_text(text):\n",
    "    text = \"\".join([word for word in text if word not in punct])\n",
    "    return text\n",
    "\n",
    "foodcodes['Main.food.description'] = foodcodes['Main.food.description'].apply(lambda x: clean_text(x))\n",
    "foodcodes['Main.food.description'] = foodcodes['Main.food.description'].str.replace(' ', '_')\n",
    "foodcodes['Main.food.description'] = foodcodes['Main.food.description'].str.lower()"
   ]
  },
  {
   "cell_type": "code",
   "execution_count": 7,
   "id": "86a29669",
   "metadata": {},
   "outputs": [],
   "source": [
    "foodcodes.to_csv('../../data/02/foodcode/wweia_foodcode_taxa.txt', sep='\\t', index=None)"
   ]
  }
 ],
 "metadata": {
  "kernelspec": {
   "display_name": "Python 3 (ipykernel)",
   "language": "python",
   "name": "python3"
  },
  "language_info": {
   "codemirror_mode": {
    "name": "ipython",
    "version": 3
   },
   "file_extension": ".py",
   "mimetype": "text/x-python",
   "name": "python",
   "nbconvert_exporter": "python",
   "pygments_lexer": "ipython3",
   "version": "3.11.5"
  }
 },
 "nbformat": 4,
 "nbformat_minor": 5
}
