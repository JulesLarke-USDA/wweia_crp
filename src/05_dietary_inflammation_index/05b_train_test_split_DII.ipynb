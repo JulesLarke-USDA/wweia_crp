{
 "cells": [
  {
   "cell_type": "code",
   "execution_count": 1,
   "id": "6f8fb016",
   "metadata": {},
   "outputs": [],
   "source": [
    "import pandas as pd"
   ]
  },
  {
   "cell_type": "code",
   "execution_count": 2,
   "id": "4c9ac079",
   "metadata": {},
   "outputs": [],
   "source": [
    "dii = pd.read_csv('/Users/jules.larke/work/nhanes_crp/data/05/dii/crp_dii_wweia.csv')\n",
    "y_test = pd.read_csv('/Users/jules.larke/work/nhanes_crp/data/04/processed_for_ml/binary_class/y_test_class.csv')\n",
    "y_train = pd.read_csv('/Users/jules.larke/work/nhanes_crp/data/04/processed_for_ml/binary_class/y_train_class.csv')\n",
    "\n",
    "foodtree_test = pd.read_csv('/Users/jules.larke/work/nhanes_crp/data/04/processed_for_ml/binary_class/x_test_no_sf_diet.csv', usecols=['SEQN'])\n",
    "foodtree_train = pd.read_csv('/Users/jules.larke/work/nhanes_crp/data/04/processed_for_ml/binary_class/x_train_taxahfe_no_sf_diet.csv', usecols=['SEQN'])"
   ]
  },
  {
   "cell_type": "code",
   "execution_count": 3,
   "id": "bf4e55e7",
   "metadata": {},
   "outputs": [],
   "source": [
    "dii = dii[dii['ever_smoker']!='unknown']\n",
    "dii = dii[dii['hypertension']!='unknown']\n",
    "dii = dii[dii['diabetes']!='unknown']"
   ]
  },
  {
   "cell_type": "code",
   "execution_count": 4,
   "id": "903a35df",
   "metadata": {},
   "outputs": [
    {
     "data": {
      "text/plain": [
       "(19460, 13)"
      ]
     },
     "execution_count": 4,
     "metadata": {},
     "output_type": "execute_result"
    }
   ],
   "source": [
    "dii.shape # 19460, same as data for food tree"
   ]
  },
  {
   "cell_type": "code",
   "execution_count": 5,
   "id": "1dcde2e5",
   "metadata": {},
   "outputs": [],
   "source": [
    "dii = dii[dii['ever_smoker']!='unknown']\n",
    "dii = dii[dii['hypertension']!='unknown']\n",
    "dii = dii[dii['diabetes']!='unknown']"
   ]
  },
  {
   "cell_type": "code",
   "execution_count": 6,
   "id": "aaf8212c",
   "metadata": {},
   "outputs": [],
   "source": [
    "dii = pd.get_dummies(dii, dtype='int')"
   ]
  },
  {
   "cell_type": "code",
   "execution_count": 7,
   "id": "e931457d-7580-45e1-9d00-c533324812f3",
   "metadata": {},
   "outputs": [],
   "source": [
    "dii = dii.drop(columns=['education_unknown']) # remove participants with unknown education"
   ]
  },
  {
   "cell_type": "code",
   "execution_count": 8,
   "id": "c1083cc4-d6e9-4c27-8634-da5511d3cd71",
   "metadata": {},
   "outputs": [],
   "source": [
    "x_test = dii[dii['SEQN'].isin(y_test['SEQN'])]"
   ]
  },
  {
   "cell_type": "code",
   "execution_count": 9,
   "id": "5b4c561a-0708-488b-adf4-ab4becd8f506",
   "metadata": {},
   "outputs": [],
   "source": [
    "x_test = x_test.drop(columns=['crp', 'diet_wts'])"
   ]
  },
  {
   "cell_type": "code",
   "execution_count": 10,
   "id": "f16c3ec6-dcd4-489d-acd9-b89f7e5003be",
   "metadata": {},
   "outputs": [],
   "source": [
    "x_train = dii[dii['SEQN'].isin(y_train['SEQN'])]"
   ]
  },
  {
   "cell_type": "code",
   "execution_count": 11,
   "id": "60f5c40b-e30e-42be-8e6d-47418ce2dcdb",
   "metadata": {},
   "outputs": [],
   "source": [
    "sw_train = x_train[['SEQN','diet_wts']]"
   ]
  },
  {
   "cell_type": "code",
   "execution_count": 12,
   "id": "348b55ac-a80d-4843-9f38-bf4de294dc4c",
   "metadata": {},
   "outputs": [],
   "source": [
    "x_train = x_train.drop(columns=['crp', 'diet_wts'])"
   ]
  },
  {
   "cell_type": "code",
   "execution_count": 13,
   "id": "549b4543",
   "metadata": {},
   "outputs": [],
   "source": [
    "y_test.to_csv('../../data/05/dii/y_test.csv', index=None)\n",
    "y_train.to_csv('../../data/05/dii/y_train.csv', index=None)\n",
    "sw_train.to_csv('../../data/05/dii/sw_train.csv', index=None)"
   ]
  },
  {
   "cell_type": "code",
   "execution_count": 14,
   "id": "cf46a65a",
   "metadata": {},
   "outputs": [],
   "source": [
    "x_train_diet = x_train[['SEQN', 'DII']]"
   ]
  },
  {
   "cell_type": "code",
   "execution_count": 15,
   "id": "de93fd4e",
   "metadata": {},
   "outputs": [],
   "source": [
    "x_test_diet = x_test[['SEQN', 'DII']]"
   ]
  },
  {
   "cell_type": "code",
   "execution_count": 16,
   "id": "a6da781e-3a1c-4ae8-a45b-fcd9af54524a",
   "metadata": {},
   "outputs": [],
   "source": [
    "x_test.to_csv('../../data/05/dii/x_test.csv', index=None)\n",
    "x_train.to_csv('../../data/05/dii/x_train.csv', index=None)\n",
    "x_test_diet.to_csv('../../data/05/dii/x_test_diet.csv', index=None)\n",
    "x_train_diet.to_csv('../../data/05/dii/x_train_diet.csv', index=None)"
   ]
  },
  {
   "cell_type": "code",
   "execution_count": 18,
   "id": "997ed5be",
   "metadata": {},
   "outputs": [
    {
     "name": "stdout",
     "output_type": "stream",
     "text": [
      "x_test (2582, 22)\n",
      "x_train (10327, 22)\n",
      "y_test (2582, 2)\n",
      "y_train (10327, 2)\n",
      "x_test_diet (2582, 2)\n",
      "x_train_diet (10327, 2)\n"
     ]
    }
   ],
   "source": [
    "print('x_test', x_test.shape)\n",
    "print('x_train', x_train.shape)\n",
    "print('y_test', y_test.shape)\n",
    "print('y_train', y_train.shape)\n",
    "print('x_test_diet', x_test_diet.shape)\n",
    "print('x_train_diet', x_train_diet.shape)"
   ]
  }
 ],
 "metadata": {
  "kernelspec": {
   "display_name": "Python 3 (ipykernel)",
   "language": "python",
   "name": "python3"
  },
  "language_info": {
   "codemirror_mode": {
    "name": "ipython",
    "version": 3
   },
   "file_extension": ".py",
   "mimetype": "text/x-python",
   "name": "python",
   "nbconvert_exporter": "python",
   "pygments_lexer": "ipython3",
   "version": "3.11.5"
  }
 },
 "nbformat": 4,
 "nbformat_minor": 5
}
