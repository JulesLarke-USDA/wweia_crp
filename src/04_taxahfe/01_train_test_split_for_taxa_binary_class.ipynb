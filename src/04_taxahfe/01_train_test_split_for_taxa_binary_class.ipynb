{
 "cells": [
  {
   "cell_type": "code",
   "execution_count": 1,
   "id": "47f474f6",
   "metadata": {},
   "outputs": [],
   "source": [
    "from sklearn.model_selection import train_test_split\n",
    "import pandas as pd"
   ]
  },
  {
   "cell_type": "code",
   "execution_count": 3,
   "id": "fdd57ce9",
   "metadata": {},
   "outputs": [],
   "source": [
    "wts = pd.read_csv('../../data/00/wweia_wts.csv')\n",
    "crp = pd.read_csv('../../data/00/crp_target.csv')\n",
    "otu = pd.read_csv('../../data/03/ingred_otu_e_adjust_drywt_no_salt_water.txt', sep='\\t')\n",
    "cov = pd.read_csv('../../data/00/wweia_covariates.csv')"
   ]
  },
  {
   "cell_type": "code",
   "execution_count": 7,
   "id": "df3cbdfb",
   "metadata": {},
   "outputs": [],
   "source": [
    "crp = crp.merge(cov, on='SEQN')"
   ]
  },
  {
   "cell_type": "code",
   "execution_count": 8,
   "id": "5af6b47f",
   "metadata": {},
   "outputs": [],
   "source": [
    "crp = crp[crp['ever_smoker']!='unknown']\n",
    "crp = crp[crp['hypertension']!='unknown']\n",
    "crp = crp[crp['diabetes']!='unknown']"
   ]
  },
  {
   "cell_type": "code",
   "execution_count": 10,
   "id": "c75e461a",
   "metadata": {
    "scrolled": true
   },
   "outputs": [],
   "source": [
    "# create feature for tertiles of crp\n",
    "tertiles = crp['crp'].quantile([1/3, 2/3]).tolist()\n",
    "tertiles = [0] + tertiles + [float('inf')]\n",
    "crp['crp_class'] = pd.cut(crp['crp'], bins=tertiles, labels=[0, 9, 1]) # mid tertile = 9, remove"
   ]
  },
  {
   "cell_type": "code",
   "execution_count": 6,
   "id": "c9fc9963",
   "metadata": {},
   "outputs": [],
   "source": [
    "crp.drop(columns=['crp'],inplace=True)"
   ]
  },
  {
   "cell_type": "code",
   "execution_count": 7,
   "id": "32185c8c",
   "metadata": {},
   "outputs": [],
   "source": [
    "crp = crp[crp['crp_class']!=9] # remove middle tertile"
   ]
  },
  {
   "cell_type": "code",
   "execution_count": 8,
   "id": "7edd0236",
   "metadata": {},
   "outputs": [],
   "source": [
    "crp[['SEQN', 'crp_class']].to_csv('../../data/00/crp_class_target.csv', index=None)"
   ]
  },
  {
   "cell_type": "code",
   "execution_count": 9,
   "id": "091d09f4",
   "metadata": {},
   "outputs": [],
   "source": [
    "wts = wts[wts['SEQN'].isin(crp['SEQN'])]"
   ]
  },
  {
   "cell_type": "code",
   "execution_count": 10,
   "id": "8ec465c6",
   "metadata": {},
   "outputs": [],
   "source": [
    "crp.set_index('SEQN', inplace=True)\n",
    "wts.set_index('SEQN', inplace=True)"
   ]
  },
  {
   "cell_type": "code",
   "execution_count": 11,
   "id": "15aa5542",
   "metadata": {},
   "outputs": [],
   "source": [
    "y_train, y_test, sw_train, sw_test = train_test_split(crp, wts, stratify=crp['crp_class'], shuffle=True, test_size=0.2)"
   ]
  },
  {
   "cell_type": "code",
   "execution_count": 12,
   "id": "f01ffd64",
   "metadata": {},
   "outputs": [],
   "source": [
    "train_set = y_train.reset_index()"
   ]
  },
  {
   "cell_type": "code",
   "execution_count": 13,
   "id": "430b402d",
   "metadata": {},
   "outputs": [],
   "source": [
    "train_set = train_set['SEQN'].astype(int)"
   ]
  },
  {
   "cell_type": "code",
   "execution_count": 14,
   "id": "c3d02f0b",
   "metadata": {},
   "outputs": [],
   "source": [
    "train_set = train_set.astype(str)"
   ]
  },
  {
   "cell_type": "code",
   "execution_count": 15,
   "id": "e3e1d256",
   "metadata": {},
   "outputs": [],
   "source": [
    "otu_train = otu[otu.columns[otu.columns.isin(train_set)]]"
   ]
  },
  {
   "cell_type": "code",
   "execution_count": 17,
   "id": "8b5b85ac",
   "metadata": {},
   "outputs": [],
   "source": [
    "pd.concat([otu['clade_name'], otu_train],axis=1).to_csv('../../data/04/for_hfe/otu_train_class.txt', sep='\\t', index=None)"
   ]
  },
  {
   "cell_type": "code",
   "execution_count": 18,
   "id": "e8cdf5cd",
   "metadata": {},
   "outputs": [],
   "source": [
    "y_train.reset_index(inplace=True)"
   ]
  },
  {
   "cell_type": "code",
   "execution_count": 19,
   "id": "f80f96e8",
   "metadata": {},
   "outputs": [],
   "source": [
    "y_train.SEQN = y_train.SEQN.astype(int)"
   ]
  },
  {
   "cell_type": "code",
   "execution_count": 21,
   "id": "e66eaff3",
   "metadata": {},
   "outputs": [
    {
     "data": {
      "text/plain": [
       "(10327, 11)"
      ]
     },
     "execution_count": 21,
     "metadata": {},
     "output_type": "execute_result"
    }
   ],
   "source": [
    "y_train.shape"
   ]
  },
  {
   "cell_type": "code",
   "execution_count": 22,
   "id": "5f49b656",
   "metadata": {},
   "outputs": [
    {
     "data": {
      "text/plain": [
       "(2582, 10)"
      ]
     },
     "execution_count": 22,
     "metadata": {},
     "output_type": "execute_result"
    }
   ],
   "source": [
    "y_test.shape"
   ]
  },
  {
   "cell_type": "code",
   "execution_count": 24,
   "id": "24b421e6",
   "metadata": {},
   "outputs": [],
   "source": [
    "y_train.to_csv('../../data/04/for_hfe/y_train_class.txt', sep='\\t', index=None) # input for taxaHFE\n",
    "sw_train.to_csv('../../data/04/processed_for_ml/sw_train_class.csv', index=True) # input for ML\n",
    "y_test.to_csv('../../data/04/processed_for_ml/y_test_class.csv', index=True) # input for ML\n",
    "sw_test.to_csv('../../data/04/processed_for_ml/sw_test_class.csv', index=True) # input for ML"
   ]
  }
 ],
 "metadata": {
  "kernelspec": {
   "display_name": "Python 3 (ipykernel)",
   "language": "python",
   "name": "python3"
  },
  "language_info": {
   "codemirror_mode": {
    "name": "ipython",
    "version": 3
   },
   "file_extension": ".py",
   "mimetype": "text/x-python",
   "name": "python",
   "nbconvert_exporter": "python",
   "pygments_lexer": "ipython3",
   "version": "3.11.5"
  }
 },
 "nbformat": 4,
 "nbformat_minor": 5
}
