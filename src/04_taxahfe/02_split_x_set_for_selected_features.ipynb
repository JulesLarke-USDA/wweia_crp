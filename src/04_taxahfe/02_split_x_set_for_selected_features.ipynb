{
 "cells": [
  {
   "cell_type": "code",
   "execution_count": 1,
   "id": "43c32581",
   "metadata": {},
   "outputs": [],
   "source": [
    "import pandas as pd\n",
    "import numpy as np"
   ]
  },
  {
   "cell_type": "code",
   "execution_count": 2,
   "id": "7ac2e96b",
   "metadata": {},
   "outputs": [],
   "source": [
    "# load training data\n",
    "x_train = pd.read_csv('../../data/04/post_hfe_binary_class/crp_train_binary_no_sf.csv')\n",
    "x_train.rename(columns={'subject_id':'SEQN'}, inplace=True)\n",
    "y_train = pd.read_csv('../../data/04/e_adjust/y_train_class.txt', sep='\\t', usecols=['SEQN', 'crp_class'])\n",
    "sw_train = pd.read_csv('../../data/04/e_adjust/sw_train_class.csv')\n",
    "cov = pd.read_csv('../../data/00/wweia_covariates.csv')"
   ]
  },
  {
   "cell_type": "code",
   "execution_count": 3,
   "id": "d0298071",
   "metadata": {},
   "outputs": [],
   "source": [
    "cov = pd.get_dummies(cov)"
   ]
  },
  {
   "cell_type": "code",
   "execution_count": 4,
   "id": "971de3a3",
   "metadata": {},
   "outputs": [],
   "source": [
    "cov = cov.dropna()"
   ]
  },
  {
   "cell_type": "code",
   "execution_count": 6,
   "id": "9f711cf0",
   "metadata": {},
   "outputs": [],
   "source": [
    "# dont want to include the unknown dummy cat for each covariate\n",
    "cov.drop(columns=['education_unknown', 'ever_smoker_unknown', 'diabetes_unknown', 'hypertension_unknown'], inplace=True)"
   ]
  },
  {
   "cell_type": "code",
   "execution_count": 7,
   "id": "184b7081",
   "metadata": {},
   "outputs": [],
   "source": [
    "cov.SEQN = cov.SEQN.astype(int)"
   ]
  },
  {
   "cell_type": "code",
   "execution_count": 8,
   "id": "55bce81e",
   "metadata": {},
   "outputs": [],
   "source": [
    "crp_train_out = x_train.merge(cov, on='SEQN', how='left')"
   ]
  },
  {
   "cell_type": "code",
   "execution_count": 10,
   "id": "a3c1432b",
   "metadata": {},
   "outputs": [],
   "source": [
    "crp_train_out.drop(columns=['feature_of_interest'],inplace=True)\n",
    "crp_train_out.to_csv('../../data/04/processed_for_ml/binary_class/x_train_taxahfe_no_sf.csv', index=None)"
   ]
  },
  {
   "cell_type": "code",
   "execution_count": 11,
   "id": "6f05762a",
   "metadata": {},
   "outputs": [],
   "source": [
    "# save diet features for ML\n",
    "crp_train_out[['SEQN', 'l3_milk_cow', 'l1_meat_poultry_fish_and_mixtures', 'l1_eggs',\n",
    "       'l5_soy_flour', 'l2_seeds_and_seed_mixtures',\n",
    "       'l2_pastas_cooked_cereals', 'l2_dried_fruits',\n",
    "       'l3_white_potatoes_baked_and_boiled', 'l2_darkgreen_vegetables',\n",
    "       'l5_carrots_raw', 'l2_tomatoes_and_tomato_mixtures', 'l5_garlic',\n",
    "       'l3_other_vegetables_cooked', 'l2_fats', 'l4_canola_oil',\n",
    "       'l2_nonalcoholic_beverages', 'l2_alcoholic_beverages']].to_csv('../../data/04/processed_for_ml/binary_class/x_train_taxahfe_no_sf_diet.csv', index=None)"
   ]
  },
  {
   "cell_type": "code",
   "execution_count": 12,
   "id": "b08186f2",
   "metadata": {},
   "outputs": [],
   "source": [
    "y_train = y_train[y_train['SEQN'].isin(crp_train_out['SEQN'])]"
   ]
  },
  {
   "cell_type": "code",
   "execution_count": 13,
   "id": "7ca67f68",
   "metadata": {},
   "outputs": [],
   "source": [
    "sw_train = sw_train[sw_train['SEQN'].isin(crp_train_out['SEQN'])]"
   ]
  },
  {
   "cell_type": "code",
   "execution_count": 14,
   "id": "896c430b",
   "metadata": {},
   "outputs": [],
   "source": [
    "sw_train.to_csv('../../data/04/processed_for_ml/binary_class/sw_train_taxahfe.csv',index=None)"
   ]
  },
  {
   "cell_type": "code",
   "execution_count": 15,
   "id": "2e53cb1d",
   "metadata": {},
   "outputs": [],
   "source": [
    "# parse levels of taxa for selecting"
   ]
  },
  {
   "cell_type": "code",
   "execution_count": 16,
   "id": "54fc5279",
   "metadata": {},
   "outputs": [
    {
     "data": {
      "text/plain": [
       "Index(['Age', 'BMI', 'Ethnicity_Mexican_American',\n",
       "       'Ethnicity_Non-Hispanic_Black', 'Ethnicity_Non-Hispanic_White',\n",
       "       'Ethnicity_Other_Hispanic', 'Ethnicity_Other_Multi-Racial', 'SEQN',\n",
       "       'Sex_Female', 'Sex_Male', 'diabetes_no', 'diabetes_yes',\n",
       "       'education_college graduate',\n",
       "       'education_high school graduate or equivalent',\n",
       "       'education_less than high school graduate', 'education_some college',\n",
       "       'ever_smoker_no', 'ever_smoker_yes', 'family_pir', 'hypertension_no',\n",
       "       'hypertension_yes', 'l1_eggs', 'l1_meat_poultry_fish_and_mixtures',\n",
       "       'l2_alcoholic_beverages', 'l2_darkgreen_vegetables', 'l2_dried_fruits',\n",
       "       'l2_fats', 'l2_nonalcoholic_beverages', 'l2_pastas_cooked_cereals',\n",
       "       'l2_seeds_and_seed_mixtures', 'l2_tomatoes_and_tomato_mixtures',\n",
       "       'l3_milk_cow', 'l3_other_vegetables_cooked',\n",
       "       'l3_white_potatoes_baked_and_boiled', 'l4_canola_oil', 'l5_carrots_raw',\n",
       "       'l5_garlic', 'l5_soy_flour'],\n",
       "      dtype='object')"
      ]
     },
     "execution_count": 16,
     "metadata": {},
     "output_type": "execute_result"
    }
   ],
   "source": [
    "crp_train_out.columns.sort_values()"
   ]
  },
  {
   "cell_type": "code",
   "execution_count": 17,
   "id": "d50e3292",
   "metadata": {},
   "outputs": [],
   "source": [
    "L1_list = ['l1_eggs', 'l1_meat_poultry_fish_and_mixtures']\n",
    "\n",
    "L2_list = ['l2_alcoholic_beverages', 'l2_darkgreen_vegetables', 'l2_dried_fruits',\n",
    "       'l2_fats', 'l2_nonalcoholic_beverages', 'l2_pastas_cooked_cereals',\n",
    "       'l2_seeds_and_seed_mixtures', 'l2_tomatoes_and_tomato_mixtures']\n",
    "\n",
    "L3_list = ['l3_milk_cow', 'l3_other_vegetables_cooked',\n",
    "       'l3_white_potatoes_baked_and_boiled']\n",
    "\n",
    "L4_list = ['l4_canola_oil']\n",
    "\n",
    "L5_list = ['l5_carrots_raw',\n",
    "       'l5_garlic', 'l5_soy_flour']"
   ]
  },
  {
   "cell_type": "code",
   "execution_count": 18,
   "id": "1be2941c",
   "metadata": {},
   "outputs": [],
   "source": [
    "# load full datasets to generate test set\n",
    "x_all = pd.read_csv('../../data/03/ingred_otu_e_adjust_drywt_no_salt_water.txt', sep='\\t')\n",
    "x_all.rename(columns={'subject_id':'SEQN'}, inplace=True)\n",
    "y_all = pd.read_csv('../../data/04/e_adjust/y_train_class.txt', sep='\\t', usecols=['SEQN', 'crp_class'])\n",
    "sw_all = pd.read_csv('../../data/04/e_adjust/sw_train_class.csv')"
   ]
  },
  {
   "cell_type": "code",
   "execution_count": 20,
   "id": "f4cfdd1d",
   "metadata": {},
   "outputs": [],
   "source": [
    "train_set = y_train['SEQN'].astype(str)"
   ]
  },
  {
   "cell_type": "code",
   "execution_count": 21,
   "id": "71db4805",
   "metadata": {},
   "outputs": [],
   "source": [
    "x_test = x_all[x_all.columns[~x_all.columns.isin(train_set)]]"
   ]
  },
  {
   "cell_type": "code",
   "execution_count": 22,
   "id": "a63d8e16",
   "metadata": {},
   "outputs": [],
   "source": [
    "levels = x_test['clade_name'].str.split('|', expand=True)"
   ]
  },
  {
   "cell_type": "code",
   "execution_count": 23,
   "id": "f155cb66",
   "metadata": {},
   "outputs": [],
   "source": [
    "levels = levels.apply(lambda x: x.astype(str).str.lower())"
   ]
  },
  {
   "cell_type": "code",
   "execution_count": 24,
   "id": "00bab8da",
   "metadata": {},
   "outputs": [],
   "source": [
    "otu_test_levels = pd.concat([levels, x_test], axis=1)"
   ]
  },
  {
   "cell_type": "code",
   "execution_count": 26,
   "id": "6f178b25",
   "metadata": {},
   "outputs": [],
   "source": [
    "otu_test_levels = otu_test_levels.rename(columns=({0:'L1', 1:'L2', 2:'L3', 3:'L4', 4:'L5', 5:'ingredient'}))"
   ]
  },
  {
   "cell_type": "code",
   "execution_count": 27,
   "id": "8cde0db0",
   "metadata": {},
   "outputs": [],
   "source": [
    "L1_group = otu_test_levels[otu_test_levels['L1'].isin(L1_list)]\n",
    "\n",
    "L1 = L1_group.groupby('L1')\n",
    "L1 = L1.sum()\n",
    "\n",
    "L1.reset_index(inplace=True)\n",
    "L1.rename(columns={'L1': 'clade_name'},inplace=True)"
   ]
  },
  {
   "cell_type": "code",
   "execution_count": 28,
   "id": "d60acf79",
   "metadata": {},
   "outputs": [],
   "source": [
    "L2_group = otu_test_levels[otu_test_levels['L2'].isin(L2_list)]\n",
    "\n",
    "L2 = L2_group.groupby('L2')\n",
    "L2 = L2.sum()\n",
    "\n",
    "L2.reset_index(inplace=True)\n",
    "L2.rename(columns={'L2': 'clade_name'},inplace=True)"
   ]
  },
  {
   "cell_type": "code",
   "execution_count": 29,
   "id": "1602c30c",
   "metadata": {},
   "outputs": [],
   "source": [
    "L3_group = otu_test_levels[otu_test_levels['L3'].isin(L3_list)]\n",
    "\n",
    "L3 = L3_group.groupby('L3')\n",
    "L3 = L3.sum()\n",
    "\n",
    "L3.reset_index(inplace=True)\n",
    "L3.rename(columns={'L3': 'clade_name'},inplace=True)"
   ]
  },
  {
   "cell_type": "code",
   "execution_count": 30,
   "id": "53f1dd95",
   "metadata": {},
   "outputs": [],
   "source": [
    "L4_group = otu_test_levels[otu_test_levels['L4'].isin(L4_list)]\n",
    "\n",
    "L4 = L4_group.groupby('L4')\n",
    "L4 = L4.sum()\n",
    "\n",
    "L4.reset_index(inplace=True)\n",
    "L4.rename(columns={'L4': 'clade_name'},inplace=True)"
   ]
  },
  {
   "cell_type": "code",
   "execution_count": 31,
   "id": "fb52b041",
   "metadata": {},
   "outputs": [],
   "source": [
    "L5_group = otu_test_levels[otu_test_levels['L5'].isin(L5_list)]\n",
    "\n",
    "L5 = L5_group.groupby('L5')\n",
    "L5 = L5.sum()\n",
    "\n",
    "L5.reset_index(inplace=True)\n",
    "L5.rename(columns={'L5': 'clade_name'},inplace=True)"
   ]
  },
  {
   "cell_type": "code",
   "execution_count": 32,
   "id": "309211cb",
   "metadata": {},
   "outputs": [],
   "source": [
    "x = pd.concat([L1, L2, L3, L4, L5])"
   ]
  },
  {
   "cell_type": "code",
   "execution_count": 33,
   "id": "23f8f3c0",
   "metadata": {},
   "outputs": [],
   "source": [
    "x.set_index('clade_name', inplace=True)"
   ]
  },
  {
   "cell_type": "code",
   "execution_count": 34,
   "id": "0ef8bb5d",
   "metadata": {},
   "outputs": [],
   "source": [
    "x = x.loc[(x.sum(axis=1) > 0)]"
   ]
  },
  {
   "cell_type": "code",
   "execution_count": 35,
   "id": "f561b771",
   "metadata": {},
   "outputs": [],
   "source": [
    "x.reset_index(inplace=True)"
   ]
  },
  {
   "cell_type": "code",
   "execution_count": 36,
   "id": "80eca0d3",
   "metadata": {},
   "outputs": [],
   "source": [
    "x = x.transpose()"
   ]
  },
  {
   "cell_type": "code",
   "execution_count": 37,
   "id": "16f3e437",
   "metadata": {},
   "outputs": [],
   "source": [
    "new_header = x.iloc[0] #grab the first row for the header\n",
    "x = x[1:] #take the data less the header row\n",
    "x.columns = new_header #set the header row as the df header"
   ]
  },
  {
   "cell_type": "code",
   "execution_count": 38,
   "id": "e6b57702",
   "metadata": {},
   "outputs": [],
   "source": [
    "x.reset_index(inplace=True)"
   ]
  },
  {
   "cell_type": "code",
   "execution_count": 39,
   "id": "22817f44",
   "metadata": {},
   "outputs": [],
   "source": [
    "x.rename(columns={'index': 'SEQN'},inplace=True)"
   ]
  },
  {
   "cell_type": "code",
   "execution_count": 40,
   "id": "4a6a16d2",
   "metadata": {},
   "outputs": [],
   "source": [
    "x.SEQN = x.SEQN.astype(int)"
   ]
  },
  {
   "cell_type": "code",
   "execution_count": 42,
   "id": "5e639713",
   "metadata": {},
   "outputs": [],
   "source": [
    "x = x.merge(cov, on='SEQN', how='left')"
   ]
  },
  {
   "cell_type": "code",
   "execution_count": 43,
   "id": "e473750b",
   "metadata": {},
   "outputs": [],
   "source": [
    "y_all = pd.read_csv('../../data/00/crp_class_target.csv') \n",
    "sw_all = pd.read_csv('../../data/00/wweia_wts.csv')"
   ]
  },
  {
   "cell_type": "code",
   "execution_count": 44,
   "id": "72eaf70a",
   "metadata": {},
   "outputs": [],
   "source": [
    "y_all.SEQN = y_all.SEQN.astype(int)"
   ]
  },
  {
   "cell_type": "code",
   "execution_count": 45,
   "id": "417d50a7",
   "metadata": {},
   "outputs": [],
   "source": [
    "y_test = y_all[y_all['SEQN'].isin(x['SEQN'])]"
   ]
  },
  {
   "cell_type": "code",
   "execution_count": 46,
   "id": "9b4c1478",
   "metadata": {},
   "outputs": [],
   "source": [
    "x = x[x['SEQN'].isin(y_test['SEQN'])]"
   ]
  },
  {
   "cell_type": "code",
   "execution_count": 47,
   "id": "2ed0d23d",
   "metadata": {},
   "outputs": [],
   "source": [
    "y_train = y_all[~y_all['SEQN'].isin(x['SEQN'])]"
   ]
  },
  {
   "cell_type": "code",
   "execution_count": 48,
   "id": "7fbe9273",
   "metadata": {},
   "outputs": [],
   "source": [
    "y_test.to_csv('../../data/04/processed_for_ml/binary_class/y_test_class.csv',index=None)\n",
    "y_train.to_csv('../../data/04/processed_for_ml/binary_class/y_train_class.csv',index=None)"
   ]
  },
  {
   "cell_type": "code",
   "execution_count": 49,
   "id": "9f365a40",
   "metadata": {},
   "outputs": [],
   "source": [
    "x.to_csv('../../data/04/processed_for_ml/binary_class/x_test_no_sf.csv',index=None)"
   ]
  },
  {
   "cell_type": "code",
   "execution_count": 50,
   "id": "b0b4337c",
   "metadata": {},
   "outputs": [],
   "source": [
    "# save diet features for ML\n",
    "x[['SEQN', 'l1_eggs', 'l1_meat_poultry_fish_and_mixtures',\n",
    "       'l2_alcoholic_beverages', 'l2_darkgreen_vegetables', 'l2_dried_fruits',\n",
    "       'l2_fats', 'l2_nonalcoholic_beverages', 'l2_pastas_cooked_cereals',\n",
    "       'l2_seeds_and_seed_mixtures', 'l2_tomatoes_and_tomato_mixtures',\n",
    "       'l3_milk_cow', 'l3_other_vegetables_cooked',\n",
    "       'l3_white_potatoes_baked_and_boiled', 'l4_canola_oil', 'l5_carrots_raw',\n",
    "       'l5_garlic', 'l5_soy_flour']].to_csv('../../data/04/processed_for_ml/binary_class/x_test_no_sf_diet.csv',index=None)"
   ]
  },
  {
   "cell_type": "code",
   "execution_count": 51,
   "id": "d39109f3",
   "metadata": {},
   "outputs": [
    {
     "name": "stdout",
     "output_type": "stream",
     "text": [
      "x_test (2582, 38)\n",
      "x_train (10327, 38)\n",
      "y_test (2582, 2)\n",
      "y_train (10327, 2)\n"
     ]
    }
   ],
   "source": [
    "print('x_test', x.shape)\n",
    "print('x_train', crp_train_out.shape)\n",
    "print('y_test', y_test.shape)\n",
    "print('y_train', y_train.shape)"
   ]
  }
 ],
 "metadata": {
  "kernelspec": {
   "display_name": "Python 3 (ipykernel)",
   "language": "python",
   "name": "python3"
  },
  "language_info": {
   "codemirror_mode": {
    "name": "ipython",
    "version": 3
   },
   "file_extension": ".py",
   "mimetype": "text/x-python",
   "name": "python",
   "nbconvert_exporter": "python",
   "pygments_lexer": "ipython3",
   "version": "3.11.5"
  }
 },
 "nbformat": 4,
 "nbformat_minor": 5
}
